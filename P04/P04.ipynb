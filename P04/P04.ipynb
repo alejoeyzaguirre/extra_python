{
 "cells": [
  {
   "cell_type": "markdown",
   "metadata": {},
   "source": [
    "# Actividad Práctica 04: \n",
    "# Análisis Exploratorio de Datos"
   ]
  },
  {
   "cell_type": "markdown",
   "metadata": {},
   "source": [
    "**José Alejo Eyzaguirre**\n",
    "\n",
    "Me aparecieron ciertos errores en el código, pero que me permitían correr y seguir. No los pesqué y seguí nomas."
   ]
  },
  {
   "cell_type": "code",
   "execution_count": 246,
   "metadata": {},
   "outputs": [],
   "source": [
    "import numpy as np\n",
    "import pandas as pd\n",
    "from IPython.display import display \n",
    "import matplotlib.pyplot as plt"
   ]
  },
  {
   "cell_type": "markdown",
   "metadata": {},
   "source": [
    "## Misión 1: Completando Información\n",
    "\n",
    "En la siguiente etapa debo más que nada hacer la pega de Limpieza y Depuración de Datos. Para ello debo inicialmente importar la base de datos y de pasada convertirla en un DataFrame."
   ]
  },
  {
   "cell_type": "code",
   "execution_count": 2,
   "metadata": {},
   "outputs": [
    {
     "data": {
      "text/html": [
       "<div>\n",
       "<style scoped>\n",
       "    .dataframe tbody tr th:only-of-type {\n",
       "        vertical-align: middle;\n",
       "    }\n",
       "\n",
       "    .dataframe tbody tr th {\n",
       "        vertical-align: top;\n",
       "    }\n",
       "\n",
       "    .dataframe thead th {\n",
       "        text-align: right;\n",
       "    }\n",
       "</style>\n",
       "<table border=\"1\" class=\"dataframe\">\n",
       "  <thead>\n",
       "    <tr style=\"text-align: right;\">\n",
       "      <th></th>\n",
       "      <th>Unnamed: 0</th>\n",
       "      <th>species</th>\n",
       "      <th>island</th>\n",
       "      <th>culmen_length_mm</th>\n",
       "      <th>culmen_depth_mm</th>\n",
       "      <th>flipper_length_mm</th>\n",
       "      <th>body_mass_g</th>\n",
       "      <th>sex</th>\n",
       "    </tr>\n",
       "  </thead>\n",
       "  <tbody>\n",
       "    <tr>\n",
       "      <th>0</th>\n",
       "      <td>0</td>\n",
       "      <td>Adelie</td>\n",
       "      <td>Torgersen</td>\n",
       "      <td>39.1</td>\n",
       "      <td>18.7</td>\n",
       "      <td>181.0</td>\n",
       "      <td>3750.0</td>\n",
       "      <td>MALE</td>\n",
       "    </tr>\n",
       "    <tr>\n",
       "      <th>1</th>\n",
       "      <td>1</td>\n",
       "      <td>Adelie</td>\n",
       "      <td>Torgersen</td>\n",
       "      <td>39.5</td>\n",
       "      <td>17.4</td>\n",
       "      <td>186.0</td>\n",
       "      <td>3800.0</td>\n",
       "      <td>FEMALE</td>\n",
       "    </tr>\n",
       "    <tr>\n",
       "      <th>2</th>\n",
       "      <td>2</td>\n",
       "      <td>Adelie</td>\n",
       "      <td>Torgersen</td>\n",
       "      <td>40.3</td>\n",
       "      <td>18.0</td>\n",
       "      <td>195.0</td>\n",
       "      <td>3250.0</td>\n",
       "      <td>FEMALE</td>\n",
       "    </tr>\n",
       "    <tr>\n",
       "      <th>3</th>\n",
       "      <td>3</td>\n",
       "      <td>Adelie</td>\n",
       "      <td>Torgersen</td>\n",
       "      <td>NaN</td>\n",
       "      <td>NaN</td>\n",
       "      <td>NaN</td>\n",
       "      <td>NaN</td>\n",
       "      <td>NaN</td>\n",
       "    </tr>\n",
       "    <tr>\n",
       "      <th>4</th>\n",
       "      <td>4</td>\n",
       "      <td>Adelie</td>\n",
       "      <td>Torgersen</td>\n",
       "      <td>36.7</td>\n",
       "      <td>19.3</td>\n",
       "      <td>193.0</td>\n",
       "      <td>3450.0</td>\n",
       "      <td>FEMALE</td>\n",
       "    </tr>\n",
       "  </tbody>\n",
       "</table>\n",
       "</div>"
      ],
      "text/plain": [
       "   Unnamed: 0 species     island  culmen_length_mm  culmen_depth_mm  \\\n",
       "0           0  Adelie  Torgersen              39.1             18.7   \n",
       "1           1  Adelie  Torgersen              39.5             17.4   \n",
       "2           2  Adelie  Torgersen              40.3             18.0   \n",
       "3           3  Adelie  Torgersen               NaN              NaN   \n",
       "4           4  Adelie  Torgersen              36.7             19.3   \n",
       "\n",
       "   flipper_length_mm  body_mass_g     sex  \n",
       "0              181.0       3750.0    MALE  \n",
       "1              186.0       3800.0  FEMALE  \n",
       "2              195.0       3250.0  FEMALE  \n",
       "3                NaN          NaN     NaN  \n",
       "4              193.0       3450.0  FEMALE  "
      ]
     },
     "execution_count": 2,
     "metadata": {},
     "output_type": "execute_result"
    }
   ],
   "source": [
    "data = pd.read_csv('/Users/alejoeyzaguirre/P.C.H/penguins.csv', sep = ',')\n",
    "data.head()"
   ]
  },
  {
   "cell_type": "markdown",
   "metadata": {},
   "source": [
    "Aprovecho rápidamente de observar un poco los datos que se tienen por columna, todo esto con el objetivo de familiarizarme con la base de datos."
   ]
  },
  {
   "cell_type": "code",
   "execution_count": 3,
   "metadata": {},
   "outputs": [
    {
     "data": {
      "text/html": [
       "<div>\n",
       "<style scoped>\n",
       "    .dataframe tbody tr th:only-of-type {\n",
       "        vertical-align: middle;\n",
       "    }\n",
       "\n",
       "    .dataframe tbody tr th {\n",
       "        vertical-align: top;\n",
       "    }\n",
       "\n",
       "    .dataframe thead th {\n",
       "        text-align: right;\n",
       "    }\n",
       "</style>\n",
       "<table border=\"1\" class=\"dataframe\">\n",
       "  <thead>\n",
       "    <tr style=\"text-align: right;\">\n",
       "      <th></th>\n",
       "      <th>Unnamed: 0</th>\n",
       "      <th>culmen_length_mm</th>\n",
       "      <th>culmen_depth_mm</th>\n",
       "      <th>flipper_length_mm</th>\n",
       "      <th>body_mass_g</th>\n",
       "    </tr>\n",
       "  </thead>\n",
       "  <tbody>\n",
       "    <tr>\n",
       "      <th>count</th>\n",
       "      <td>344.000000</td>\n",
       "      <td>342.000000</td>\n",
       "      <td>342.000000</td>\n",
       "      <td>308.000000</td>\n",
       "      <td>342.000000</td>\n",
       "    </tr>\n",
       "    <tr>\n",
       "      <th>mean</th>\n",
       "      <td>171.500000</td>\n",
       "      <td>43.921930</td>\n",
       "      <td>17.151170</td>\n",
       "      <td>200.795455</td>\n",
       "      <td>4201.754386</td>\n",
       "    </tr>\n",
       "    <tr>\n",
       "      <th>std</th>\n",
       "      <td>99.448479</td>\n",
       "      <td>5.459584</td>\n",
       "      <td>1.974793</td>\n",
       "      <td>14.084218</td>\n",
       "      <td>801.954536</td>\n",
       "    </tr>\n",
       "    <tr>\n",
       "      <th>min</th>\n",
       "      <td>0.000000</td>\n",
       "      <td>32.100000</td>\n",
       "      <td>13.100000</td>\n",
       "      <td>172.000000</td>\n",
       "      <td>2700.000000</td>\n",
       "    </tr>\n",
       "    <tr>\n",
       "      <th>25%</th>\n",
       "      <td>85.750000</td>\n",
       "      <td>39.225000</td>\n",
       "      <td>15.600000</td>\n",
       "      <td>190.000000</td>\n",
       "      <td>3550.000000</td>\n",
       "    </tr>\n",
       "    <tr>\n",
       "      <th>50%</th>\n",
       "      <td>171.500000</td>\n",
       "      <td>44.450000</td>\n",
       "      <td>17.300000</td>\n",
       "      <td>197.000000</td>\n",
       "      <td>4050.000000</td>\n",
       "    </tr>\n",
       "    <tr>\n",
       "      <th>75%</th>\n",
       "      <td>257.250000</td>\n",
       "      <td>48.500000</td>\n",
       "      <td>18.700000</td>\n",
       "      <td>214.000000</td>\n",
       "      <td>4750.000000</td>\n",
       "    </tr>\n",
       "    <tr>\n",
       "      <th>max</th>\n",
       "      <td>343.000000</td>\n",
       "      <td>59.600000</td>\n",
       "      <td>21.500000</td>\n",
       "      <td>231.000000</td>\n",
       "      <td>6300.000000</td>\n",
       "    </tr>\n",
       "    <tr>\n",
       "      <th>var</th>\n",
       "      <td>9890.000000</td>\n",
       "      <td>29.807054</td>\n",
       "      <td>3.899808</td>\n",
       "      <td>198.365191</td>\n",
       "      <td>643131.077327</td>\n",
       "    </tr>\n",
       "    <tr>\n",
       "      <th>skew</th>\n",
       "      <td>0.000000</td>\n",
       "      <td>0.053118</td>\n",
       "      <td>-0.143465</td>\n",
       "      <td>0.368662</td>\n",
       "      <td>0.470329</td>\n",
       "    </tr>\n",
       "    <tr>\n",
       "      <th>kurt</th>\n",
       "      <td>-1.200000</td>\n",
       "      <td>-0.876027</td>\n",
       "      <td>-0.906866</td>\n",
       "      <td>-0.969446</td>\n",
       "      <td>-0.719222</td>\n",
       "    </tr>\n",
       "  </tbody>\n",
       "</table>\n",
       "</div>"
      ],
      "text/plain": [
       "        Unnamed: 0  culmen_length_mm  culmen_depth_mm  flipper_length_mm  \\\n",
       "count   344.000000        342.000000       342.000000         308.000000   \n",
       "mean    171.500000         43.921930        17.151170         200.795455   \n",
       "std      99.448479          5.459584         1.974793          14.084218   \n",
       "min       0.000000         32.100000        13.100000         172.000000   \n",
       "25%      85.750000         39.225000        15.600000         190.000000   \n",
       "50%     171.500000         44.450000        17.300000         197.000000   \n",
       "75%     257.250000         48.500000        18.700000         214.000000   \n",
       "max     343.000000         59.600000        21.500000         231.000000   \n",
       "var    9890.000000         29.807054         3.899808         198.365191   \n",
       "skew      0.000000          0.053118        -0.143465           0.368662   \n",
       "kurt     -1.200000         -0.876027        -0.906866          -0.969446   \n",
       "\n",
       "         body_mass_g  \n",
       "count     342.000000  \n",
       "mean     4201.754386  \n",
       "std       801.954536  \n",
       "min      2700.000000  \n",
       "25%      3550.000000  \n",
       "50%      4050.000000  \n",
       "75%      4750.000000  \n",
       "max      6300.000000  \n",
       "var    643131.077327  \n",
       "skew        0.470329  \n",
       "kurt       -0.719222  "
      ]
     },
     "metadata": {},
     "output_type": "display_data"
    }
   ],
   "source": [
    "stats = data.describe()\n",
    "stats.loc['var'] = data.var().tolist()\n",
    "stats.loc['skew'] = data.skew().tolist()\n",
    "stats.loc['kurt'] = data.kurtosis().tolist()\n",
    "\n",
    "display(stats)"
   ]
  },
  {
   "cell_type": "markdown",
   "metadata": {},
   "source": [
    "Además aprovechamos de ver la dispersión de manera gráfica con gráficos de caja y bigote, para cada una de las variables cuantitativas que nos dan en la base de datos:\n",
    "\n",
    "**1. Culmen Length (mm):**"
   ]
  },
  {
   "cell_type": "code",
   "execution_count": 4,
   "metadata": {},
   "outputs": [
    {
     "data": {
      "image/png": "[encoded data removed]",
      "text/plain": [
       "<Figure size 432x288 with 1 Axes>"
      ]
     },
     "metadata": {
      "needs_background": "light"
     },
     "output_type": "display_data"
    },
    {
     "data": {
      "image/png": "[encoded data removed]",
      "text/plain": [
       "<Figure size 432x288 with 1 Axes>"
      ]
     },
     "metadata": {
      "needs_background": "light"
     },
     "output_type": "display_data"
    }
   ],
   "source": [
    "data.boxplot(column='culmen_length_mm', color = \"blue\", patch_artist = \"False\")\n",
    "plt.show()\n",
    "\n",
    "data['culmen_length_mm'].hist(bins=50, color = \"green\")\n",
    "plt.show()"
   ]
  },
  {
   "cell_type": "markdown",
   "metadata": {},
   "source": [
    "**2. Culmen Depth (mm):**"
   ]
  },
  {
   "cell_type": "code",
   "execution_count": 5,
   "metadata": {},
   "outputs": [
    {
     "data": {
      "image/png": "[encoded data removed]",
      "text/plain": [
       "<Figure size 432x288 with 1 Axes>"
      ]
     },
     "metadata": {
      "needs_background": "light"
     },
     "output_type": "display_data"
    },
    {
     "data": {
      "image/png": "[encoded data removed]",
      "text/plain": [
       "<Figure size 432x288 with 1 Axes>"
      ]
     },
     "metadata": {
      "needs_background": "light"
     },
     "output_type": "display_data"
    }
   ],
   "source": [
    "data.boxplot(column='culmen_depth_mm', color = \"grey\", patch_artist = \"False\")\n",
    "plt.show()\n",
    "\n",
    "data['culmen_depth_mm'].hist(bins=50, color = \"tomato\")\n",
    "plt.show()"
   ]
  },
  {
   "cell_type": "markdown",
   "metadata": {},
   "source": [
    "**3.Flipper Length (mm):**"
   ]
  },
  {
   "cell_type": "code",
   "execution_count": 6,
   "metadata": {},
   "outputs": [
    {
     "data": {
      "image/png": "[encoded data removed]",
      "text/plain": [
       "<Figure size 432x288 with 1 Axes>"
      ]
     },
     "metadata": {
      "needs_background": "light"
     },
     "output_type": "display_data"
    },
    {
     "data": {
      "image/png": "[encoded data removed]",
      "text/plain": [
       "<Figure size 432x288 with 1 Axes>"
      ]
     },
     "metadata": {
      "needs_background": "light"
     },
     "output_type": "display_data"
    }
   ],
   "source": [
    "data.boxplot(column='flipper_length_mm', color = \"skyblue\", patch_artist = \"True\")\n",
    "plt.show()\n",
    "\n",
    "data['flipper_length_mm'].hist(bins=50, color = \"red\")\n",
    "plt.show()"
   ]
  },
  {
   "cell_type": "markdown",
   "metadata": {},
   "source": [
    "**4. Body Mass (g):**\n",
    "\n"
   ]
  },
  {
   "cell_type": "code",
   "execution_count": 63,
   "metadata": {},
   "outputs": [
    {
     "data": {
      "image/png": "[encoded data removed]",
      "text/plain": [
       "<Figure size 432x288 with 1 Axes>"
      ]
     },
     "metadata": {
      "needs_background": "light"
     },
     "output_type": "display_data"
    },
    {
     "data": {
      "image/png": "[encoded data removed]",
      "text/plain": [
       "<Figure size 432x288 with 1 Axes>"
      ]
     },
     "metadata": {
      "needs_background": "light"
     },
     "output_type": "display_data"
    }
   ],
   "source": [
    "data.boxplot(column='body_mass_g', color = \"green\", patch_artist = \"True\")\n",
    "plt.show()\n",
    "\n",
    "data['body_mass_g'].hist(bins=50, color = \"brown\")\n",
    "plt.show()"
   ]
  },
  {
   "cell_type": "markdown",
   "metadata": {},
   "source": [
    "Es interesante ver y entender mejor cada una de nuestras features. Por un lado tenemos, variables con comportamientos, que dentro de lo poco que se de pingüinos, al parecer se comportan de manera regular. Tanto en temas de dispersión como en temas de medias. Viendo los boxplots de cada variable cuantitativa, notamos que no existen outliers (valores fuera de los bigotes). Sin embargo tenemos distribuciones no muy bien comportadas (no normales), por lo que habrá que tener ojo al reemplazar los valores nulos.\n",
    "\n",
    "Sobre las variables cualitativas, podemos ver lo siguiente:\n",
    "\n",
    "**1. Especies:**"
   ]
  },
  {
   "cell_type": "code",
   "execution_count": 8,
   "metadata": {},
   "outputs": [
    {
     "data": {
      "text/plain": [
       "Adelie       152\n",
       "Gentoo       124\n",
       "Chinstrap     68\n",
       "Name: species, dtype: int64"
      ]
     },
     "execution_count": 8,
     "metadata": {},
     "output_type": "execute_result"
    }
   ],
   "source": [
    "data[\"species\"].value_counts()"
   ]
  },
  {
   "cell_type": "markdown",
   "metadata": {},
   "source": [
    "**2. Isla:**"
   ]
  },
  {
   "cell_type": "code",
   "execution_count": 9,
   "metadata": {},
   "outputs": [
    {
     "data": {
      "text/plain": [
       "Biscoe       168\n",
       "Dream        124\n",
       "Torgersen     52\n",
       "Name: island, dtype: int64"
      ]
     },
     "execution_count": 9,
     "metadata": {},
     "output_type": "execute_result"
    }
   ],
   "source": [
    "data[\"island\"].value_counts()"
   ]
  },
  {
   "cell_type": "markdown",
   "metadata": {},
   "source": [
    "**3. Sexo:**"
   ]
  },
  {
   "cell_type": "code",
   "execution_count": 10,
   "metadata": {},
   "outputs": [
    {
     "data": {
      "text/plain": [
       "MALE      168\n",
       "FEMALE    165\n",
       ".           1\n",
       "Name: sex, dtype: int64"
      ]
     },
     "execution_count": 10,
     "metadata": {},
     "output_type": "execute_result"
    }
   ],
   "source": [
    "data[\"sex\"].value_counts()"
   ]
  },
  {
   "cell_type": "markdown",
   "metadata": {},
   "source": [
    "Notamos que Sex tiene un dato malo! Lo cambiamos de inmediato."
   ]
  },
  {
   "cell_type": "code",
   "execution_count": 11,
   "metadata": {},
   "outputs": [],
   "source": [
    "data = data.replace(\".\", np.nan)"
   ]
  },
  {
   "cell_type": "code",
   "execution_count": 13,
   "metadata": {},
   "outputs": [
    {
     "data": {
      "text/plain": [
       "MALE      168\n",
       "FEMALE    165\n",
       "Name: sex, dtype: int64"
      ]
     },
     "execution_count": 13,
     "metadata": {},
     "output_type": "execute_result"
    }
   ],
   "source": [
    "data[\"sex\"].value_counts()"
   ]
  },
  {
   "cell_type": "markdown",
   "metadata": {},
   "source": [
    "Ya habiendo arreglado esa mala imputación procedemos!"
   ]
  },
  {
   "cell_type": "markdown",
   "metadata": {},
   "source": [
    "Habiendo realizado la importación, y este rápido análisis de las columnas de la base de datos, debo ahora contabilizar los datos vacíos de la base de datos. Para ello uso la función que se encuentra en la Materia de clases que permite contabilizar el número de datos vacíos por columna o feature."
   ]
  },
  {
   "cell_type": "code",
   "execution_count": 14,
   "metadata": {},
   "outputs": [
    {
     "data": {
      "text/plain": [
       "Unnamed: 0            0\n",
       "species               0\n",
       "island                0\n",
       "culmen_length_mm      2\n",
       "culmen_depth_mm       2\n",
       "flipper_length_mm    36\n",
       "body_mass_g           2\n",
       "sex                  11\n",
       "dtype: int64"
      ]
     },
     "execution_count": 14,
     "metadata": {},
     "output_type": "execute_result"
    }
   ],
   "source": [
    "data.apply(lambda x: sum(x.isnull()),axis=0)"
   ]
  },
  {
   "cell_type": "markdown",
   "metadata": {},
   "source": [
    "### Tratando Valores Vacíos (NaN):"
   ]
  },
  {
   "cell_type": "markdown",
   "metadata": {},
   "source": [
    "Habiendome ya familiarizado con los datos, puedo ahora proceder de manera más fácil a reemplazar los datos vacíos (NaN). Para ello notamos que se debe hacer este proceso de reemplazo con distintos criterios dependiendo de los tipos de variables y de sus características.\n",
    "\n",
    "Cómo se vió en clases, se debe primero dividir la base de datos entre data de entrenamiento y data de validación. Por qué se debe hacer esto, porque para reemplazar los valores vacíos de la data de testeo, se debe antes tomar decisiones a partir de la data de entrenamiento. Ya que, como dijo el profesor Hans Löbel en clases: *Las decisiones de limpieza y depuración se hacen con la info del set de entrenamiento. El set de Testeo es víctima de las decisiones tomadas para el set de entrenamiento*.\n",
    "\n",
    "Por ello procedemos en primer lugar a dividir la data de forma aleatoria en un set de entrenamiento y en uno de testeo, con el comando usado en la ayudantía."
   ]
  },
  {
   "cell_type": "code",
   "execution_count": 69,
   "metadata": {},
   "outputs": [],
   "source": [
    "from sklearn.model_selection import train_test_split\n",
    "\n",
    "train, test = train_test_split(data, test_size=0.3)"
   ]
  },
  {
   "cell_type": "code",
   "execution_count": 70,
   "metadata": {},
   "outputs": [
    {
     "data": {
      "text/html": [
       "<div>\n",
       "<style scoped>\n",
       "    .dataframe tbody tr th:only-of-type {\n",
       "        vertical-align: middle;\n",
       "    }\n",
       "\n",
       "    .dataframe tbody tr th {\n",
       "        vertical-align: top;\n",
       "    }\n",
       "\n",
       "    .dataframe thead th {\n",
       "        text-align: right;\n",
       "    }\n",
       "</style>\n",
       "<table border=\"1\" class=\"dataframe\">\n",
       "  <thead>\n",
       "    <tr style=\"text-align: right;\">\n",
       "      <th></th>\n",
       "      <th>Unnamed: 0</th>\n",
       "      <th>species</th>\n",
       "      <th>island</th>\n",
       "      <th>culmen_length_mm</th>\n",
       "      <th>culmen_depth_mm</th>\n",
       "      <th>flipper_length_mm</th>\n",
       "      <th>body_mass_g</th>\n",
       "      <th>sex</th>\n",
       "    </tr>\n",
       "  </thead>\n",
       "  <tbody>\n",
       "    <tr>\n",
       "      <th>327</th>\n",
       "      <td>327</td>\n",
       "      <td>Gentoo</td>\n",
       "      <td>Biscoe</td>\n",
       "      <td>53.4</td>\n",
       "      <td>15.8</td>\n",
       "      <td>219.0</td>\n",
       "      <td>5500.0</td>\n",
       "      <td>MALE</td>\n",
       "    </tr>\n",
       "    <tr>\n",
       "      <th>227</th>\n",
       "      <td>227</td>\n",
       "      <td>Gentoo</td>\n",
       "      <td>Biscoe</td>\n",
       "      <td>46.7</td>\n",
       "      <td>15.3</td>\n",
       "      <td>219.0</td>\n",
       "      <td>5200.0</td>\n",
       "      <td>MALE</td>\n",
       "    </tr>\n",
       "    <tr>\n",
       "      <th>314</th>\n",
       "      <td>314</td>\n",
       "      <td>Gentoo</td>\n",
       "      <td>Biscoe</td>\n",
       "      <td>44.5</td>\n",
       "      <td>14.7</td>\n",
       "      <td>214.0</td>\n",
       "      <td>4850.0</td>\n",
       "      <td>FEMALE</td>\n",
       "    </tr>\n",
       "    <tr>\n",
       "      <th>268</th>\n",
       "      <td>268</td>\n",
       "      <td>Gentoo</td>\n",
       "      <td>Biscoe</td>\n",
       "      <td>44.9</td>\n",
       "      <td>13.3</td>\n",
       "      <td>213.0</td>\n",
       "      <td>5100.0</td>\n",
       "      <td>FEMALE</td>\n",
       "    </tr>\n",
       "    <tr>\n",
       "      <th>297</th>\n",
       "      <td>297</td>\n",
       "      <td>Gentoo</td>\n",
       "      <td>Biscoe</td>\n",
       "      <td>51.1</td>\n",
       "      <td>16.3</td>\n",
       "      <td>220.0</td>\n",
       "      <td>6000.0</td>\n",
       "      <td>MALE</td>\n",
       "    </tr>\n",
       "    <tr>\n",
       "      <th>...</th>\n",
       "      <td>...</td>\n",
       "      <td>...</td>\n",
       "      <td>...</td>\n",
       "      <td>...</td>\n",
       "      <td>...</td>\n",
       "      <td>...</td>\n",
       "      <td>...</td>\n",
       "      <td>...</td>\n",
       "    </tr>\n",
       "    <tr>\n",
       "      <th>107</th>\n",
       "      <td>107</td>\n",
       "      <td>Adelie</td>\n",
       "      <td>Biscoe</td>\n",
       "      <td>38.2</td>\n",
       "      <td>20.0</td>\n",
       "      <td>190.0</td>\n",
       "      <td>3900.0</td>\n",
       "      <td>MALE</td>\n",
       "    </tr>\n",
       "    <tr>\n",
       "      <th>4</th>\n",
       "      <td>4</td>\n",
       "      <td>Adelie</td>\n",
       "      <td>Torgersen</td>\n",
       "      <td>36.7</td>\n",
       "      <td>19.3</td>\n",
       "      <td>193.0</td>\n",
       "      <td>3450.0</td>\n",
       "      <td>FEMALE</td>\n",
       "    </tr>\n",
       "    <tr>\n",
       "      <th>213</th>\n",
       "      <td>213</td>\n",
       "      <td>Chinstrap</td>\n",
       "      <td>Dream</td>\n",
       "      <td>46.8</td>\n",
       "      <td>16.5</td>\n",
       "      <td>189.0</td>\n",
       "      <td>3650.0</td>\n",
       "      <td>FEMALE</td>\n",
       "    </tr>\n",
       "    <tr>\n",
       "      <th>260</th>\n",
       "      <td>260</td>\n",
       "      <td>Gentoo</td>\n",
       "      <td>Biscoe</td>\n",
       "      <td>42.7</td>\n",
       "      <td>13.7</td>\n",
       "      <td>208.0</td>\n",
       "      <td>3950.0</td>\n",
       "      <td>FEMALE</td>\n",
       "    </tr>\n",
       "    <tr>\n",
       "      <th>16</th>\n",
       "      <td>16</td>\n",
       "      <td>Adelie</td>\n",
       "      <td>Torgersen</td>\n",
       "      <td>38.7</td>\n",
       "      <td>19.0</td>\n",
       "      <td>195.0</td>\n",
       "      <td>3450.0</td>\n",
       "      <td>FEMALE</td>\n",
       "    </tr>\n",
       "  </tbody>\n",
       "</table>\n",
       "<p>240 rows × 8 columns</p>\n",
       "</div>"
      ],
      "text/plain": [
       "     Unnamed: 0    species     island  culmen_length_mm  culmen_depth_mm  \\\n",
       "327         327     Gentoo     Biscoe              53.4             15.8   \n",
       "227         227     Gentoo     Biscoe              46.7             15.3   \n",
       "314         314     Gentoo     Biscoe              44.5             14.7   \n",
       "268         268     Gentoo     Biscoe              44.9             13.3   \n",
       "297         297     Gentoo     Biscoe              51.1             16.3   \n",
       "..          ...        ...        ...               ...              ...   \n",
       "107         107     Adelie     Biscoe              38.2             20.0   \n",
       "4             4     Adelie  Torgersen              36.7             19.3   \n",
       "213         213  Chinstrap      Dream              46.8             16.5   \n",
       "260         260     Gentoo     Biscoe              42.7             13.7   \n",
       "16           16     Adelie  Torgersen              38.7             19.0   \n",
       "\n",
       "     flipper_length_mm  body_mass_g     sex  \n",
       "327              219.0       5500.0    MALE  \n",
       "227              219.0       5200.0    MALE  \n",
       "314              214.0       4850.0  FEMALE  \n",
       "268              213.0       5100.0  FEMALE  \n",
       "297              220.0       6000.0    MALE  \n",
       "..                 ...          ...     ...  \n",
       "107              190.0       3900.0    MALE  \n",
       "4                193.0       3450.0  FEMALE  \n",
       "213              189.0       3650.0  FEMALE  \n",
       "260              208.0       3950.0  FEMALE  \n",
       "16               195.0       3450.0  FEMALE  \n",
       "\n",
       "[240 rows x 8 columns]"
      ]
     },
     "execution_count": 70,
     "metadata": {},
     "output_type": "execute_result"
    }
   ],
   "source": [
    "train"
   ]
  },
  {
   "cell_type": "code",
   "execution_count": 71,
   "metadata": {},
   "outputs": [
    {
     "data": {
      "text/html": [
       "<div>\n",
       "<style scoped>\n",
       "    .dataframe tbody tr th:only-of-type {\n",
       "        vertical-align: middle;\n",
       "    }\n",
       "\n",
       "    .dataframe tbody tr th {\n",
       "        vertical-align: top;\n",
       "    }\n",
       "\n",
       "    .dataframe thead th {\n",
       "        text-align: right;\n",
       "    }\n",
       "</style>\n",
       "<table border=\"1\" class=\"dataframe\">\n",
       "  <thead>\n",
       "    <tr style=\"text-align: right;\">\n",
       "      <th></th>\n",
       "      <th>Unnamed: 0</th>\n",
       "      <th>species</th>\n",
       "      <th>island</th>\n",
       "      <th>culmen_length_mm</th>\n",
       "      <th>culmen_depth_mm</th>\n",
       "      <th>flipper_length_mm</th>\n",
       "      <th>body_mass_g</th>\n",
       "      <th>sex</th>\n",
       "    </tr>\n",
       "  </thead>\n",
       "  <tbody>\n",
       "    <tr>\n",
       "      <th>310</th>\n",
       "      <td>310</td>\n",
       "      <td>Gentoo</td>\n",
       "      <td>Biscoe</td>\n",
       "      <td>47.5</td>\n",
       "      <td>15.0</td>\n",
       "      <td>218.0</td>\n",
       "      <td>4950.0</td>\n",
       "      <td>FEMALE</td>\n",
       "    </tr>\n",
       "    <tr>\n",
       "      <th>105</th>\n",
       "      <td>105</td>\n",
       "      <td>Adelie</td>\n",
       "      <td>Biscoe</td>\n",
       "      <td>39.7</td>\n",
       "      <td>18.9</td>\n",
       "      <td>NaN</td>\n",
       "      <td>3550.0</td>\n",
       "      <td>MALE</td>\n",
       "    </tr>\n",
       "    <tr>\n",
       "      <th>274</th>\n",
       "      <td>274</td>\n",
       "      <td>Gentoo</td>\n",
       "      <td>Biscoe</td>\n",
       "      <td>46.5</td>\n",
       "      <td>14.4</td>\n",
       "      <td>217.0</td>\n",
       "      <td>4900.0</td>\n",
       "      <td>FEMALE</td>\n",
       "    </tr>\n",
       "    <tr>\n",
       "      <th>112</th>\n",
       "      <td>112</td>\n",
       "      <td>Adelie</td>\n",
       "      <td>Biscoe</td>\n",
       "      <td>39.7</td>\n",
       "      <td>17.7</td>\n",
       "      <td>193.0</td>\n",
       "      <td>3200.0</td>\n",
       "      <td>FEMALE</td>\n",
       "    </tr>\n",
       "    <tr>\n",
       "      <th>56</th>\n",
       "      <td>56</td>\n",
       "      <td>Adelie</td>\n",
       "      <td>Biscoe</td>\n",
       "      <td>39.0</td>\n",
       "      <td>17.5</td>\n",
       "      <td>NaN</td>\n",
       "      <td>3550.0</td>\n",
       "      <td>FEMALE</td>\n",
       "    </tr>\n",
       "    <tr>\n",
       "      <th>...</th>\n",
       "      <td>...</td>\n",
       "      <td>...</td>\n",
       "      <td>...</td>\n",
       "      <td>...</td>\n",
       "      <td>...</td>\n",
       "      <td>...</td>\n",
       "      <td>...</td>\n",
       "      <td>...</td>\n",
       "    </tr>\n",
       "    <tr>\n",
       "      <th>171</th>\n",
       "      <td>171</td>\n",
       "      <td>Chinstrap</td>\n",
       "      <td>Dream</td>\n",
       "      <td>49.2</td>\n",
       "      <td>18.2</td>\n",
       "      <td>195.0</td>\n",
       "      <td>4400.0</td>\n",
       "      <td>MALE</td>\n",
       "    </tr>\n",
       "    <tr>\n",
       "      <th>8</th>\n",
       "      <td>8</td>\n",
       "      <td>Adelie</td>\n",
       "      <td>Torgersen</td>\n",
       "      <td>34.1</td>\n",
       "      <td>18.1</td>\n",
       "      <td>193.0</td>\n",
       "      <td>3475.0</td>\n",
       "      <td>NaN</td>\n",
       "    </tr>\n",
       "    <tr>\n",
       "      <th>305</th>\n",
       "      <td>305</td>\n",
       "      <td>Gentoo</td>\n",
       "      <td>Biscoe</td>\n",
       "      <td>50.8</td>\n",
       "      <td>17.3</td>\n",
       "      <td>228.0</td>\n",
       "      <td>5600.0</td>\n",
       "      <td>MALE</td>\n",
       "    </tr>\n",
       "    <tr>\n",
       "      <th>332</th>\n",
       "      <td>332</td>\n",
       "      <td>Gentoo</td>\n",
       "      <td>Biscoe</td>\n",
       "      <td>43.5</td>\n",
       "      <td>15.2</td>\n",
       "      <td>213.0</td>\n",
       "      <td>4650.0</td>\n",
       "      <td>FEMALE</td>\n",
       "    </tr>\n",
       "    <tr>\n",
       "      <th>320</th>\n",
       "      <td>320</td>\n",
       "      <td>Gentoo</td>\n",
       "      <td>Biscoe</td>\n",
       "      <td>48.5</td>\n",
       "      <td>15.0</td>\n",
       "      <td>NaN</td>\n",
       "      <td>4850.0</td>\n",
       "      <td>FEMALE</td>\n",
       "    </tr>\n",
       "  </tbody>\n",
       "</table>\n",
       "<p>104 rows × 8 columns</p>\n",
       "</div>"
      ],
      "text/plain": [
       "     Unnamed: 0    species     island  culmen_length_mm  culmen_depth_mm  \\\n",
       "310         310     Gentoo     Biscoe              47.5             15.0   \n",
       "105         105     Adelie     Biscoe              39.7             18.9   \n",
       "274         274     Gentoo     Biscoe              46.5             14.4   \n",
       "112         112     Adelie     Biscoe              39.7             17.7   \n",
       "56           56     Adelie     Biscoe              39.0             17.5   \n",
       "..          ...        ...        ...               ...              ...   \n",
       "171         171  Chinstrap      Dream              49.2             18.2   \n",
       "8             8     Adelie  Torgersen              34.1             18.1   \n",
       "305         305     Gentoo     Biscoe              50.8             17.3   \n",
       "332         332     Gentoo     Biscoe              43.5             15.2   \n",
       "320         320     Gentoo     Biscoe              48.5             15.0   \n",
       "\n",
       "     flipper_length_mm  body_mass_g     sex  \n",
       "310              218.0       4950.0  FEMALE  \n",
       "105                NaN       3550.0    MALE  \n",
       "274              217.0       4900.0  FEMALE  \n",
       "112              193.0       3200.0  FEMALE  \n",
       "56                 NaN       3550.0  FEMALE  \n",
       "..                 ...          ...     ...  \n",
       "171              195.0       4400.0    MALE  \n",
       "8                193.0       3475.0     NaN  \n",
       "305              228.0       5600.0    MALE  \n",
       "332              213.0       4650.0  FEMALE  \n",
       "320                NaN       4850.0  FEMALE  \n",
       "\n",
       "[104 rows x 8 columns]"
      ]
     },
     "execution_count": 71,
     "metadata": {},
     "output_type": "execute_result"
    }
   ],
   "source": [
    "test"
   ]
  },
  {
   "cell_type": "markdown",
   "metadata": {},
   "source": [
    "Entonces analizamos ahora la data de entrenamiento, en especial los valores vacíos existentes en esa base."
   ]
  },
  {
   "cell_type": "code",
   "execution_count": 72,
   "metadata": {},
   "outputs": [
    {
     "data": {
      "text/plain": [
       "Unnamed: 0            0\n",
       "species               0\n",
       "island                0\n",
       "culmen_length_mm      2\n",
       "culmen_depth_mm       2\n",
       "flipper_length_mm    21\n",
       "body_mass_g           2\n",
       "sex                   9\n",
       "dtype: int64"
      ]
     },
     "execution_count": 72,
     "metadata": {},
     "output_type": "execute_result"
    }
   ],
   "source": [
    "train.apply(lambda x: sum(x.isnull()),axis=0)"
   ]
  },
  {
   "cell_type": "code",
   "execution_count": 73,
   "metadata": {},
   "outputs": [
    {
     "data": {
      "text/plain": [
       "Unnamed: 0            0\n",
       "species               0\n",
       "island                0\n",
       "culmen_length_mm      0\n",
       "culmen_depth_mm       0\n",
       "flipper_length_mm    15\n",
       "body_mass_g           0\n",
       "sex                   2\n",
       "dtype: int64"
      ]
     },
     "execution_count": 73,
     "metadata": {},
     "output_type": "execute_result"
    }
   ],
   "source": [
    "test.apply(lambda x: sum(x.isnull()),axis=0)"
   ]
  },
  {
   "cell_type": "code",
   "execution_count": 74,
   "metadata": {},
   "outputs": [
    {
     "data": {
      "text/html": [
       "<div>\n",
       "<style scoped>\n",
       "    .dataframe tbody tr th:only-of-type {\n",
       "        vertical-align: middle;\n",
       "    }\n",
       "\n",
       "    .dataframe tbody tr th {\n",
       "        vertical-align: top;\n",
       "    }\n",
       "\n",
       "    .dataframe thead th {\n",
       "        text-align: right;\n",
       "    }\n",
       "</style>\n",
       "<table border=\"1\" class=\"dataframe\">\n",
       "  <thead>\n",
       "    <tr style=\"text-align: right;\">\n",
       "      <th></th>\n",
       "      <th>Unnamed: 0</th>\n",
       "      <th>culmen_length_mm</th>\n",
       "      <th>culmen_depth_mm</th>\n",
       "      <th>flipper_length_mm</th>\n",
       "      <th>body_mass_g</th>\n",
       "    </tr>\n",
       "  </thead>\n",
       "  <tbody>\n",
       "    <tr>\n",
       "      <th>count</th>\n",
       "      <td>240.000000</td>\n",
       "      <td>238.000000</td>\n",
       "      <td>238.000000</td>\n",
       "      <td>219.000000</td>\n",
       "      <td>238.000000</td>\n",
       "    </tr>\n",
       "    <tr>\n",
       "      <th>mean</th>\n",
       "      <td>167.125000</td>\n",
       "      <td>43.536134</td>\n",
       "      <td>17.194958</td>\n",
       "      <td>200.255708</td>\n",
       "      <td>4172.584034</td>\n",
       "    </tr>\n",
       "    <tr>\n",
       "      <th>std</th>\n",
       "      <td>97.998084</td>\n",
       "      <td>5.303462</td>\n",
       "      <td>1.985043</td>\n",
       "      <td>13.547348</td>\n",
       "      <td>777.937433</td>\n",
       "    </tr>\n",
       "    <tr>\n",
       "      <th>min</th>\n",
       "      <td>1.000000</td>\n",
       "      <td>32.100000</td>\n",
       "      <td>13.100000</td>\n",
       "      <td>174.000000</td>\n",
       "      <td>2700.000000</td>\n",
       "    </tr>\n",
       "    <tr>\n",
       "      <th>25%</th>\n",
       "      <td>82.750000</td>\n",
       "      <td>39.000000</td>\n",
       "      <td>15.700000</td>\n",
       "      <td>190.000000</td>\n",
       "      <td>3550.000000</td>\n",
       "    </tr>\n",
       "    <tr>\n",
       "      <th>50%</th>\n",
       "      <td>161.500000</td>\n",
       "      <td>43.350000</td>\n",
       "      <td>17.500000</td>\n",
       "      <td>196.000000</td>\n",
       "      <td>4000.000000</td>\n",
       "    </tr>\n",
       "    <tr>\n",
       "      <th>75%</th>\n",
       "      <td>249.500000</td>\n",
       "      <td>47.775000</td>\n",
       "      <td>18.800000</td>\n",
       "      <td>212.000000</td>\n",
       "      <td>4700.000000</td>\n",
       "    </tr>\n",
       "    <tr>\n",
       "      <th>max</th>\n",
       "      <td>343.000000</td>\n",
       "      <td>59.600000</td>\n",
       "      <td>21.200000</td>\n",
       "      <td>231.000000</td>\n",
       "      <td>6300.000000</td>\n",
       "    </tr>\n",
       "  </tbody>\n",
       "</table>\n",
       "</div>"
      ],
      "text/plain": [
       "       Unnamed: 0  culmen_length_mm  culmen_depth_mm  flipper_length_mm  \\\n",
       "count  240.000000        238.000000       238.000000         219.000000   \n",
       "mean   167.125000         43.536134        17.194958         200.255708   \n",
       "std     97.998084          5.303462         1.985043          13.547348   \n",
       "min      1.000000         32.100000        13.100000         174.000000   \n",
       "25%     82.750000         39.000000        15.700000         190.000000   \n",
       "50%    161.500000         43.350000        17.500000         196.000000   \n",
       "75%    249.500000         47.775000        18.800000         212.000000   \n",
       "max    343.000000         59.600000        21.200000         231.000000   \n",
       "\n",
       "       body_mass_g  \n",
       "count   238.000000  \n",
       "mean   4172.584034  \n",
       "std     777.937433  \n",
       "min    2700.000000  \n",
       "25%    3550.000000  \n",
       "50%    4000.000000  \n",
       "75%    4700.000000  \n",
       "max    6300.000000  "
      ]
     },
     "execution_count": 74,
     "metadata": {},
     "output_type": "execute_result"
    }
   ],
   "source": [
    "train.describe()"
   ]
  },
  {
   "cell_type": "markdown",
   "metadata": {},
   "source": [
    "Por lo tanto, lo que se hará es tomar un criterio de reemplazo de los datos que sea válido. Vamos revisando por columna, en orden:\n",
    "\n",
    "**1. Culmen Length (mm):**\n",
    "\n",
    "Si notamos esta variable, tiene un comportamiento bastante bien distribuido. Bastante centrado y con estadísticos bastante bien comportados (dada la ausencia de outliers). El histograma muestra que los datos, están bastante centrados, pero no distribuyen normal... sino que una especie de distribución con dos jorobas no muy agradable de apreciar. Por estar razones, pese a que se cree que es el camino fácil pero no lo es, y dado que son pocos los datos vacíos se rellenará los datos vacíos con la media de esta columna."
   ]
  },
  {
   "cell_type": "code",
   "execution_count": 75,
   "metadata": {},
   "outputs": [
    {
     "data": {
      "image/png": "[encoded data removed]",
      "text/plain": [
       "<Figure size 432x288 with 1 Axes>"
      ]
     },
     "metadata": {
      "needs_background": "light"
     },
     "output_type": "display_data"
    },
    {
     "data": {
      "image/png": "[encoded data removed]",
      "text/plain": [
       "<Figure size 432x288 with 1 Axes>"
      ]
     },
     "metadata": {
      "needs_background": "light"
     },
     "output_type": "display_data"
    }
   ],
   "source": [
    "train.boxplot(column='culmen_length_mm', color = \"blue\", patch_artist = \"False\")\n",
    "plt.show()\n",
    "\n",
    "train['culmen_length_mm'].hist(bins=50, color = \"green\")\n",
    "plt.show()"
   ]
  },
  {
   "cell_type": "code",
   "execution_count": 76,
   "metadata": {},
   "outputs": [
    {
     "name": "stderr",
     "output_type": "stream",
     "text": [
      "/Library/Frameworks/Python.framework/Versions/3.6/lib/python3.6/site-packages/pandas/core/generic.py:6245: SettingWithCopyWarning: \n",
      "A value is trying to be set on a copy of a slice from a DataFrame\n",
      "\n",
      "See the caveats in the documentation: https://pandas.pydata.org/pandas-docs/stable/user_guide/indexing.html#returning-a-view-versus-a-copy\n",
      "  self._update_inplace(new_data)\n"
     ]
    }
   ],
   "source": [
    "media = train['culmen_length_mm'].mean()\n",
    "train['culmen_length_mm'].fillna(media.round(1), inplace = True)"
   ]
  },
  {
   "cell_type": "markdown",
   "metadata": {},
   "source": [
    "Después de haber hecho el reemplazo, notamos con el cuadro siguiente que la media no cambio (obviamente) pero la desviación estándar sí cambió. Si bien el cambio es leve, son estos los impacto que hay que reducir a la hora de imputar valores faltantes."
   ]
  },
  {
   "cell_type": "code",
   "execution_count": 77,
   "metadata": {},
   "outputs": [
    {
     "data": {
      "text/html": [
       "<div>\n",
       "<style scoped>\n",
       "    .dataframe tbody tr th:only-of-type {\n",
       "        vertical-align: middle;\n",
       "    }\n",
       "\n",
       "    .dataframe tbody tr th {\n",
       "        vertical-align: top;\n",
       "    }\n",
       "\n",
       "    .dataframe thead th {\n",
       "        text-align: right;\n",
       "    }\n",
       "</style>\n",
       "<table border=\"1\" class=\"dataframe\">\n",
       "  <thead>\n",
       "    <tr style=\"text-align: right;\">\n",
       "      <th></th>\n",
       "      <th>Unnamed: 0</th>\n",
       "      <th>culmen_length_mm</th>\n",
       "      <th>culmen_depth_mm</th>\n",
       "      <th>flipper_length_mm</th>\n",
       "      <th>body_mass_g</th>\n",
       "    </tr>\n",
       "  </thead>\n",
       "  <tbody>\n",
       "    <tr>\n",
       "      <th>count</th>\n",
       "      <td>240.000000</td>\n",
       "      <td>240.000000</td>\n",
       "      <td>238.000000</td>\n",
       "      <td>219.000000</td>\n",
       "      <td>238.000000</td>\n",
       "    </tr>\n",
       "    <tr>\n",
       "      <th>mean</th>\n",
       "      <td>167.125000</td>\n",
       "      <td>43.535833</td>\n",
       "      <td>17.194958</td>\n",
       "      <td>200.255708</td>\n",
       "      <td>4172.584034</td>\n",
       "    </tr>\n",
       "    <tr>\n",
       "      <th>std</th>\n",
       "      <td>97.998084</td>\n",
       "      <td>5.281226</td>\n",
       "      <td>1.985043</td>\n",
       "      <td>13.547348</td>\n",
       "      <td>777.937433</td>\n",
       "    </tr>\n",
       "    <tr>\n",
       "      <th>min</th>\n",
       "      <td>1.000000</td>\n",
       "      <td>32.100000</td>\n",
       "      <td>13.100000</td>\n",
       "      <td>174.000000</td>\n",
       "      <td>2700.000000</td>\n",
       "    </tr>\n",
       "    <tr>\n",
       "      <th>25%</th>\n",
       "      <td>82.750000</td>\n",
       "      <td>39.000000</td>\n",
       "      <td>15.700000</td>\n",
       "      <td>190.000000</td>\n",
       "      <td>3550.000000</td>\n",
       "    </tr>\n",
       "    <tr>\n",
       "      <th>50%</th>\n",
       "      <td>161.500000</td>\n",
       "      <td>43.450000</td>\n",
       "      <td>17.500000</td>\n",
       "      <td>196.000000</td>\n",
       "      <td>4000.000000</td>\n",
       "    </tr>\n",
       "    <tr>\n",
       "      <th>75%</th>\n",
       "      <td>249.500000</td>\n",
       "      <td>47.725000</td>\n",
       "      <td>18.800000</td>\n",
       "      <td>212.000000</td>\n",
       "      <td>4700.000000</td>\n",
       "    </tr>\n",
       "    <tr>\n",
       "      <th>max</th>\n",
       "      <td>343.000000</td>\n",
       "      <td>59.600000</td>\n",
       "      <td>21.200000</td>\n",
       "      <td>231.000000</td>\n",
       "      <td>6300.000000</td>\n",
       "    </tr>\n",
       "  </tbody>\n",
       "</table>\n",
       "</div>"
      ],
      "text/plain": [
       "       Unnamed: 0  culmen_length_mm  culmen_depth_mm  flipper_length_mm  \\\n",
       "count  240.000000        240.000000       238.000000         219.000000   \n",
       "mean   167.125000         43.535833        17.194958         200.255708   \n",
       "std     97.998084          5.281226         1.985043          13.547348   \n",
       "min      1.000000         32.100000        13.100000         174.000000   \n",
       "25%     82.750000         39.000000        15.700000         190.000000   \n",
       "50%    161.500000         43.450000        17.500000         196.000000   \n",
       "75%    249.500000         47.725000        18.800000         212.000000   \n",
       "max    343.000000         59.600000        21.200000         231.000000   \n",
       "\n",
       "       body_mass_g  \n",
       "count   238.000000  \n",
       "mean   4172.584034  \n",
       "std     777.937433  \n",
       "min    2700.000000  \n",
       "25%    3550.000000  \n",
       "50%    4000.000000  \n",
       "75%    4700.000000  \n",
       "max    6300.000000  "
      ]
     },
     "execution_count": 77,
     "metadata": {},
     "output_type": "execute_result"
    }
   ],
   "source": [
    "train.describe()"
   ]
  },
  {
   "cell_type": "code",
   "execution_count": 78,
   "metadata": {},
   "outputs": [
    {
     "data": {
      "text/plain": [
       "Unnamed: 0            0\n",
       "species               0\n",
       "island                0\n",
       "culmen_length_mm      0\n",
       "culmen_depth_mm       2\n",
       "flipper_length_mm    21\n",
       "body_mass_g           2\n",
       "sex                   9\n",
       "dtype: int64"
      ]
     },
     "execution_count": 78,
     "metadata": {},
     "output_type": "execute_result"
    }
   ],
   "source": [
    "train.apply(lambda x: sum(x.isnull()),axis=0)"
   ]
  },
  {
   "cell_type": "markdown",
   "metadata": {},
   "source": [
    "En lo siguiente se hará el reemplazo de los datos vacíos en el set de testeo, según lo visto en clases, cito nuevamente al profesor Hans: *Las decisiones de limpieza y depuración se hacen con la info del set de entrenamiento. El set de Testeo es víctima de las decisiones tomadas para el set de entrenamiento*. \n",
    "\n",
    "Además pregunté en el Foro Discord (en el Canal *Dudas de Enunciado* del Lab 04), que si al reemplazar con la media, en alguna columna, debía reemplazar en el set de testeo con la media de la columna respectiva de solo el test de entrenamiento, y el profesor me respondió: \"Exacto\". \n",
    "\n",
    "Digo todo esto, porque al conversar con compañeros, nadie estaba tan al tanto de este \"detalle\". De hecho publiqué una Issue sobre el tema, y lamentablemente no me la pudieron responder. Así que, si esto no es correcto, lo tomo como supuesto (supongo que de manera válida) para las demás imputaciones de valores.  "
   ]
  },
  {
   "cell_type": "code",
   "execution_count": 79,
   "metadata": {},
   "outputs": [
    {
     "data": {
      "text/html": [
       "<div>\n",
       "<style scoped>\n",
       "    .dataframe tbody tr th:only-of-type {\n",
       "        vertical-align: middle;\n",
       "    }\n",
       "\n",
       "    .dataframe tbody tr th {\n",
       "        vertical-align: top;\n",
       "    }\n",
       "\n",
       "    .dataframe thead th {\n",
       "        text-align: right;\n",
       "    }\n",
       "</style>\n",
       "<table border=\"1\" class=\"dataframe\">\n",
       "  <thead>\n",
       "    <tr style=\"text-align: right;\">\n",
       "      <th></th>\n",
       "      <th>Unnamed: 0</th>\n",
       "      <th>species</th>\n",
       "      <th>island</th>\n",
       "      <th>culmen_length_mm</th>\n",
       "      <th>culmen_depth_mm</th>\n",
       "      <th>flipper_length_mm</th>\n",
       "      <th>body_mass_g</th>\n",
       "      <th>sex</th>\n",
       "    </tr>\n",
       "  </thead>\n",
       "  <tbody>\n",
       "    <tr>\n",
       "      <th>310</th>\n",
       "      <td>310</td>\n",
       "      <td>Gentoo</td>\n",
       "      <td>Biscoe</td>\n",
       "      <td>47.5</td>\n",
       "      <td>15.0</td>\n",
       "      <td>218.0</td>\n",
       "      <td>4950.0</td>\n",
       "      <td>FEMALE</td>\n",
       "    </tr>\n",
       "    <tr>\n",
       "      <th>105</th>\n",
       "      <td>105</td>\n",
       "      <td>Adelie</td>\n",
       "      <td>Biscoe</td>\n",
       "      <td>39.7</td>\n",
       "      <td>18.9</td>\n",
       "      <td>NaN</td>\n",
       "      <td>3550.0</td>\n",
       "      <td>MALE</td>\n",
       "    </tr>\n",
       "    <tr>\n",
       "      <th>274</th>\n",
       "      <td>274</td>\n",
       "      <td>Gentoo</td>\n",
       "      <td>Biscoe</td>\n",
       "      <td>46.5</td>\n",
       "      <td>14.4</td>\n",
       "      <td>217.0</td>\n",
       "      <td>4900.0</td>\n",
       "      <td>FEMALE</td>\n",
       "    </tr>\n",
       "    <tr>\n",
       "      <th>112</th>\n",
       "      <td>112</td>\n",
       "      <td>Adelie</td>\n",
       "      <td>Biscoe</td>\n",
       "      <td>39.7</td>\n",
       "      <td>17.7</td>\n",
       "      <td>193.0</td>\n",
       "      <td>3200.0</td>\n",
       "      <td>FEMALE</td>\n",
       "    </tr>\n",
       "    <tr>\n",
       "      <th>56</th>\n",
       "      <td>56</td>\n",
       "      <td>Adelie</td>\n",
       "      <td>Biscoe</td>\n",
       "      <td>39.0</td>\n",
       "      <td>17.5</td>\n",
       "      <td>NaN</td>\n",
       "      <td>3550.0</td>\n",
       "      <td>FEMALE</td>\n",
       "    </tr>\n",
       "  </tbody>\n",
       "</table>\n",
       "</div>"
      ],
      "text/plain": [
       "     Unnamed: 0 species  island  culmen_length_mm  culmen_depth_mm  \\\n",
       "310         310  Gentoo  Biscoe              47.5             15.0   \n",
       "105         105  Adelie  Biscoe              39.7             18.9   \n",
       "274         274  Gentoo  Biscoe              46.5             14.4   \n",
       "112         112  Adelie  Biscoe              39.7             17.7   \n",
       "56           56  Adelie  Biscoe              39.0             17.5   \n",
       "\n",
       "     flipper_length_mm  body_mass_g     sex  \n",
       "310              218.0       4950.0  FEMALE  \n",
       "105                NaN       3550.0    MALE  \n",
       "274              217.0       4900.0  FEMALE  \n",
       "112              193.0       3200.0  FEMALE  \n",
       "56                 NaN       3550.0  FEMALE  "
      ]
     },
     "execution_count": 79,
     "metadata": {},
     "output_type": "execute_result"
    }
   ],
   "source": [
    "test.head()"
   ]
  },
  {
   "cell_type": "code",
   "execution_count": 80,
   "metadata": {},
   "outputs": [
    {
     "name": "stderr",
     "output_type": "stream",
     "text": [
      "/Library/Frameworks/Python.framework/Versions/3.6/lib/python3.6/site-packages/pandas/core/generic.py:6245: SettingWithCopyWarning: \n",
      "A value is trying to be set on a copy of a slice from a DataFrame\n",
      "\n",
      "See the caveats in the documentation: https://pandas.pydata.org/pandas-docs/stable/user_guide/indexing.html#returning-a-view-versus-a-copy\n",
      "  self._update_inplace(new_data)\n"
     ]
    }
   ],
   "source": [
    "# Rellenamos con la media de la columna de la data de entrenamiento.\n",
    "test['culmen_length_mm'].fillna(media.round(1), inplace = True)"
   ]
  },
  {
   "cell_type": "markdown",
   "metadata": {},
   "source": [
    "Notamos que efectivamente se eliminó el dato vacío."
   ]
  },
  {
   "cell_type": "code",
   "execution_count": 82,
   "metadata": {},
   "outputs": [
    {
     "data": {
      "text/plain": [
       "Unnamed: 0            0\n",
       "species               0\n",
       "island                0\n",
       "culmen_length_mm      0\n",
       "culmen_depth_mm       0\n",
       "flipper_length_mm    15\n",
       "body_mass_g           0\n",
       "sex                   2\n",
       "dtype: int64"
      ]
     },
     "execution_count": 82,
     "metadata": {},
     "output_type": "execute_result"
    }
   ],
   "source": [
    "test.apply(lambda x: sum(x.isnull()),axis=0)"
   ]
  },
  {
   "cell_type": "markdown",
   "metadata": {},
   "source": [
    "**2. Culmen Depth (mm):**\n",
    "\n",
    "Al igual que la primera variable, esta también tiene un comportamiento bastante bien distribuido según sus estadístcos y gráficos de caja-bigote e histograma, en la data de Entrenamiento. Si bien la distribución, no es muy normal, se cree que es una buena estrategia reemplazar nuevamente los valores vacíos por la media de la columna. Esta decisión se da porque la media es parecida a la mediana (por la ausencia de outliers) y porque no tiene sentido calibrar un modelo de regresión lineal, que prediga el valor, ya que son pocos los datos vacíos a rellenar en esta columna."
   ]
  },
  {
   "cell_type": "code",
   "execution_count": 83,
   "metadata": {},
   "outputs": [
    {
     "data": {
      "image/png": "[encoded data removed]",
      "text/plain": [
       "<Figure size 432x288 with 1 Axes>"
      ]
     },
     "metadata": {
      "needs_background": "light"
     },
     "output_type": "display_data"
    },
    {
     "data": {
      "image/png": "[encoded data removed]",
      "text/plain": [
       "<Figure size 432x288 with 1 Axes>"
      ]
     },
     "metadata": {
      "needs_background": "light"
     },
     "output_type": "display_data"
    }
   ],
   "source": [
    "train.boxplot(column='culmen_depth_mm', color = \"tomato\", patch_artist = \"False\")\n",
    "plt.show()\n",
    "\n",
    "train['culmen_depth_mm'].hist(bins=50, color = \"skyblue\")\n",
    "plt.show()"
   ]
  },
  {
   "cell_type": "code",
   "execution_count": 84,
   "metadata": {},
   "outputs": [
    {
     "name": "stderr",
     "output_type": "stream",
     "text": [
      "/Library/Frameworks/Python.framework/Versions/3.6/lib/python3.6/site-packages/pandas/core/generic.py:6245: SettingWithCopyWarning: \n",
      "A value is trying to be set on a copy of a slice from a DataFrame\n",
      "\n",
      "See the caveats in the documentation: https://pandas.pydata.org/pandas-docs/stable/user_guide/indexing.html#returning-a-view-versus-a-copy\n",
      "  self._update_inplace(new_data)\n"
     ]
    }
   ],
   "source": [
    "media = train['culmen_depth_mm'].mean()\n",
    "train['culmen_depth_mm'].fillna(media.round(1), inplace = True)"
   ]
  },
  {
   "cell_type": "markdown",
   "metadata": {},
   "source": [
    "Procedemos a rellenar los datos vacíos de esta columna entonces, con la media del set de entrenamiento."
   ]
  },
  {
   "cell_type": "code",
   "execution_count": 85,
   "metadata": {},
   "outputs": [
    {
     "data": {
      "text/plain": [
       "Unnamed: 0            0\n",
       "species               0\n",
       "island                0\n",
       "culmen_length_mm      0\n",
       "culmen_depth_mm       0\n",
       "flipper_length_mm    21\n",
       "body_mass_g           2\n",
       "sex                   9\n",
       "dtype: int64"
      ]
     },
     "execution_count": 85,
     "metadata": {},
     "output_type": "execute_result"
    }
   ],
   "source": [
    "train.apply(lambda x: sum(x.isnull()),axis=0)"
   ]
  },
  {
   "cell_type": "code",
   "execution_count": 86,
   "metadata": {},
   "outputs": [
    {
     "data": {
      "text/html": [
       "<div>\n",
       "<style scoped>\n",
       "    .dataframe tbody tr th:only-of-type {\n",
       "        vertical-align: middle;\n",
       "    }\n",
       "\n",
       "    .dataframe tbody tr th {\n",
       "        vertical-align: top;\n",
       "    }\n",
       "\n",
       "    .dataframe thead th {\n",
       "        text-align: right;\n",
       "    }\n",
       "</style>\n",
       "<table border=\"1\" class=\"dataframe\">\n",
       "  <thead>\n",
       "    <tr style=\"text-align: right;\">\n",
       "      <th></th>\n",
       "      <th>Unnamed: 0</th>\n",
       "      <th>culmen_length_mm</th>\n",
       "      <th>culmen_depth_mm</th>\n",
       "      <th>flipper_length_mm</th>\n",
       "      <th>body_mass_g</th>\n",
       "    </tr>\n",
       "  </thead>\n",
       "  <tbody>\n",
       "    <tr>\n",
       "      <th>count</th>\n",
       "      <td>240.000000</td>\n",
       "      <td>240.000000</td>\n",
       "      <td>240.00000</td>\n",
       "      <td>219.000000</td>\n",
       "      <td>238.000000</td>\n",
       "    </tr>\n",
       "    <tr>\n",
       "      <th>mean</th>\n",
       "      <td>167.125000</td>\n",
       "      <td>43.535833</td>\n",
       "      <td>17.19500</td>\n",
       "      <td>200.255708</td>\n",
       "      <td>4172.584034</td>\n",
       "    </tr>\n",
       "    <tr>\n",
       "      <th>std</th>\n",
       "      <td>97.998084</td>\n",
       "      <td>5.281226</td>\n",
       "      <td>1.97672</td>\n",
       "      <td>13.547348</td>\n",
       "      <td>777.937433</td>\n",
       "    </tr>\n",
       "    <tr>\n",
       "      <th>min</th>\n",
       "      <td>1.000000</td>\n",
       "      <td>32.100000</td>\n",
       "      <td>13.10000</td>\n",
       "      <td>174.000000</td>\n",
       "      <td>2700.000000</td>\n",
       "    </tr>\n",
       "    <tr>\n",
       "      <th>25%</th>\n",
       "      <td>82.750000</td>\n",
       "      <td>39.000000</td>\n",
       "      <td>15.70000</td>\n",
       "      <td>190.000000</td>\n",
       "      <td>3550.000000</td>\n",
       "    </tr>\n",
       "    <tr>\n",
       "      <th>50%</th>\n",
       "      <td>161.500000</td>\n",
       "      <td>43.450000</td>\n",
       "      <td>17.50000</td>\n",
       "      <td>196.000000</td>\n",
       "      <td>4000.000000</td>\n",
       "    </tr>\n",
       "    <tr>\n",
       "      <th>75%</th>\n",
       "      <td>249.500000</td>\n",
       "      <td>47.725000</td>\n",
       "      <td>18.80000</td>\n",
       "      <td>212.000000</td>\n",
       "      <td>4700.000000</td>\n",
       "    </tr>\n",
       "    <tr>\n",
       "      <th>max</th>\n",
       "      <td>343.000000</td>\n",
       "      <td>59.600000</td>\n",
       "      <td>21.20000</td>\n",
       "      <td>231.000000</td>\n",
       "      <td>6300.000000</td>\n",
       "    </tr>\n",
       "  </tbody>\n",
       "</table>\n",
       "</div>"
      ],
      "text/plain": [
       "       Unnamed: 0  culmen_length_mm  culmen_depth_mm  flipper_length_mm  \\\n",
       "count  240.000000        240.000000        240.00000         219.000000   \n",
       "mean   167.125000         43.535833         17.19500         200.255708   \n",
       "std     97.998084          5.281226          1.97672          13.547348   \n",
       "min      1.000000         32.100000         13.10000         174.000000   \n",
       "25%     82.750000         39.000000         15.70000         190.000000   \n",
       "50%    161.500000         43.450000         17.50000         196.000000   \n",
       "75%    249.500000         47.725000         18.80000         212.000000   \n",
       "max    343.000000         59.600000         21.20000         231.000000   \n",
       "\n",
       "       body_mass_g  \n",
       "count   238.000000  \n",
       "mean   4172.584034  \n",
       "std     777.937433  \n",
       "min    2700.000000  \n",
       "25%    3550.000000  \n",
       "50%    4000.000000  \n",
       "75%    4700.000000  \n",
       "max    6300.000000  "
      ]
     },
     "execution_count": 86,
     "metadata": {},
     "output_type": "execute_result"
    }
   ],
   "source": [
    "train.describe()"
   ]
  },
  {
   "cell_type": "markdown",
   "metadata": {},
   "source": [
    "Nuevamente notamos que la media de esta variable obviamente se mantiene constante y que la desviación estándar, SÍ cambia.\n",
    "\n",
    "Procedemos a hacer el mismo ajuste a la data de testeo:"
   ]
  },
  {
   "cell_type": "code",
   "execution_count": 88,
   "metadata": {},
   "outputs": [
    {
     "data": {
      "text/html": [
       "<div>\n",
       "<style scoped>\n",
       "    .dataframe tbody tr th:only-of-type {\n",
       "        vertical-align: middle;\n",
       "    }\n",
       "\n",
       "    .dataframe tbody tr th {\n",
       "        vertical-align: top;\n",
       "    }\n",
       "\n",
       "    .dataframe thead th {\n",
       "        text-align: right;\n",
       "    }\n",
       "</style>\n",
       "<table border=\"1\" class=\"dataframe\">\n",
       "  <thead>\n",
       "    <tr style=\"text-align: right;\">\n",
       "      <th></th>\n",
       "      <th>Unnamed: 0</th>\n",
       "      <th>species</th>\n",
       "      <th>island</th>\n",
       "      <th>culmen_length_mm</th>\n",
       "      <th>culmen_depth_mm</th>\n",
       "      <th>flipper_length_mm</th>\n",
       "      <th>body_mass_g</th>\n",
       "      <th>sex</th>\n",
       "    </tr>\n",
       "  </thead>\n",
       "  <tbody>\n",
       "    <tr>\n",
       "      <th>310</th>\n",
       "      <td>310</td>\n",
       "      <td>Gentoo</td>\n",
       "      <td>Biscoe</td>\n",
       "      <td>47.5</td>\n",
       "      <td>15.0</td>\n",
       "      <td>218.0</td>\n",
       "      <td>4950.0</td>\n",
       "      <td>FEMALE</td>\n",
       "    </tr>\n",
       "    <tr>\n",
       "      <th>105</th>\n",
       "      <td>105</td>\n",
       "      <td>Adelie</td>\n",
       "      <td>Biscoe</td>\n",
       "      <td>39.7</td>\n",
       "      <td>18.9</td>\n",
       "      <td>NaN</td>\n",
       "      <td>3550.0</td>\n",
       "      <td>MALE</td>\n",
       "    </tr>\n",
       "    <tr>\n",
       "      <th>274</th>\n",
       "      <td>274</td>\n",
       "      <td>Gentoo</td>\n",
       "      <td>Biscoe</td>\n",
       "      <td>46.5</td>\n",
       "      <td>14.4</td>\n",
       "      <td>217.0</td>\n",
       "      <td>4900.0</td>\n",
       "      <td>FEMALE</td>\n",
       "    </tr>\n",
       "    <tr>\n",
       "      <th>112</th>\n",
       "      <td>112</td>\n",
       "      <td>Adelie</td>\n",
       "      <td>Biscoe</td>\n",
       "      <td>39.7</td>\n",
       "      <td>17.7</td>\n",
       "      <td>193.0</td>\n",
       "      <td>3200.0</td>\n",
       "      <td>FEMALE</td>\n",
       "    </tr>\n",
       "    <tr>\n",
       "      <th>56</th>\n",
       "      <td>56</td>\n",
       "      <td>Adelie</td>\n",
       "      <td>Biscoe</td>\n",
       "      <td>39.0</td>\n",
       "      <td>17.5</td>\n",
       "      <td>NaN</td>\n",
       "      <td>3550.0</td>\n",
       "      <td>FEMALE</td>\n",
       "    </tr>\n",
       "  </tbody>\n",
       "</table>\n",
       "</div>"
      ],
      "text/plain": [
       "     Unnamed: 0 species  island  culmen_length_mm  culmen_depth_mm  \\\n",
       "310         310  Gentoo  Biscoe              47.5             15.0   \n",
       "105         105  Adelie  Biscoe              39.7             18.9   \n",
       "274         274  Gentoo  Biscoe              46.5             14.4   \n",
       "112         112  Adelie  Biscoe              39.7             17.7   \n",
       "56           56  Adelie  Biscoe              39.0             17.5   \n",
       "\n",
       "     flipper_length_mm  body_mass_g     sex  \n",
       "310              218.0       4950.0  FEMALE  \n",
       "105                NaN       3550.0    MALE  \n",
       "274              217.0       4900.0  FEMALE  \n",
       "112              193.0       3200.0  FEMALE  \n",
       "56                 NaN       3550.0  FEMALE  "
      ]
     },
     "execution_count": 88,
     "metadata": {},
     "output_type": "execute_result"
    }
   ],
   "source": [
    "test.head()"
   ]
  },
  {
   "cell_type": "code",
   "execution_count": null,
   "metadata": {},
   "outputs": [],
   "source": [
    "test['culmen_depth_mm'].fillna(media.round(1), inplace = True)"
   ]
  },
  {
   "cell_type": "code",
   "execution_count": 90,
   "metadata": {},
   "outputs": [
    {
     "data": {
      "text/plain": [
       "Unnamed: 0            0\n",
       "species               0\n",
       "island                0\n",
       "culmen_length_mm      0\n",
       "culmen_depth_mm       0\n",
       "flipper_length_mm    15\n",
       "body_mass_g           0\n",
       "sex                   2\n",
       "dtype: int64"
      ]
     },
     "execution_count": 90,
     "metadata": {},
     "output_type": "execute_result"
    }
   ],
   "source": [
    "test.apply(lambda x: sum(x.isnull()),axis=0)"
   ]
  },
  {
   "cell_type": "markdown",
   "metadata": {},
   "source": [
    "**3. Sex:**\n",
    "\n",
    "Se modifica esta variable primero, porque se quiere tener esta variable arreglada para después poder imputar los valroes de Flipper Length. Primero observemos como se comporta esta variable:"
   ]
  },
  {
   "cell_type": "code",
   "execution_count": 91,
   "metadata": {},
   "outputs": [
    {
     "data": {
      "text/plain": [
       "MALE      117\n",
       "FEMALE    114\n",
       "Name: sex, dtype: int64"
      ]
     },
     "execution_count": 91,
     "metadata": {},
     "output_type": "execute_result"
    }
   ],
   "source": [
    "train[\"sex\"].value_counts()"
   ]
  },
  {
   "cell_type": "markdown",
   "metadata": {},
   "source": [
    "Notamos que si bien la moda es Female, solo hay un pigüino de diferencia, por lo que no sería prudente reemplazar los datos vacíos con la moda de esta variable. Además notamos que hay un dato que corresponde a un punto, procedemos a reemplazar este dato por un NaN."
   ]
  },
  {
   "cell_type": "code",
   "execution_count": 92,
   "metadata": {},
   "outputs": [
    {
     "data": {
      "text/plain": [
       "MALE      117\n",
       "FEMALE    114\n",
       "Name: sex, dtype: int64"
      ]
     },
     "execution_count": 92,
     "metadata": {},
     "output_type": "execute_result"
    }
   ],
   "source": [
    "train[\"sex\"].value_counts()"
   ]
  },
  {
   "cell_type": "code",
   "execution_count": null,
   "metadata": {},
   "outputs": [],
   "source": [
    "train[\"sex\"].fillna(method ='bfill', inplace = True) "
   ]
  },
  {
   "cell_type": "markdown",
   "metadata": {},
   "source": [
    "Notamos que ya se corrigió este error en los datos. Ahora podemos seguir imputando los valores correspondientes para los valores faltantes. Lo que se hace es rellenar los datos con el comando interpolate, este permite"
   ]
  },
  {
   "cell_type": "code",
   "execution_count": 94,
   "metadata": {},
   "outputs": [
    {
     "data": {
      "text/plain": [
       "Unnamed: 0            0\n",
       "species               0\n",
       "island                0\n",
       "culmen_length_mm      0\n",
       "culmen_depth_mm       0\n",
       "flipper_length_mm    21\n",
       "body_mass_g           2\n",
       "sex                   0\n",
       "dtype: int64"
      ]
     },
     "execution_count": 94,
     "metadata": {},
     "output_type": "execute_result"
    }
   ],
   "source": [
    "train.apply(lambda x: sum(x.isnull()),axis=0)"
   ]
  },
  {
   "cell_type": "code",
   "execution_count": 95,
   "metadata": {},
   "outputs": [
    {
     "data": {
      "text/plain": [
       "MALE      123\n",
       "FEMALE    117\n",
       "Name: sex, dtype: int64"
      ]
     },
     "execution_count": 95,
     "metadata": {},
     "output_type": "execute_result"
    }
   ],
   "source": [
    "train[\"sex\"].value_counts()"
   ]
  },
  {
   "cell_type": "markdown",
   "metadata": {},
   "source": [
    "Notamos que si bien cambió levemente la proporción de sexo de los pingüinos, este cambio no fue muy dramático. Esperemos que sea acorde, este reemplazo, por lo menos en temas de proporciones, no fue tan invasivo en la data de entrenamiento.\n",
    "\n",
    "Ahora rellenamos la data de testeo con el mismo método."
   ]
  },
  {
   "cell_type": "code",
   "execution_count": 96,
   "metadata": {},
   "outputs": [],
   "source": [
    "test[\"sex\"].fillna(method ='bfill', inplace = True) "
   ]
  },
  {
   "cell_type": "code",
   "execution_count": 97,
   "metadata": {},
   "outputs": [
    {
     "data": {
      "text/plain": [
       "Unnamed: 0            0\n",
       "species               0\n",
       "island                0\n",
       "culmen_length_mm      0\n",
       "culmen_depth_mm       0\n",
       "flipper_length_mm    15\n",
       "body_mass_g           0\n",
       "sex                   0\n",
       "dtype: int64"
      ]
     },
     "execution_count": 97,
     "metadata": {},
     "output_type": "execute_result"
    }
   ],
   "source": [
    "test.apply(lambda x: sum(x.isnull()),axis=0)"
   ]
  },
  {
   "cell_type": "markdown",
   "metadata": {},
   "source": [
    "**4. Flipper Length (mm):**\n",
    "\n",
    "Esta variable es distinta a las demás. Los datos vacíos son más numerosos, por lo que vale la pena hacer un relleno un poco más complejo. El que propongo es hacer un relleno por media, según raza y según sexo. Esto tiene sentido al revisar el siguiente gráfico de boxplots.\n",
    "\n",
    "Para esto es necesario usar la función `fage` vista en la materia de clases."
   ]
  },
  {
   "cell_type": "code",
   "execution_count": 98,
   "metadata": {},
   "outputs": [
    {
     "data": {
      "text/plain": [
       "<matplotlib.axes._subplots.AxesSubplot at 0x121830e48>"
      ]
     },
     "execution_count": 98,
     "metadata": {},
     "output_type": "execute_result"
    },
    {
     "data": {
      "image/png": "[encoded data removed]",
      "text/plain": [
       "<Figure size 720x720 with 1 Axes>"
      ]
     },
     "metadata": {
      "needs_background": "light"
     },
     "output_type": "display_data"
    }
   ],
   "source": [
    "train.boxplot(column='flipper_length_mm', by = ['species','sex'], rot = 90, color = \"Tomato\", figsize = (10,10))"
   ]
  },
  {
   "cell_type": "code",
   "execution_count": 99,
   "metadata": {},
   "outputs": [
    {
     "data": {
      "text/html": [
       "<div>\n",
       "<style scoped>\n",
       "    .dataframe tbody tr th:only-of-type {\n",
       "        vertical-align: middle;\n",
       "    }\n",
       "\n",
       "    .dataframe tbody tr th {\n",
       "        vertical-align: top;\n",
       "    }\n",
       "\n",
       "    .dataframe thead th {\n",
       "        text-align: right;\n",
       "    }\n",
       "</style>\n",
       "<table border=\"1\" class=\"dataframe\">\n",
       "  <thead>\n",
       "    <tr style=\"text-align: right;\">\n",
       "      <th>sex</th>\n",
       "      <th>FEMALE</th>\n",
       "      <th>MALE</th>\n",
       "    </tr>\n",
       "    <tr>\n",
       "      <th>species</th>\n",
       "      <th></th>\n",
       "      <th></th>\n",
       "    </tr>\n",
       "  </thead>\n",
       "  <tbody>\n",
       "    <tr>\n",
       "      <th>Adelie</th>\n",
       "      <td>188.5</td>\n",
       "      <td>192.0</td>\n",
       "    </tr>\n",
       "    <tr>\n",
       "      <th>Chinstrap</th>\n",
       "      <td>192.0</td>\n",
       "      <td>198.0</td>\n",
       "    </tr>\n",
       "    <tr>\n",
       "      <th>Gentoo</th>\n",
       "      <td>212.0</td>\n",
       "      <td>220.5</td>\n",
       "    </tr>\n",
       "  </tbody>\n",
       "</table>\n",
       "</div>"
      ],
      "text/plain": [
       "sex        FEMALE   MALE\n",
       "species                 \n",
       "Adelie      188.5  192.0\n",
       "Chinstrap   192.0  198.0\n",
       "Gentoo      212.0  220.5"
      ]
     },
     "execution_count": 99,
     "metadata": {},
     "output_type": "execute_result"
    }
   ],
   "source": [
    "tabla = train.pivot_table(values='flipper_length_mm', index='species' ,columns='sex', aggfunc=np.median)\n",
    "tabla"
   ]
  },
  {
   "cell_type": "code",
   "execution_count": 100,
   "metadata": {},
   "outputs": [
    {
     "data": {
      "text/plain": [
       "38     188.5\n",
       "176    192.0\n",
       "323    220.5\n",
       "149    192.0\n",
       "113    192.0\n",
       "73     192.0\n",
       "303    220.5\n",
       "87     188.5\n",
       "329    220.5\n",
       "189    198.0\n",
       "42     188.5\n",
       "39     192.0\n",
       "228    212.0\n",
       "168    198.0\n",
       "11     192.0\n",
       "308    212.0\n",
       "3      192.0\n",
       "62     188.5\n",
       "192    198.0\n",
       "199    198.0\n",
       "339    212.0\n",
       "dtype: float64"
      ]
     },
     "execution_count": 100,
     "metadata": {},
     "output_type": "execute_result"
    }
   ],
   "source": [
    "def fage(x):\n",
    "    return tabla.loc[x['species'],x['sex']]\n",
    "\n",
    "train[train['flipper_length_mm'].isnull()].apply(fage, axis=1)"
   ]
  },
  {
   "cell_type": "code",
   "execution_count": null,
   "metadata": {},
   "outputs": [],
   "source": [
    "train['flipper_length_mm'].fillna(train[train['flipper_length_mm'].isnull()].apply(fage, axis=1), inplace=True)"
   ]
  },
  {
   "cell_type": "code",
   "execution_count": 102,
   "metadata": {},
   "outputs": [
    {
     "data": {
      "text/plain": [
       "Unnamed: 0           0\n",
       "species              0\n",
       "island               0\n",
       "culmen_length_mm     0\n",
       "culmen_depth_mm      0\n",
       "flipper_length_mm    0\n",
       "body_mass_g          2\n",
       "sex                  0\n",
       "dtype: int64"
      ]
     },
     "execution_count": 102,
     "metadata": {},
     "output_type": "execute_result"
    }
   ],
   "source": [
    "train.apply(lambda x: sum(x.isnull()),axis=0)"
   ]
  },
  {
   "cell_type": "markdown",
   "metadata": {},
   "source": [
    "Ahora debemos rellenar la data de Testeo con esta información. Me hubiese encantado rellenar con estas mismas medias calculadas para la data de entrenamiento. Sin embargo, no supe como hacerlo así que mil perdones pero tendré que rellenar con las medias correspondientes al set de entrenamiento : (."
   ]
  },
  {
   "cell_type": "code",
   "execution_count": 105,
   "metadata": {},
   "outputs": [
    {
     "data": {
      "text/html": [
       "<div>\n",
       "<style scoped>\n",
       "    .dataframe tbody tr th:only-of-type {\n",
       "        vertical-align: middle;\n",
       "    }\n",
       "\n",
       "    .dataframe tbody tr th {\n",
       "        vertical-align: top;\n",
       "    }\n",
       "\n",
       "    .dataframe thead th {\n",
       "        text-align: right;\n",
       "    }\n",
       "</style>\n",
       "<table border=\"1\" class=\"dataframe\">\n",
       "  <thead>\n",
       "    <tr style=\"text-align: right;\">\n",
       "      <th>sex</th>\n",
       "      <th>FEMALE</th>\n",
       "      <th>MALE</th>\n",
       "    </tr>\n",
       "    <tr>\n",
       "      <th>species</th>\n",
       "      <th></th>\n",
       "      <th></th>\n",
       "    </tr>\n",
       "  </thead>\n",
       "  <tbody>\n",
       "    <tr>\n",
       "      <th>Adelie</th>\n",
       "      <td>187.0</td>\n",
       "      <td>194.0</td>\n",
       "    </tr>\n",
       "    <tr>\n",
       "      <th>Chinstrap</th>\n",
       "      <td>191.0</td>\n",
       "      <td>198.0</td>\n",
       "    </tr>\n",
       "    <tr>\n",
       "      <th>Gentoo</th>\n",
       "      <td>215.0</td>\n",
       "      <td>221.5</td>\n",
       "    </tr>\n",
       "  </tbody>\n",
       "</table>\n",
       "</div>"
      ],
      "text/plain": [
       "sex        FEMALE   MALE\n",
       "species                 \n",
       "Adelie      187.0  194.0\n",
       "Chinstrap   191.0  198.0\n",
       "Gentoo      215.0  221.5"
      ]
     },
     "execution_count": 105,
     "metadata": {},
     "output_type": "execute_result"
    }
   ],
   "source": [
    "tablo = test.pivot_table(values='flipper_length_mm', index='species' ,columns='sex', aggfunc=np.median)\n",
    "tablo"
   ]
  },
  {
   "cell_type": "code",
   "execution_count": 106,
   "metadata": {},
   "outputs": [
    {
     "data": {
      "text/plain": [
       "105    194.0\n",
       "56     187.0\n",
       "287    221.5\n",
       "294    215.0\n",
       "256    215.0\n",
       "156    198.0\n",
       "181    198.0\n",
       "114    187.0\n",
       "233    221.5\n",
       "215    198.0\n",
       "66     187.0\n",
       "67     194.0\n",
       "229    221.5\n",
       "312    215.0\n",
       "320    215.0\n",
       "dtype: float64"
      ]
     },
     "execution_count": 106,
     "metadata": {},
     "output_type": "execute_result"
    }
   ],
   "source": [
    "def fago(x):\n",
    "    return tablo.loc[x['species'],x['sex']]\n",
    "\n",
    "test[test['flipper_length_mm'].isnull()].apply(fago, axis=1)"
   ]
  },
  {
   "cell_type": "code",
   "execution_count": null,
   "metadata": {},
   "outputs": [],
   "source": [
    "test['flipper_length_mm'].fillna(test[test['flipper_length_mm'].isnull()].apply(fago, axis=1), inplace=True)"
   ]
  },
  {
   "cell_type": "code",
   "execution_count": 108,
   "metadata": {},
   "outputs": [
    {
     "data": {
      "text/plain": [
       "Unnamed: 0           0\n",
       "species              0\n",
       "island               0\n",
       "culmen_length_mm     0\n",
       "culmen_depth_mm      0\n",
       "flipper_length_mm    0\n",
       "body_mass_g          0\n",
       "sex                  0\n",
       "dtype: int64"
      ]
     },
     "execution_count": 108,
     "metadata": {},
     "output_type": "execute_result"
    }
   ],
   "source": [
    "test.apply(lambda x: sum(x.isnull()),axis=0)"
   ]
  },
  {
   "cell_type": "markdown",
   "metadata": {},
   "source": [
    "**Body Mass (g):**\n",
    "\n",
    "La siguiente columna, al tener pocos NaN (solo 2) y ser dentro de bien comportada, su distribución es ligeramente más normal que las otras variables. Por lo que basta con rellenar con la media en ambos sets entrenamiento y validación."
   ]
  },
  {
   "cell_type": "code",
   "execution_count": 109,
   "metadata": {},
   "outputs": [],
   "source": [
    "media = train['body_mass_g'].mean()\n",
    "train['body_mass_g'].fillna(media.round(1), inplace = True)"
   ]
  },
  {
   "cell_type": "code",
   "execution_count": 110,
   "metadata": {},
   "outputs": [
    {
     "data": {
      "text/plain": [
       "Unnamed: 0           0\n",
       "species              0\n",
       "island               0\n",
       "culmen_length_mm     0\n",
       "culmen_depth_mm      0\n",
       "flipper_length_mm    0\n",
       "body_mass_g          0\n",
       "sex                  0\n",
       "dtype: int64"
      ]
     },
     "execution_count": 110,
     "metadata": {},
     "output_type": "execute_result"
    }
   ],
   "source": [
    "train.apply(lambda x: sum(x.isnull()),axis=0)"
   ]
  },
  {
   "cell_type": "markdown",
   "metadata": {},
   "source": [
    "Ahora con el set de entrenamiento (no es necesario, porque no hay observaciones nulas en esta columna en este set), pero el código sería el siguiente:"
   ]
  },
  {
   "cell_type": "code",
   "execution_count": 111,
   "metadata": {},
   "outputs": [],
   "source": [
    "test['body_mass_g'].fillna(media.round(1), inplace = True)"
   ]
  },
  {
   "cell_type": "code",
   "execution_count": 112,
   "metadata": {},
   "outputs": [
    {
     "data": {
      "text/plain": [
       "Unnamed: 0           0\n",
       "species              0\n",
       "island               0\n",
       "culmen_length_mm     0\n",
       "culmen_depth_mm      0\n",
       "flipper_length_mm    0\n",
       "body_mass_g          0\n",
       "sex                  0\n",
       "dtype: int64"
      ]
     },
     "execution_count": 112,
     "metadata": {},
     "output_type": "execute_result"
    }
   ],
   "source": [
    "test.apply(lambda x: sum(x.isnull()),axis=0)"
   ]
  },
  {
   "cell_type": "markdown",
   "metadata": {},
   "source": [
    "Podemos ver que finalmente, se limpiaron todos los datos vacíos de la base de datos. Ahora podemos prodecer a la siguiente misión."
   ]
  },
  {
   "cell_type": "markdown",
   "metadata": {},
   "source": [
    "## Misión 2: Predicción de la Especie\n",
    "\n",
    "Ya con los datos completos, su objetivo construir modelos que permitan predecir la especie de un pingüino dadas sus características. En particular, deberá evaluar dos posibles estrategias para construir modelos:"
   ]
  },
  {
   "cell_type": "markdown",
   "metadata": {},
   "source": [
    "### Predicción Tradicional:\n",
    "\n",
    "Se debe dividir la data en data del tipo X e y, donde y será la Especie (columna `species`) y las demás formarán parte de los X. También es importante hacer que todas las variables cualitativas pasen a ser cualitativas. Siguiendo los pasos de la ayudantía y lo hecho en clases, entonces, se hace lo siguiente:\n",
    "\n",
    "Partamos por ajustar las variables cualitativas a cuantitativas."
   ]
  },
  {
   "cell_type": "code",
   "execution_count": null,
   "metadata": {},
   "outputs": [],
   "source": [
    "from sklearn.preprocessing import LabelEncoder\n",
    "\n",
    "var_mod = ['species','island','sex']\n",
    "le = LabelEncoder()\n",
    "for i in var_mod:\n",
    "    train[i] = le.fit_transform(train[i])"
   ]
  },
  {
   "cell_type": "code",
   "execution_count": null,
   "metadata": {},
   "outputs": [],
   "source": [
    "train.drop(\"Unnamed: 0\", axis = 1, inplace = True )"
   ]
  },
  {
   "cell_type": "code",
   "execution_count": 118,
   "metadata": {},
   "outputs": [
    {
     "data": {
      "text/html": [
       "<div>\n",
       "<style scoped>\n",
       "    .dataframe tbody tr th:only-of-type {\n",
       "        vertical-align: middle;\n",
       "    }\n",
       "\n",
       "    .dataframe tbody tr th {\n",
       "        vertical-align: top;\n",
       "    }\n",
       "\n",
       "    .dataframe thead th {\n",
       "        text-align: right;\n",
       "    }\n",
       "</style>\n",
       "<table border=\"1\" class=\"dataframe\">\n",
       "  <thead>\n",
       "    <tr style=\"text-align: right;\">\n",
       "      <th></th>\n",
       "      <th>species</th>\n",
       "      <th>island</th>\n",
       "      <th>culmen_length_mm</th>\n",
       "      <th>culmen_depth_mm</th>\n",
       "      <th>flipper_length_mm</th>\n",
       "      <th>body_mass_g</th>\n",
       "      <th>sex</th>\n",
       "    </tr>\n",
       "  </thead>\n",
       "  <tbody>\n",
       "    <tr>\n",
       "      <th>327</th>\n",
       "      <td>2</td>\n",
       "      <td>0</td>\n",
       "      <td>53.4</td>\n",
       "      <td>15.8</td>\n",
       "      <td>219.0</td>\n",
       "      <td>5500.0</td>\n",
       "      <td>1</td>\n",
       "    </tr>\n",
       "    <tr>\n",
       "      <th>227</th>\n",
       "      <td>2</td>\n",
       "      <td>0</td>\n",
       "      <td>46.7</td>\n",
       "      <td>15.3</td>\n",
       "      <td>219.0</td>\n",
       "      <td>5200.0</td>\n",
       "      <td>1</td>\n",
       "    </tr>\n",
       "    <tr>\n",
       "      <th>314</th>\n",
       "      <td>2</td>\n",
       "      <td>0</td>\n",
       "      <td>44.5</td>\n",
       "      <td>14.7</td>\n",
       "      <td>214.0</td>\n",
       "      <td>4850.0</td>\n",
       "      <td>0</td>\n",
       "    </tr>\n",
       "    <tr>\n",
       "      <th>268</th>\n",
       "      <td>2</td>\n",
       "      <td>0</td>\n",
       "      <td>44.9</td>\n",
       "      <td>13.3</td>\n",
       "      <td>213.0</td>\n",
       "      <td>5100.0</td>\n",
       "      <td>0</td>\n",
       "    </tr>\n",
       "    <tr>\n",
       "      <th>297</th>\n",
       "      <td>2</td>\n",
       "      <td>0</td>\n",
       "      <td>51.1</td>\n",
       "      <td>16.3</td>\n",
       "      <td>220.0</td>\n",
       "      <td>6000.0</td>\n",
       "      <td>1</td>\n",
       "    </tr>\n",
       "  </tbody>\n",
       "</table>\n",
       "</div>"
      ],
      "text/plain": [
       "     species  island  culmen_length_mm  culmen_depth_mm  flipper_length_mm  \\\n",
       "327        2       0              53.4             15.8              219.0   \n",
       "227        2       0              46.7             15.3              219.0   \n",
       "314        2       0              44.5             14.7              214.0   \n",
       "268        2       0              44.9             13.3              213.0   \n",
       "297        2       0              51.1             16.3              220.0   \n",
       "\n",
       "     body_mass_g  sex  \n",
       "327       5500.0    1  \n",
       "227       5200.0    1  \n",
       "314       4850.0    0  \n",
       "268       5100.0    0  \n",
       "297       6000.0    1  "
      ]
     },
     "execution_count": 118,
     "metadata": {},
     "output_type": "execute_result"
    }
   ],
   "source": [
    "train.head()"
   ]
  },
  {
   "cell_type": "code",
   "execution_count": null,
   "metadata": {},
   "outputs": [],
   "source": [
    "var_mod = ['species','island','sex']\n",
    "le = LabelEncoder()\n",
    "for i in var_mod:\n",
    "    test[i] = le.fit_transform(test[i])"
   ]
  },
  {
   "cell_type": "code",
   "execution_count": null,
   "metadata": {},
   "outputs": [],
   "source": [
    "test.drop(\"Unnamed: 0\", axis = 1, inplace = True )"
   ]
  },
  {
   "cell_type": "code",
   "execution_count": 120,
   "metadata": {},
   "outputs": [
    {
     "data": {
      "text/html": [
       "<div>\n",
       "<style scoped>\n",
       "    .dataframe tbody tr th:only-of-type {\n",
       "        vertical-align: middle;\n",
       "    }\n",
       "\n",
       "    .dataframe tbody tr th {\n",
       "        vertical-align: top;\n",
       "    }\n",
       "\n",
       "    .dataframe thead th {\n",
       "        text-align: right;\n",
       "    }\n",
       "</style>\n",
       "<table border=\"1\" class=\"dataframe\">\n",
       "  <thead>\n",
       "    <tr style=\"text-align: right;\">\n",
       "      <th></th>\n",
       "      <th>species</th>\n",
       "      <th>island</th>\n",
       "      <th>culmen_length_mm</th>\n",
       "      <th>culmen_depth_mm</th>\n",
       "      <th>flipper_length_mm</th>\n",
       "      <th>body_mass_g</th>\n",
       "      <th>sex</th>\n",
       "    </tr>\n",
       "  </thead>\n",
       "  <tbody>\n",
       "    <tr>\n",
       "      <th>310</th>\n",
       "      <td>2</td>\n",
       "      <td>0</td>\n",
       "      <td>47.5</td>\n",
       "      <td>15.0</td>\n",
       "      <td>218.0</td>\n",
       "      <td>4950.0</td>\n",
       "      <td>0</td>\n",
       "    </tr>\n",
       "    <tr>\n",
       "      <th>105</th>\n",
       "      <td>0</td>\n",
       "      <td>0</td>\n",
       "      <td>39.7</td>\n",
       "      <td>18.9</td>\n",
       "      <td>194.0</td>\n",
       "      <td>3550.0</td>\n",
       "      <td>1</td>\n",
       "    </tr>\n",
       "    <tr>\n",
       "      <th>274</th>\n",
       "      <td>2</td>\n",
       "      <td>0</td>\n",
       "      <td>46.5</td>\n",
       "      <td>14.4</td>\n",
       "      <td>217.0</td>\n",
       "      <td>4900.0</td>\n",
       "      <td>0</td>\n",
       "    </tr>\n",
       "    <tr>\n",
       "      <th>112</th>\n",
       "      <td>0</td>\n",
       "      <td>0</td>\n",
       "      <td>39.7</td>\n",
       "      <td>17.7</td>\n",
       "      <td>193.0</td>\n",
       "      <td>3200.0</td>\n",
       "      <td>0</td>\n",
       "    </tr>\n",
       "    <tr>\n",
       "      <th>56</th>\n",
       "      <td>0</td>\n",
       "      <td>0</td>\n",
       "      <td>39.0</td>\n",
       "      <td>17.5</td>\n",
       "      <td>187.0</td>\n",
       "      <td>3550.0</td>\n",
       "      <td>0</td>\n",
       "    </tr>\n",
       "  </tbody>\n",
       "</table>\n",
       "</div>"
      ],
      "text/plain": [
       "     species  island  culmen_length_mm  culmen_depth_mm  flipper_length_mm  \\\n",
       "310        2       0              47.5             15.0              218.0   \n",
       "105        0       0              39.7             18.9              194.0   \n",
       "274        2       0              46.5             14.4              217.0   \n",
       "112        0       0              39.7             17.7              193.0   \n",
       "56         0       0              39.0             17.5              187.0   \n",
       "\n",
       "     body_mass_g  sex  \n",
       "310       4950.0    0  \n",
       "105       3550.0    1  \n",
       "274       4900.0    0  \n",
       "112       3200.0    0  \n",
       "56        3550.0    0  "
      ]
     },
     "execution_count": 120,
     "metadata": {},
     "output_type": "execute_result"
    }
   ],
   "source": [
    "test.head()"
   ]
  },
  {
   "cell_type": "markdown",
   "metadata": {},
   "source": [
    "Ahora definimos nustros X y nuestro y, para el set de entrenamiento y para el de validación."
   ]
  },
  {
   "cell_type": "code",
   "execution_count": 121,
   "metadata": {},
   "outputs": [],
   "source": [
    "X_train = train.drop('species', axis=1)"
   ]
  },
  {
   "cell_type": "code",
   "execution_count": 126,
   "metadata": {},
   "outputs": [],
   "source": [
    "y_train = train['species']"
   ]
  },
  {
   "cell_type": "code",
   "execution_count": 128,
   "metadata": {},
   "outputs": [
    {
     "data": {
      "text/html": [
       "<div>\n",
       "<style scoped>\n",
       "    .dataframe tbody tr th:only-of-type {\n",
       "        vertical-align: middle;\n",
       "    }\n",
       "\n",
       "    .dataframe tbody tr th {\n",
       "        vertical-align: top;\n",
       "    }\n",
       "\n",
       "    .dataframe thead th {\n",
       "        text-align: right;\n",
       "    }\n",
       "</style>\n",
       "<table border=\"1\" class=\"dataframe\">\n",
       "  <thead>\n",
       "    <tr style=\"text-align: right;\">\n",
       "      <th></th>\n",
       "      <th>island</th>\n",
       "      <th>culmen_length_mm</th>\n",
       "      <th>culmen_depth_mm</th>\n",
       "      <th>flipper_length_mm</th>\n",
       "      <th>body_mass_g</th>\n",
       "      <th>sex</th>\n",
       "    </tr>\n",
       "  </thead>\n",
       "  <tbody>\n",
       "    <tr>\n",
       "      <th>327</th>\n",
       "      <td>0</td>\n",
       "      <td>53.4</td>\n",
       "      <td>15.8</td>\n",
       "      <td>219.0</td>\n",
       "      <td>5500.0</td>\n",
       "      <td>1</td>\n",
       "    </tr>\n",
       "    <tr>\n",
       "      <th>227</th>\n",
       "      <td>0</td>\n",
       "      <td>46.7</td>\n",
       "      <td>15.3</td>\n",
       "      <td>219.0</td>\n",
       "      <td>5200.0</td>\n",
       "      <td>1</td>\n",
       "    </tr>\n",
       "    <tr>\n",
       "      <th>314</th>\n",
       "      <td>0</td>\n",
       "      <td>44.5</td>\n",
       "      <td>14.7</td>\n",
       "      <td>214.0</td>\n",
       "      <td>4850.0</td>\n",
       "      <td>0</td>\n",
       "    </tr>\n",
       "    <tr>\n",
       "      <th>268</th>\n",
       "      <td>0</td>\n",
       "      <td>44.9</td>\n",
       "      <td>13.3</td>\n",
       "      <td>213.0</td>\n",
       "      <td>5100.0</td>\n",
       "      <td>0</td>\n",
       "    </tr>\n",
       "    <tr>\n",
       "      <th>297</th>\n",
       "      <td>0</td>\n",
       "      <td>51.1</td>\n",
       "      <td>16.3</td>\n",
       "      <td>220.0</td>\n",
       "      <td>6000.0</td>\n",
       "      <td>1</td>\n",
       "    </tr>\n",
       "    <tr>\n",
       "      <th>...</th>\n",
       "      <td>...</td>\n",
       "      <td>...</td>\n",
       "      <td>...</td>\n",
       "      <td>...</td>\n",
       "      <td>...</td>\n",
       "      <td>...</td>\n",
       "    </tr>\n",
       "    <tr>\n",
       "      <th>107</th>\n",
       "      <td>0</td>\n",
       "      <td>38.2</td>\n",
       "      <td>20.0</td>\n",
       "      <td>190.0</td>\n",
       "      <td>3900.0</td>\n",
       "      <td>1</td>\n",
       "    </tr>\n",
       "    <tr>\n",
       "      <th>4</th>\n",
       "      <td>2</td>\n",
       "      <td>36.7</td>\n",
       "      <td>19.3</td>\n",
       "      <td>193.0</td>\n",
       "      <td>3450.0</td>\n",
       "      <td>0</td>\n",
       "    </tr>\n",
       "    <tr>\n",
       "      <th>213</th>\n",
       "      <td>1</td>\n",
       "      <td>46.8</td>\n",
       "      <td>16.5</td>\n",
       "      <td>189.0</td>\n",
       "      <td>3650.0</td>\n",
       "      <td>0</td>\n",
       "    </tr>\n",
       "    <tr>\n",
       "      <th>260</th>\n",
       "      <td>0</td>\n",
       "      <td>42.7</td>\n",
       "      <td>13.7</td>\n",
       "      <td>208.0</td>\n",
       "      <td>3950.0</td>\n",
       "      <td>0</td>\n",
       "    </tr>\n",
       "    <tr>\n",
       "      <th>16</th>\n",
       "      <td>2</td>\n",
       "      <td>38.7</td>\n",
       "      <td>19.0</td>\n",
       "      <td>195.0</td>\n",
       "      <td>3450.0</td>\n",
       "      <td>0</td>\n",
       "    </tr>\n",
       "  </tbody>\n",
       "</table>\n",
       "<p>240 rows × 6 columns</p>\n",
       "</div>"
      ],
      "text/plain": [
       "     island  culmen_length_mm  culmen_depth_mm  flipper_length_mm  \\\n",
       "327       0              53.4             15.8              219.0   \n",
       "227       0              46.7             15.3              219.0   \n",
       "314       0              44.5             14.7              214.0   \n",
       "268       0              44.9             13.3              213.0   \n",
       "297       0              51.1             16.3              220.0   \n",
       "..      ...               ...              ...                ...   \n",
       "107       0              38.2             20.0              190.0   \n",
       "4         2              36.7             19.3              193.0   \n",
       "213       1              46.8             16.5              189.0   \n",
       "260       0              42.7             13.7              208.0   \n",
       "16        2              38.7             19.0              195.0   \n",
       "\n",
       "     body_mass_g  sex  \n",
       "327       5500.0    1  \n",
       "227       5200.0    1  \n",
       "314       4850.0    0  \n",
       "268       5100.0    0  \n",
       "297       6000.0    1  \n",
       "..           ...  ...  \n",
       "107       3900.0    1  \n",
       "4         3450.0    0  \n",
       "213       3650.0    0  \n",
       "260       3950.0    0  \n",
       "16        3450.0    0  \n",
       "\n",
       "[240 rows x 6 columns]"
      ]
     },
     "metadata": {},
     "output_type": "display_data"
    }
   ],
   "source": [
    "display(X_train)"
   ]
  },
  {
   "cell_type": "code",
   "execution_count": 127,
   "metadata": {},
   "outputs": [
    {
     "data": {
      "text/plain": [
       "327    2\n",
       "227    2\n",
       "314    2\n",
       "268    2\n",
       "297    2\n",
       "      ..\n",
       "107    0\n",
       "4      0\n",
       "213    1\n",
       "260    2\n",
       "16     0\n",
       "Name: species, Length: 240, dtype: int64"
      ]
     },
     "metadata": {},
     "output_type": "display_data"
    }
   ],
   "source": [
    "display(y_train)"
   ]
  },
  {
   "cell_type": "markdown",
   "metadata": {},
   "source": [
    "Procedemos a hacer lo mismo con nuestro set de Testeo."
   ]
  },
  {
   "cell_type": "code",
   "execution_count": 129,
   "metadata": {},
   "outputs": [],
   "source": [
    "X_test = test.drop('species', axis=1)"
   ]
  },
  {
   "cell_type": "code",
   "execution_count": 130,
   "metadata": {},
   "outputs": [],
   "source": [
    "y_test = test[\"species\"]"
   ]
  },
  {
   "cell_type": "code",
   "execution_count": 131,
   "metadata": {},
   "outputs": [
    {
     "data": {
      "text/html": [
       "<div>\n",
       "<style scoped>\n",
       "    .dataframe tbody tr th:only-of-type {\n",
       "        vertical-align: middle;\n",
       "    }\n",
       "\n",
       "    .dataframe tbody tr th {\n",
       "        vertical-align: top;\n",
       "    }\n",
       "\n",
       "    .dataframe thead th {\n",
       "        text-align: right;\n",
       "    }\n",
       "</style>\n",
       "<table border=\"1\" class=\"dataframe\">\n",
       "  <thead>\n",
       "    <tr style=\"text-align: right;\">\n",
       "      <th></th>\n",
       "      <th>island</th>\n",
       "      <th>culmen_length_mm</th>\n",
       "      <th>culmen_depth_mm</th>\n",
       "      <th>flipper_length_mm</th>\n",
       "      <th>body_mass_g</th>\n",
       "      <th>sex</th>\n",
       "    </tr>\n",
       "  </thead>\n",
       "  <tbody>\n",
       "    <tr>\n",
       "      <th>310</th>\n",
       "      <td>0</td>\n",
       "      <td>47.5</td>\n",
       "      <td>15.0</td>\n",
       "      <td>218.0</td>\n",
       "      <td>4950.0</td>\n",
       "      <td>0</td>\n",
       "    </tr>\n",
       "    <tr>\n",
       "      <th>105</th>\n",
       "      <td>0</td>\n",
       "      <td>39.7</td>\n",
       "      <td>18.9</td>\n",
       "      <td>194.0</td>\n",
       "      <td>3550.0</td>\n",
       "      <td>1</td>\n",
       "    </tr>\n",
       "    <tr>\n",
       "      <th>274</th>\n",
       "      <td>0</td>\n",
       "      <td>46.5</td>\n",
       "      <td>14.4</td>\n",
       "      <td>217.0</td>\n",
       "      <td>4900.0</td>\n",
       "      <td>0</td>\n",
       "    </tr>\n",
       "    <tr>\n",
       "      <th>112</th>\n",
       "      <td>0</td>\n",
       "      <td>39.7</td>\n",
       "      <td>17.7</td>\n",
       "      <td>193.0</td>\n",
       "      <td>3200.0</td>\n",
       "      <td>0</td>\n",
       "    </tr>\n",
       "    <tr>\n",
       "      <th>56</th>\n",
       "      <td>0</td>\n",
       "      <td>39.0</td>\n",
       "      <td>17.5</td>\n",
       "      <td>187.0</td>\n",
       "      <td>3550.0</td>\n",
       "      <td>0</td>\n",
       "    </tr>\n",
       "    <tr>\n",
       "      <th>...</th>\n",
       "      <td>...</td>\n",
       "      <td>...</td>\n",
       "      <td>...</td>\n",
       "      <td>...</td>\n",
       "      <td>...</td>\n",
       "      <td>...</td>\n",
       "    </tr>\n",
       "    <tr>\n",
       "      <th>171</th>\n",
       "      <td>1</td>\n",
       "      <td>49.2</td>\n",
       "      <td>18.2</td>\n",
       "      <td>195.0</td>\n",
       "      <td>4400.0</td>\n",
       "      <td>1</td>\n",
       "    </tr>\n",
       "    <tr>\n",
       "      <th>8</th>\n",
       "      <td>2</td>\n",
       "      <td>34.1</td>\n",
       "      <td>18.1</td>\n",
       "      <td>193.0</td>\n",
       "      <td>3475.0</td>\n",
       "      <td>1</td>\n",
       "    </tr>\n",
       "    <tr>\n",
       "      <th>305</th>\n",
       "      <td>0</td>\n",
       "      <td>50.8</td>\n",
       "      <td>17.3</td>\n",
       "      <td>228.0</td>\n",
       "      <td>5600.0</td>\n",
       "      <td>1</td>\n",
       "    </tr>\n",
       "    <tr>\n",
       "      <th>332</th>\n",
       "      <td>0</td>\n",
       "      <td>43.5</td>\n",
       "      <td>15.2</td>\n",
       "      <td>213.0</td>\n",
       "      <td>4650.0</td>\n",
       "      <td>0</td>\n",
       "    </tr>\n",
       "    <tr>\n",
       "      <th>320</th>\n",
       "      <td>0</td>\n",
       "      <td>48.5</td>\n",
       "      <td>15.0</td>\n",
       "      <td>215.0</td>\n",
       "      <td>4850.0</td>\n",
       "      <td>0</td>\n",
       "    </tr>\n",
       "  </tbody>\n",
       "</table>\n",
       "<p>104 rows × 6 columns</p>\n",
       "</div>"
      ],
      "text/plain": [
       "     island  culmen_length_mm  culmen_depth_mm  flipper_length_mm  \\\n",
       "310       0              47.5             15.0              218.0   \n",
       "105       0              39.7             18.9              194.0   \n",
       "274       0              46.5             14.4              217.0   \n",
       "112       0              39.7             17.7              193.0   \n",
       "56        0              39.0             17.5              187.0   \n",
       "..      ...               ...              ...                ...   \n",
       "171       1              49.2             18.2              195.0   \n",
       "8         2              34.1             18.1              193.0   \n",
       "305       0              50.8             17.3              228.0   \n",
       "332       0              43.5             15.2              213.0   \n",
       "320       0              48.5             15.0              215.0   \n",
       "\n",
       "     body_mass_g  sex  \n",
       "310       4950.0    0  \n",
       "105       3550.0    1  \n",
       "274       4900.0    0  \n",
       "112       3200.0    0  \n",
       "56        3550.0    0  \n",
       "..           ...  ...  \n",
       "171       4400.0    1  \n",
       "8         3475.0    1  \n",
       "305       5600.0    1  \n",
       "332       4650.0    0  \n",
       "320       4850.0    0  \n",
       "\n",
       "[104 rows x 6 columns]"
      ]
     },
     "metadata": {},
     "output_type": "display_data"
    }
   ],
   "source": [
    "display(X_test)"
   ]
  },
  {
   "cell_type": "code",
   "execution_count": 132,
   "metadata": {},
   "outputs": [
    {
     "data": {
      "text/plain": [
       "310    2\n",
       "105    0\n",
       "274    2\n",
       "112    0\n",
       "56     0\n",
       "      ..\n",
       "171    1\n",
       "8      0\n",
       "305    2\n",
       "332    2\n",
       "320    2\n",
       "Name: species, Length: 104, dtype: int64"
      ]
     },
     "metadata": {},
     "output_type": "display_data"
    }
   ],
   "source": [
    "display(y_test)"
   ]
  },
  {
   "cell_type": "markdown",
   "metadata": {},
   "source": [
    "**Empezamos ahora a usar los modelos como se vió en la ayudantía**. \n",
    "\n",
    "En la ayudantía no se usó un set de validación, por lo que acá tampoco. No es la idea comparar modelos, sino que mostrar distintos modelos que sirvas (Regresión lineal obviamente no sirve) y ver el rendimiento de cada uno. Es importante tener en cuenta que no porque un modelo tenga mejor rendimiento en el set de testeo será mejor. Para decir eso, es más correcto, evaluar los distintos modelos en un set de validación (una parte del set de train) y ver cual se desempeña mejor. Teniendo el mejor modelo en mano, procedo a evaluar el ganador con el set de Testeo.\n",
    "\n",
    "### KNN:\n",
    "\n",
    "Este modelo tiene un 76% de desempeño."
   ]
  },
  {
   "cell_type": "code",
   "execution_count": 133,
   "metadata": {},
   "outputs": [],
   "source": [
    "from sklearn import datasets, metrics, neighbors, decomposition, manifold\n",
    "\n",
    "knn = neighbors.KNeighborsClassifier(n_neighbors=1)\n",
    "knn.fit(X_train, y_train)\n",
    "predicted = knn.predict(X_test)"
   ]
  },
  {
   "cell_type": "code",
   "execution_count": 134,
   "metadata": {},
   "outputs": [
    {
     "name": "stdout",
     "output_type": "stream",
     "text": [
      "Accuracy: 0.7626804719827976\n"
     ]
    }
   ],
   "source": [
    "print(\"Accuracy: %s\" % metrics.balanced_accuracy_score(y_test, predicted))\n"
   ]
  },
  {
   "cell_type": "markdown",
   "metadata": {},
   "source": [
    "### Support Vector Machine (SVM):\n",
    "\n",
    "Veamos como funciona, notamos que la accuracy cayó...! Nuevamente no podemos concluir que conviene usar KNN, porque no fuimos rigurosos al no definir el Validation Set. Seleccionamos el kernel, `rbf`, ya que creo que será mejor que polimomial o lineal."
   ]
  },
  {
   "cell_type": "code",
   "execution_count": 137,
   "metadata": {},
   "outputs": [
    {
     "name": "stdout",
     "output_type": "stream",
     "text": [
      "Accuracy: 0.7403846153846154\n",
      "Balanced accuracy: 0.6271119061816736\n"
     ]
    }
   ],
   "source": [
    "from sklearn.svm import SVC\n",
    "\n",
    "svm = SVC(kernel='rbf') \n",
    "svm.fit(X_train, y_train)\n",
    "predicted = svm.predict(X_test)\n",
    "\n",
    "print(\"Accuracy: %s\" % metrics.accuracy_score(y_test, predicted))\n",
    "print(\"Balanced accuracy: %s\" % metrics.balanced_accuracy_score(y_test, predicted))"
   ]
  },
  {
   "cell_type": "markdown",
   "metadata": {},
   "source": [
    "### Red Neuronal:\n",
    "\n",
    "La verdad es que es el que más fe le tengo. Veamos como le va, con 115 nodos escondidos. Sin embargo, no fue mejor que el KNN. "
   ]
  },
  {
   "cell_type": "code",
   "execution_count": 171,
   "metadata": {},
   "outputs": [
    {
     "name": "stdout",
     "output_type": "stream",
     "text": [
      "Accuracy: 0.7603675394373068\n"
     ]
    }
   ],
   "source": [
    "from sklearn.neural_network import MLPClassifier\n",
    "\n",
    "mlp = MLPClassifier(hidden_layer_sizes=(115,), max_iter=10000) # 10\n",
    "mlp.fit(X_train, y_train)\n",
    "predicted = mlp.predict(X_test)\n",
    "\n",
    "print(\"Accuracy: %s\" % metrics.balanced_accuracy_score(y_test, predicted))"
   ]
  },
  {
   "cell_type": "markdown",
   "metadata": {},
   "source": [
    "### Predicción Jerárquica:\n",
    "\n",
    "Primero debo definir una columna que se llamará \"Adelie\". En esta todas las variables serán 0 salvo si la observación corresponde a esta misma especie. De esta forma es más posible lograr el famoso *One versus All* que nos piden. La columna 0 corresponde, a la Dummy Adelie. "
   ]
  },
  {
   "cell_type": "code",
   "execution_count": 175,
   "metadata": {},
   "outputs": [],
   "source": [
    "dummies = pd.get_dummies(train[\"species\"])"
   ]
  },
  {
   "cell_type": "code",
   "execution_count": 176,
   "metadata": {},
   "outputs": [],
   "source": [
    "train2 = pd.concat([train, dummies], axis = 1)"
   ]
  },
  {
   "cell_type": "code",
   "execution_count": 177,
   "metadata": {},
   "outputs": [
    {
     "data": {
      "text/html": [
       "<div>\n",
       "<style scoped>\n",
       "    .dataframe tbody tr th:only-of-type {\n",
       "        vertical-align: middle;\n",
       "    }\n",
       "\n",
       "    .dataframe tbody tr th {\n",
       "        vertical-align: top;\n",
       "    }\n",
       "\n",
       "    .dataframe thead th {\n",
       "        text-align: right;\n",
       "    }\n",
       "</style>\n",
       "<table border=\"1\" class=\"dataframe\">\n",
       "  <thead>\n",
       "    <tr style=\"text-align: right;\">\n",
       "      <th></th>\n",
       "      <th>species</th>\n",
       "      <th>island</th>\n",
       "      <th>culmen_length_mm</th>\n",
       "      <th>culmen_depth_mm</th>\n",
       "      <th>flipper_length_mm</th>\n",
       "      <th>body_mass_g</th>\n",
       "      <th>sex</th>\n",
       "      <th>0</th>\n",
       "      <th>1</th>\n",
       "      <th>2</th>\n",
       "    </tr>\n",
       "  </thead>\n",
       "  <tbody>\n",
       "    <tr>\n",
       "      <th>327</th>\n",
       "      <td>2</td>\n",
       "      <td>0</td>\n",
       "      <td>53.4</td>\n",
       "      <td>15.8</td>\n",
       "      <td>219.0</td>\n",
       "      <td>5500.0</td>\n",
       "      <td>1</td>\n",
       "      <td>0</td>\n",
       "      <td>0</td>\n",
       "      <td>1</td>\n",
       "    </tr>\n",
       "    <tr>\n",
       "      <th>227</th>\n",
       "      <td>2</td>\n",
       "      <td>0</td>\n",
       "      <td>46.7</td>\n",
       "      <td>15.3</td>\n",
       "      <td>219.0</td>\n",
       "      <td>5200.0</td>\n",
       "      <td>1</td>\n",
       "      <td>0</td>\n",
       "      <td>0</td>\n",
       "      <td>1</td>\n",
       "    </tr>\n",
       "    <tr>\n",
       "      <th>314</th>\n",
       "      <td>2</td>\n",
       "      <td>0</td>\n",
       "      <td>44.5</td>\n",
       "      <td>14.7</td>\n",
       "      <td>214.0</td>\n",
       "      <td>4850.0</td>\n",
       "      <td>0</td>\n",
       "      <td>0</td>\n",
       "      <td>0</td>\n",
       "      <td>1</td>\n",
       "    </tr>\n",
       "    <tr>\n",
       "      <th>268</th>\n",
       "      <td>2</td>\n",
       "      <td>0</td>\n",
       "      <td>44.9</td>\n",
       "      <td>13.3</td>\n",
       "      <td>213.0</td>\n",
       "      <td>5100.0</td>\n",
       "      <td>0</td>\n",
       "      <td>0</td>\n",
       "      <td>0</td>\n",
       "      <td>1</td>\n",
       "    </tr>\n",
       "    <tr>\n",
       "      <th>297</th>\n",
       "      <td>2</td>\n",
       "      <td>0</td>\n",
       "      <td>51.1</td>\n",
       "      <td>16.3</td>\n",
       "      <td>220.0</td>\n",
       "      <td>6000.0</td>\n",
       "      <td>1</td>\n",
       "      <td>0</td>\n",
       "      <td>0</td>\n",
       "      <td>1</td>\n",
       "    </tr>\n",
       "    <tr>\n",
       "      <th>...</th>\n",
       "      <td>...</td>\n",
       "      <td>...</td>\n",
       "      <td>...</td>\n",
       "      <td>...</td>\n",
       "      <td>...</td>\n",
       "      <td>...</td>\n",
       "      <td>...</td>\n",
       "      <td>...</td>\n",
       "      <td>...</td>\n",
       "      <td>...</td>\n",
       "    </tr>\n",
       "    <tr>\n",
       "      <th>107</th>\n",
       "      <td>0</td>\n",
       "      <td>0</td>\n",
       "      <td>38.2</td>\n",
       "      <td>20.0</td>\n",
       "      <td>190.0</td>\n",
       "      <td>3900.0</td>\n",
       "      <td>1</td>\n",
       "      <td>1</td>\n",
       "      <td>0</td>\n",
       "      <td>0</td>\n",
       "    </tr>\n",
       "    <tr>\n",
       "      <th>4</th>\n",
       "      <td>0</td>\n",
       "      <td>2</td>\n",
       "      <td>36.7</td>\n",
       "      <td>19.3</td>\n",
       "      <td>193.0</td>\n",
       "      <td>3450.0</td>\n",
       "      <td>0</td>\n",
       "      <td>1</td>\n",
       "      <td>0</td>\n",
       "      <td>0</td>\n",
       "    </tr>\n",
       "    <tr>\n",
       "      <th>213</th>\n",
       "      <td>1</td>\n",
       "      <td>1</td>\n",
       "      <td>46.8</td>\n",
       "      <td>16.5</td>\n",
       "      <td>189.0</td>\n",
       "      <td>3650.0</td>\n",
       "      <td>0</td>\n",
       "      <td>0</td>\n",
       "      <td>1</td>\n",
       "      <td>0</td>\n",
       "    </tr>\n",
       "    <tr>\n",
       "      <th>260</th>\n",
       "      <td>2</td>\n",
       "      <td>0</td>\n",
       "      <td>42.7</td>\n",
       "      <td>13.7</td>\n",
       "      <td>208.0</td>\n",
       "      <td>3950.0</td>\n",
       "      <td>0</td>\n",
       "      <td>0</td>\n",
       "      <td>0</td>\n",
       "      <td>1</td>\n",
       "    </tr>\n",
       "    <tr>\n",
       "      <th>16</th>\n",
       "      <td>0</td>\n",
       "      <td>2</td>\n",
       "      <td>38.7</td>\n",
       "      <td>19.0</td>\n",
       "      <td>195.0</td>\n",
       "      <td>3450.0</td>\n",
       "      <td>0</td>\n",
       "      <td>1</td>\n",
       "      <td>0</td>\n",
       "      <td>0</td>\n",
       "    </tr>\n",
       "  </tbody>\n",
       "</table>\n",
       "<p>240 rows × 10 columns</p>\n",
       "</div>"
      ],
      "text/plain": [
       "     species  island  culmen_length_mm  culmen_depth_mm  flipper_length_mm  \\\n",
       "327        2       0              53.4             15.8              219.0   \n",
       "227        2       0              46.7             15.3              219.0   \n",
       "314        2       0              44.5             14.7              214.0   \n",
       "268        2       0              44.9             13.3              213.0   \n",
       "297        2       0              51.1             16.3              220.0   \n",
       "..       ...     ...               ...              ...                ...   \n",
       "107        0       0              38.2             20.0              190.0   \n",
       "4          0       2              36.7             19.3              193.0   \n",
       "213        1       1              46.8             16.5              189.0   \n",
       "260        2       0              42.7             13.7              208.0   \n",
       "16         0       2              38.7             19.0              195.0   \n",
       "\n",
       "     body_mass_g  sex  0  1  2  \n",
       "327       5500.0    1  0  0  1  \n",
       "227       5200.0    1  0  0  1  \n",
       "314       4850.0    0  0  0  1  \n",
       "268       5100.0    0  0  0  1  \n",
       "297       6000.0    1  0  0  1  \n",
       "..           ...  ... .. .. ..  \n",
       "107       3900.0    1  1  0  0  \n",
       "4         3450.0    0  1  0  0  \n",
       "213       3650.0    0  0  1  0  \n",
       "260       3950.0    0  0  0  1  \n",
       "16        3450.0    0  1  0  0  \n",
       "\n",
       "[240 rows x 10 columns]"
      ]
     },
     "execution_count": 177,
     "metadata": {},
     "output_type": "execute_result"
    }
   ],
   "source": [
    "train2"
   ]
  },
  {
   "cell_type": "code",
   "execution_count": 181,
   "metadata": {},
   "outputs": [],
   "source": [
    "train2.drop(1, axis = 1, inplace = True )"
   ]
  },
  {
   "cell_type": "code",
   "execution_count": null,
   "metadata": {},
   "outputs": [],
   "source": [
    "train2.drop(2, axis = 1, inplace = True )"
   ]
  },
  {
   "cell_type": "code",
   "execution_count": 187,
   "metadata": {},
   "outputs": [],
   "source": [
    "train2.drop(\"species\", axis = 1, inplace = True )"
   ]
  },
  {
   "cell_type": "code",
   "execution_count": 188,
   "metadata": {},
   "outputs": [
    {
     "data": {
      "text/html": [
       "<div>\n",
       "<style scoped>\n",
       "    .dataframe tbody tr th:only-of-type {\n",
       "        vertical-align: middle;\n",
       "    }\n",
       "\n",
       "    .dataframe tbody tr th {\n",
       "        vertical-align: top;\n",
       "    }\n",
       "\n",
       "    .dataframe thead th {\n",
       "        text-align: right;\n",
       "    }\n",
       "</style>\n",
       "<table border=\"1\" class=\"dataframe\">\n",
       "  <thead>\n",
       "    <tr style=\"text-align: right;\">\n",
       "      <th></th>\n",
       "      <th>island</th>\n",
       "      <th>culmen_length_mm</th>\n",
       "      <th>culmen_depth_mm</th>\n",
       "      <th>flipper_length_mm</th>\n",
       "      <th>body_mass_g</th>\n",
       "      <th>sex</th>\n",
       "      <th>0</th>\n",
       "    </tr>\n",
       "  </thead>\n",
       "  <tbody>\n",
       "    <tr>\n",
       "      <th>327</th>\n",
       "      <td>0</td>\n",
       "      <td>53.4</td>\n",
       "      <td>15.8</td>\n",
       "      <td>219.0</td>\n",
       "      <td>5500.0</td>\n",
       "      <td>1</td>\n",
       "      <td>0</td>\n",
       "    </tr>\n",
       "    <tr>\n",
       "      <th>227</th>\n",
       "      <td>0</td>\n",
       "      <td>46.7</td>\n",
       "      <td>15.3</td>\n",
       "      <td>219.0</td>\n",
       "      <td>5200.0</td>\n",
       "      <td>1</td>\n",
       "      <td>0</td>\n",
       "    </tr>\n",
       "    <tr>\n",
       "      <th>314</th>\n",
       "      <td>0</td>\n",
       "      <td>44.5</td>\n",
       "      <td>14.7</td>\n",
       "      <td>214.0</td>\n",
       "      <td>4850.0</td>\n",
       "      <td>0</td>\n",
       "      <td>0</td>\n",
       "    </tr>\n",
       "    <tr>\n",
       "      <th>268</th>\n",
       "      <td>0</td>\n",
       "      <td>44.9</td>\n",
       "      <td>13.3</td>\n",
       "      <td>213.0</td>\n",
       "      <td>5100.0</td>\n",
       "      <td>0</td>\n",
       "      <td>0</td>\n",
       "    </tr>\n",
       "    <tr>\n",
       "      <th>297</th>\n",
       "      <td>0</td>\n",
       "      <td>51.1</td>\n",
       "      <td>16.3</td>\n",
       "      <td>220.0</td>\n",
       "      <td>6000.0</td>\n",
       "      <td>1</td>\n",
       "      <td>0</td>\n",
       "    </tr>\n",
       "    <tr>\n",
       "      <th>...</th>\n",
       "      <td>...</td>\n",
       "      <td>...</td>\n",
       "      <td>...</td>\n",
       "      <td>...</td>\n",
       "      <td>...</td>\n",
       "      <td>...</td>\n",
       "      <td>...</td>\n",
       "    </tr>\n",
       "    <tr>\n",
       "      <th>107</th>\n",
       "      <td>0</td>\n",
       "      <td>38.2</td>\n",
       "      <td>20.0</td>\n",
       "      <td>190.0</td>\n",
       "      <td>3900.0</td>\n",
       "      <td>1</td>\n",
       "      <td>1</td>\n",
       "    </tr>\n",
       "    <tr>\n",
       "      <th>4</th>\n",
       "      <td>2</td>\n",
       "      <td>36.7</td>\n",
       "      <td>19.3</td>\n",
       "      <td>193.0</td>\n",
       "      <td>3450.0</td>\n",
       "      <td>0</td>\n",
       "      <td>1</td>\n",
       "    </tr>\n",
       "    <tr>\n",
       "      <th>213</th>\n",
       "      <td>1</td>\n",
       "      <td>46.8</td>\n",
       "      <td>16.5</td>\n",
       "      <td>189.0</td>\n",
       "      <td>3650.0</td>\n",
       "      <td>0</td>\n",
       "      <td>0</td>\n",
       "    </tr>\n",
       "    <tr>\n",
       "      <th>260</th>\n",
       "      <td>0</td>\n",
       "      <td>42.7</td>\n",
       "      <td>13.7</td>\n",
       "      <td>208.0</td>\n",
       "      <td>3950.0</td>\n",
       "      <td>0</td>\n",
       "      <td>0</td>\n",
       "    </tr>\n",
       "    <tr>\n",
       "      <th>16</th>\n",
       "      <td>2</td>\n",
       "      <td>38.7</td>\n",
       "      <td>19.0</td>\n",
       "      <td>195.0</td>\n",
       "      <td>3450.0</td>\n",
       "      <td>0</td>\n",
       "      <td>1</td>\n",
       "    </tr>\n",
       "  </tbody>\n",
       "</table>\n",
       "<p>240 rows × 7 columns</p>\n",
       "</div>"
      ],
      "text/plain": [
       "     island  culmen_length_mm  culmen_depth_mm  flipper_length_mm  \\\n",
       "327       0              53.4             15.8              219.0   \n",
       "227       0              46.7             15.3              219.0   \n",
       "314       0              44.5             14.7              214.0   \n",
       "268       0              44.9             13.3              213.0   \n",
       "297       0              51.1             16.3              220.0   \n",
       "..      ...               ...              ...                ...   \n",
       "107       0              38.2             20.0              190.0   \n",
       "4         2              36.7             19.3              193.0   \n",
       "213       1              46.8             16.5              189.0   \n",
       "260       0              42.7             13.7              208.0   \n",
       "16        2              38.7             19.0              195.0   \n",
       "\n",
       "     body_mass_g  sex  0  \n",
       "327       5500.0    1  0  \n",
       "227       5200.0    1  0  \n",
       "314       4850.0    0  0  \n",
       "268       5100.0    0  0  \n",
       "297       6000.0    1  0  \n",
       "..           ...  ... ..  \n",
       "107       3900.0    1  1  \n",
       "4         3450.0    0  1  \n",
       "213       3650.0    0  0  \n",
       "260       3950.0    0  0  \n",
       "16        3450.0    0  1  \n",
       "\n",
       "[240 rows x 7 columns]"
      ]
     },
     "execution_count": 188,
     "metadata": {},
     "output_type": "execute_result"
    }
   ],
   "source": [
    "train2"
   ]
  },
  {
   "cell_type": "markdown",
   "metadata": {},
   "source": [
    "Hacemos lo mismo con la data de Testeo."
   ]
  },
  {
   "cell_type": "code",
   "execution_count": 180,
   "metadata": {
    "scrolled": true
   },
   "outputs": [
    {
     "data": {
      "text/html": [
       "<div>\n",
       "<style scoped>\n",
       "    .dataframe tbody tr th:only-of-type {\n",
       "        vertical-align: middle;\n",
       "    }\n",
       "\n",
       "    .dataframe tbody tr th {\n",
       "        vertical-align: top;\n",
       "    }\n",
       "\n",
       "    .dataframe thead th {\n",
       "        text-align: right;\n",
       "    }\n",
       "</style>\n",
       "<table border=\"1\" class=\"dataframe\">\n",
       "  <thead>\n",
       "    <tr style=\"text-align: right;\">\n",
       "      <th></th>\n",
       "      <th>species</th>\n",
       "      <th>island</th>\n",
       "      <th>culmen_length_mm</th>\n",
       "      <th>culmen_depth_mm</th>\n",
       "      <th>flipper_length_mm</th>\n",
       "      <th>body_mass_g</th>\n",
       "      <th>sex</th>\n",
       "      <th>0</th>\n",
       "      <th>1</th>\n",
       "      <th>2</th>\n",
       "    </tr>\n",
       "  </thead>\n",
       "  <tbody>\n",
       "    <tr>\n",
       "      <th>310</th>\n",
       "      <td>2</td>\n",
       "      <td>0</td>\n",
       "      <td>47.5</td>\n",
       "      <td>15.0</td>\n",
       "      <td>218.0</td>\n",
       "      <td>4950.0</td>\n",
       "      <td>0</td>\n",
       "      <td>0</td>\n",
       "      <td>0</td>\n",
       "      <td>1</td>\n",
       "    </tr>\n",
       "    <tr>\n",
       "      <th>105</th>\n",
       "      <td>0</td>\n",
       "      <td>0</td>\n",
       "      <td>39.7</td>\n",
       "      <td>18.9</td>\n",
       "      <td>194.0</td>\n",
       "      <td>3550.0</td>\n",
       "      <td>1</td>\n",
       "      <td>1</td>\n",
       "      <td>0</td>\n",
       "      <td>0</td>\n",
       "    </tr>\n",
       "    <tr>\n",
       "      <th>274</th>\n",
       "      <td>2</td>\n",
       "      <td>0</td>\n",
       "      <td>46.5</td>\n",
       "      <td>14.4</td>\n",
       "      <td>217.0</td>\n",
       "      <td>4900.0</td>\n",
       "      <td>0</td>\n",
       "      <td>0</td>\n",
       "      <td>0</td>\n",
       "      <td>1</td>\n",
       "    </tr>\n",
       "    <tr>\n",
       "      <th>112</th>\n",
       "      <td>0</td>\n",
       "      <td>0</td>\n",
       "      <td>39.7</td>\n",
       "      <td>17.7</td>\n",
       "      <td>193.0</td>\n",
       "      <td>3200.0</td>\n",
       "      <td>0</td>\n",
       "      <td>1</td>\n",
       "      <td>0</td>\n",
       "      <td>0</td>\n",
       "    </tr>\n",
       "    <tr>\n",
       "      <th>56</th>\n",
       "      <td>0</td>\n",
       "      <td>0</td>\n",
       "      <td>39.0</td>\n",
       "      <td>17.5</td>\n",
       "      <td>187.0</td>\n",
       "      <td>3550.0</td>\n",
       "      <td>0</td>\n",
       "      <td>1</td>\n",
       "      <td>0</td>\n",
       "      <td>0</td>\n",
       "    </tr>\n",
       "    <tr>\n",
       "      <th>...</th>\n",
       "      <td>...</td>\n",
       "      <td>...</td>\n",
       "      <td>...</td>\n",
       "      <td>...</td>\n",
       "      <td>...</td>\n",
       "      <td>...</td>\n",
       "      <td>...</td>\n",
       "      <td>...</td>\n",
       "      <td>...</td>\n",
       "      <td>...</td>\n",
       "    </tr>\n",
       "    <tr>\n",
       "      <th>171</th>\n",
       "      <td>1</td>\n",
       "      <td>1</td>\n",
       "      <td>49.2</td>\n",
       "      <td>18.2</td>\n",
       "      <td>195.0</td>\n",
       "      <td>4400.0</td>\n",
       "      <td>1</td>\n",
       "      <td>0</td>\n",
       "      <td>1</td>\n",
       "      <td>0</td>\n",
       "    </tr>\n",
       "    <tr>\n",
       "      <th>8</th>\n",
       "      <td>0</td>\n",
       "      <td>2</td>\n",
       "      <td>34.1</td>\n",
       "      <td>18.1</td>\n",
       "      <td>193.0</td>\n",
       "      <td>3475.0</td>\n",
       "      <td>1</td>\n",
       "      <td>1</td>\n",
       "      <td>0</td>\n",
       "      <td>0</td>\n",
       "    </tr>\n",
       "    <tr>\n",
       "      <th>305</th>\n",
       "      <td>2</td>\n",
       "      <td>0</td>\n",
       "      <td>50.8</td>\n",
       "      <td>17.3</td>\n",
       "      <td>228.0</td>\n",
       "      <td>5600.0</td>\n",
       "      <td>1</td>\n",
       "      <td>0</td>\n",
       "      <td>0</td>\n",
       "      <td>1</td>\n",
       "    </tr>\n",
       "    <tr>\n",
       "      <th>332</th>\n",
       "      <td>2</td>\n",
       "      <td>0</td>\n",
       "      <td>43.5</td>\n",
       "      <td>15.2</td>\n",
       "      <td>213.0</td>\n",
       "      <td>4650.0</td>\n",
       "      <td>0</td>\n",
       "      <td>0</td>\n",
       "      <td>0</td>\n",
       "      <td>1</td>\n",
       "    </tr>\n",
       "    <tr>\n",
       "      <th>320</th>\n",
       "      <td>2</td>\n",
       "      <td>0</td>\n",
       "      <td>48.5</td>\n",
       "      <td>15.0</td>\n",
       "      <td>215.0</td>\n",
       "      <td>4850.0</td>\n",
       "      <td>0</td>\n",
       "      <td>0</td>\n",
       "      <td>0</td>\n",
       "      <td>1</td>\n",
       "    </tr>\n",
       "  </tbody>\n",
       "</table>\n",
       "<p>104 rows × 10 columns</p>\n",
       "</div>"
      ],
      "text/plain": [
       "     species  island  culmen_length_mm  culmen_depth_mm  flipper_length_mm  \\\n",
       "310        2       0              47.5             15.0              218.0   \n",
       "105        0       0              39.7             18.9              194.0   \n",
       "274        2       0              46.5             14.4              217.0   \n",
       "112        0       0              39.7             17.7              193.0   \n",
       "56         0       0              39.0             17.5              187.0   \n",
       "..       ...     ...               ...              ...                ...   \n",
       "171        1       1              49.2             18.2              195.0   \n",
       "8          0       2              34.1             18.1              193.0   \n",
       "305        2       0              50.8             17.3              228.0   \n",
       "332        2       0              43.5             15.2              213.0   \n",
       "320        2       0              48.5             15.0              215.0   \n",
       "\n",
       "     body_mass_g  sex  0  1  2  \n",
       "310       4950.0    0  0  0  1  \n",
       "105       3550.0    1  1  0  0  \n",
       "274       4900.0    0  0  0  1  \n",
       "112       3200.0    0  1  0  0  \n",
       "56        3550.0    0  1  0  0  \n",
       "..           ...  ... .. .. ..  \n",
       "171       4400.0    1  0  1  0  \n",
       "8         3475.0    1  1  0  0  \n",
       "305       5600.0    1  0  0  1  \n",
       "332       4650.0    0  0  0  1  \n",
       "320       4850.0    0  0  0  1  \n",
       "\n",
       "[104 rows x 10 columns]"
      ]
     },
     "execution_count": 180,
     "metadata": {},
     "output_type": "execute_result"
    }
   ],
   "source": [
    "dummy = pd.get_dummies(test[\"species\"])\n",
    "test2 = pd.concat([test, dummy], axis = 1)\n",
    "test2"
   ]
  },
  {
   "cell_type": "markdown",
   "metadata": {},
   "source": [
    "Ahora debemos asignar a partir de cada set los X e y respectivos."
   ]
  },
  {
   "cell_type": "code",
   "execution_count": 185,
   "metadata": {},
   "outputs": [
    {
     "data": {
      "text/html": [
       "<div>\n",
       "<style scoped>\n",
       "    .dataframe tbody tr th:only-of-type {\n",
       "        vertical-align: middle;\n",
       "    }\n",
       "\n",
       "    .dataframe tbody tr th {\n",
       "        vertical-align: top;\n",
       "    }\n",
       "\n",
       "    .dataframe thead th {\n",
       "        text-align: right;\n",
       "    }\n",
       "</style>\n",
       "<table border=\"1\" class=\"dataframe\">\n",
       "  <thead>\n",
       "    <tr style=\"text-align: right;\">\n",
       "      <th></th>\n",
       "      <th>species</th>\n",
       "      <th>island</th>\n",
       "      <th>culmen_length_mm</th>\n",
       "      <th>culmen_depth_mm</th>\n",
       "      <th>flipper_length_mm</th>\n",
       "      <th>body_mass_g</th>\n",
       "      <th>sex</th>\n",
       "      <th>0</th>\n",
       "    </tr>\n",
       "  </thead>\n",
       "  <tbody>\n",
       "    <tr>\n",
       "      <th>310</th>\n",
       "      <td>2</td>\n",
       "      <td>0</td>\n",
       "      <td>47.5</td>\n",
       "      <td>15.0</td>\n",
       "      <td>218.0</td>\n",
       "      <td>4950.0</td>\n",
       "      <td>0</td>\n",
       "      <td>0</td>\n",
       "    </tr>\n",
       "    <tr>\n",
       "      <th>105</th>\n",
       "      <td>0</td>\n",
       "      <td>0</td>\n",
       "      <td>39.7</td>\n",
       "      <td>18.9</td>\n",
       "      <td>194.0</td>\n",
       "      <td>3550.0</td>\n",
       "      <td>1</td>\n",
       "      <td>1</td>\n",
       "    </tr>\n",
       "    <tr>\n",
       "      <th>274</th>\n",
       "      <td>2</td>\n",
       "      <td>0</td>\n",
       "      <td>46.5</td>\n",
       "      <td>14.4</td>\n",
       "      <td>217.0</td>\n",
       "      <td>4900.0</td>\n",
       "      <td>0</td>\n",
       "      <td>0</td>\n",
       "    </tr>\n",
       "    <tr>\n",
       "      <th>112</th>\n",
       "      <td>0</td>\n",
       "      <td>0</td>\n",
       "      <td>39.7</td>\n",
       "      <td>17.7</td>\n",
       "      <td>193.0</td>\n",
       "      <td>3200.0</td>\n",
       "      <td>0</td>\n",
       "      <td>1</td>\n",
       "    </tr>\n",
       "    <tr>\n",
       "      <th>56</th>\n",
       "      <td>0</td>\n",
       "      <td>0</td>\n",
       "      <td>39.0</td>\n",
       "      <td>17.5</td>\n",
       "      <td>187.0</td>\n",
       "      <td>3550.0</td>\n",
       "      <td>0</td>\n",
       "      <td>1</td>\n",
       "    </tr>\n",
       "    <tr>\n",
       "      <th>...</th>\n",
       "      <td>...</td>\n",
       "      <td>...</td>\n",
       "      <td>...</td>\n",
       "      <td>...</td>\n",
       "      <td>...</td>\n",
       "      <td>...</td>\n",
       "      <td>...</td>\n",
       "      <td>...</td>\n",
       "    </tr>\n",
       "    <tr>\n",
       "      <th>171</th>\n",
       "      <td>1</td>\n",
       "      <td>1</td>\n",
       "      <td>49.2</td>\n",
       "      <td>18.2</td>\n",
       "      <td>195.0</td>\n",
       "      <td>4400.0</td>\n",
       "      <td>1</td>\n",
       "      <td>0</td>\n",
       "    </tr>\n",
       "    <tr>\n",
       "      <th>8</th>\n",
       "      <td>0</td>\n",
       "      <td>2</td>\n",
       "      <td>34.1</td>\n",
       "      <td>18.1</td>\n",
       "      <td>193.0</td>\n",
       "      <td>3475.0</td>\n",
       "      <td>1</td>\n",
       "      <td>1</td>\n",
       "    </tr>\n",
       "    <tr>\n",
       "      <th>305</th>\n",
       "      <td>2</td>\n",
       "      <td>0</td>\n",
       "      <td>50.8</td>\n",
       "      <td>17.3</td>\n",
       "      <td>228.0</td>\n",
       "      <td>5600.0</td>\n",
       "      <td>1</td>\n",
       "      <td>0</td>\n",
       "    </tr>\n",
       "    <tr>\n",
       "      <th>332</th>\n",
       "      <td>2</td>\n",
       "      <td>0</td>\n",
       "      <td>43.5</td>\n",
       "      <td>15.2</td>\n",
       "      <td>213.0</td>\n",
       "      <td>4650.0</td>\n",
       "      <td>0</td>\n",
       "      <td>0</td>\n",
       "    </tr>\n",
       "    <tr>\n",
       "      <th>320</th>\n",
       "      <td>2</td>\n",
       "      <td>0</td>\n",
       "      <td>48.5</td>\n",
       "      <td>15.0</td>\n",
       "      <td>215.0</td>\n",
       "      <td>4850.0</td>\n",
       "      <td>0</td>\n",
       "      <td>0</td>\n",
       "    </tr>\n",
       "  </tbody>\n",
       "</table>\n",
       "<p>104 rows × 8 columns</p>\n",
       "</div>"
      ],
      "text/plain": [
       "     species  island  culmen_length_mm  culmen_depth_mm  flipper_length_mm  \\\n",
       "310        2       0              47.5             15.0              218.0   \n",
       "105        0       0              39.7             18.9              194.0   \n",
       "274        2       0              46.5             14.4              217.0   \n",
       "112        0       0              39.7             17.7              193.0   \n",
       "56         0       0              39.0             17.5              187.0   \n",
       "..       ...     ...               ...              ...                ...   \n",
       "171        1       1              49.2             18.2              195.0   \n",
       "8          0       2              34.1             18.1              193.0   \n",
       "305        2       0              50.8             17.3              228.0   \n",
       "332        2       0              43.5             15.2              213.0   \n",
       "320        2       0              48.5             15.0              215.0   \n",
       "\n",
       "     body_mass_g  sex  0  \n",
       "310       4950.0    0  0  \n",
       "105       3550.0    1  1  \n",
       "274       4900.0    0  0  \n",
       "112       3200.0    0  1  \n",
       "56        3550.0    0  1  \n",
       "..           ...  ... ..  \n",
       "171       4400.0    1  0  \n",
       "8         3475.0    1  1  \n",
       "305       5600.0    1  0  \n",
       "332       4650.0    0  0  \n",
       "320       4850.0    0  0  \n",
       "\n",
       "[104 rows x 8 columns]"
      ]
     },
     "execution_count": 185,
     "metadata": {},
     "output_type": "execute_result"
    }
   ],
   "source": [
    "test2.drop(1, axis = 1, inplace = True )\n",
    "test2.drop(2, axis = 1, inplace = True )\n",
    "test2"
   ]
  },
  {
   "cell_type": "code",
   "execution_count": 186,
   "metadata": {},
   "outputs": [],
   "source": [
    "test2.drop(\"species\", axis = 1, inplace = True )"
   ]
  },
  {
   "cell_type": "markdown",
   "metadata": {},
   "source": [
    "Creamos ahora los X_train, y_train, X_test e y_test."
   ]
  },
  {
   "cell_type": "code",
   "execution_count": 189,
   "metadata": {},
   "outputs": [],
   "source": [
    "X_train2 = train2.drop(0, axis=1)"
   ]
  },
  {
   "cell_type": "code",
   "execution_count": 190,
   "metadata": {},
   "outputs": [],
   "source": [
    "y_train2 = train2[0]"
   ]
  },
  {
   "cell_type": "code",
   "execution_count": 191,
   "metadata": {},
   "outputs": [],
   "source": [
    "X_test2 = test2.drop(0, axis = 1)"
   ]
  },
  {
   "cell_type": "code",
   "execution_count": 192,
   "metadata": {},
   "outputs": [],
   "source": [
    "y_test2 = test2[0]"
   ]
  },
  {
   "cell_type": "code",
   "execution_count": 193,
   "metadata": {},
   "outputs": [
    {
     "data": {
      "text/html": [
       "<div>\n",
       "<style scoped>\n",
       "    .dataframe tbody tr th:only-of-type {\n",
       "        vertical-align: middle;\n",
       "    }\n",
       "\n",
       "    .dataframe tbody tr th {\n",
       "        vertical-align: top;\n",
       "    }\n",
       "\n",
       "    .dataframe thead th {\n",
       "        text-align: right;\n",
       "    }\n",
       "</style>\n",
       "<table border=\"1\" class=\"dataframe\">\n",
       "  <thead>\n",
       "    <tr style=\"text-align: right;\">\n",
       "      <th></th>\n",
       "      <th>island</th>\n",
       "      <th>culmen_length_mm</th>\n",
       "      <th>culmen_depth_mm</th>\n",
       "      <th>flipper_length_mm</th>\n",
       "      <th>body_mass_g</th>\n",
       "      <th>sex</th>\n",
       "    </tr>\n",
       "  </thead>\n",
       "  <tbody>\n",
       "    <tr>\n",
       "      <th>310</th>\n",
       "      <td>0</td>\n",
       "      <td>47.5</td>\n",
       "      <td>15.0</td>\n",
       "      <td>218.0</td>\n",
       "      <td>4950.0</td>\n",
       "      <td>0</td>\n",
       "    </tr>\n",
       "    <tr>\n",
       "      <th>105</th>\n",
       "      <td>0</td>\n",
       "      <td>39.7</td>\n",
       "      <td>18.9</td>\n",
       "      <td>194.0</td>\n",
       "      <td>3550.0</td>\n",
       "      <td>1</td>\n",
       "    </tr>\n",
       "    <tr>\n",
       "      <th>274</th>\n",
       "      <td>0</td>\n",
       "      <td>46.5</td>\n",
       "      <td>14.4</td>\n",
       "      <td>217.0</td>\n",
       "      <td>4900.0</td>\n",
       "      <td>0</td>\n",
       "    </tr>\n",
       "    <tr>\n",
       "      <th>112</th>\n",
       "      <td>0</td>\n",
       "      <td>39.7</td>\n",
       "      <td>17.7</td>\n",
       "      <td>193.0</td>\n",
       "      <td>3200.0</td>\n",
       "      <td>0</td>\n",
       "    </tr>\n",
       "    <tr>\n",
       "      <th>56</th>\n",
       "      <td>0</td>\n",
       "      <td>39.0</td>\n",
       "      <td>17.5</td>\n",
       "      <td>187.0</td>\n",
       "      <td>3550.0</td>\n",
       "      <td>0</td>\n",
       "    </tr>\n",
       "    <tr>\n",
       "      <th>...</th>\n",
       "      <td>...</td>\n",
       "      <td>...</td>\n",
       "      <td>...</td>\n",
       "      <td>...</td>\n",
       "      <td>...</td>\n",
       "      <td>...</td>\n",
       "    </tr>\n",
       "    <tr>\n",
       "      <th>171</th>\n",
       "      <td>1</td>\n",
       "      <td>49.2</td>\n",
       "      <td>18.2</td>\n",
       "      <td>195.0</td>\n",
       "      <td>4400.0</td>\n",
       "      <td>1</td>\n",
       "    </tr>\n",
       "    <tr>\n",
       "      <th>8</th>\n",
       "      <td>2</td>\n",
       "      <td>34.1</td>\n",
       "      <td>18.1</td>\n",
       "      <td>193.0</td>\n",
       "      <td>3475.0</td>\n",
       "      <td>1</td>\n",
       "    </tr>\n",
       "    <tr>\n",
       "      <th>305</th>\n",
       "      <td>0</td>\n",
       "      <td>50.8</td>\n",
       "      <td>17.3</td>\n",
       "      <td>228.0</td>\n",
       "      <td>5600.0</td>\n",
       "      <td>1</td>\n",
       "    </tr>\n",
       "    <tr>\n",
       "      <th>332</th>\n",
       "      <td>0</td>\n",
       "      <td>43.5</td>\n",
       "      <td>15.2</td>\n",
       "      <td>213.0</td>\n",
       "      <td>4650.0</td>\n",
       "      <td>0</td>\n",
       "    </tr>\n",
       "    <tr>\n",
       "      <th>320</th>\n",
       "      <td>0</td>\n",
       "      <td>48.5</td>\n",
       "      <td>15.0</td>\n",
       "      <td>215.0</td>\n",
       "      <td>4850.0</td>\n",
       "      <td>0</td>\n",
       "    </tr>\n",
       "  </tbody>\n",
       "</table>\n",
       "<p>104 rows × 6 columns</p>\n",
       "</div>"
      ],
      "text/plain": [
       "     island  culmen_length_mm  culmen_depth_mm  flipper_length_mm  \\\n",
       "310       0              47.5             15.0              218.0   \n",
       "105       0              39.7             18.9              194.0   \n",
       "274       0              46.5             14.4              217.0   \n",
       "112       0              39.7             17.7              193.0   \n",
       "56        0              39.0             17.5              187.0   \n",
       "..      ...               ...              ...                ...   \n",
       "171       1              49.2             18.2              195.0   \n",
       "8         2              34.1             18.1              193.0   \n",
       "305       0              50.8             17.3              228.0   \n",
       "332       0              43.5             15.2              213.0   \n",
       "320       0              48.5             15.0              215.0   \n",
       "\n",
       "     body_mass_g  sex  \n",
       "310       4950.0    0  \n",
       "105       3550.0    1  \n",
       "274       4900.0    0  \n",
       "112       3200.0    0  \n",
       "56        3550.0    0  \n",
       "..           ...  ...  \n",
       "171       4400.0    1  \n",
       "8         3475.0    1  \n",
       "305       5600.0    1  \n",
       "332       4650.0    0  \n",
       "320       4850.0    0  \n",
       "\n",
       "[104 rows x 6 columns]"
      ]
     },
     "execution_count": 193,
     "metadata": {},
     "output_type": "execute_result"
    }
   ],
   "source": [
    "X_test2"
   ]
  },
  {
   "cell_type": "markdown",
   "metadata": {},
   "source": [
    "### Creación de Modelos:\n",
    "\n",
    "**1. Regresión Logística:**\n",
    "\n",
    "Primero partimos con un modelo de Regresión Logística. Tiene un rendimiento bastante bueno! 99%"
   ]
  },
  {
   "cell_type": "code",
   "execution_count": 195,
   "metadata": {},
   "outputs": [
    {
     "name": "stdout",
     "output_type": "stream",
     "text": [
      "Rendimiento : 99.038%\n"
     ]
    }
   ],
   "source": [
    "from sklearn.linear_model import LogisticRegression\n",
    "\n",
    "model = LogisticRegression()\n",
    "model.fit(X_train2,y_train2)\n",
    "predictions = model.predict(X_test2)\n",
    "accuracy = metrics.accuracy_score(y_test2, predictions)    \n",
    "print(\"Rendimiento : %s\" % \"{0:.3%}\".format(accuracy))"
   ]
  },
  {
   "cell_type": "markdown",
   "metadata": {},
   "source": [
    "**2. Red Neuronal:**\n",
    "\n",
    "Veamos como nos va con este modelo. Tiene un 72% de Accuracy. Esto es bueno, pero llama más la atención la efectividad de la regresión logística."
   ]
  },
  {
   "cell_type": "code",
   "execution_count": 196,
   "metadata": {},
   "outputs": [
    {
     "name": "stdout",
     "output_type": "stream",
     "text": [
      "Accuracy: 0.7230769230769231\n"
     ]
    }
   ],
   "source": [
    "from sklearn.neural_network import MLPClassifier\n",
    "\n",
    "mlp = MLPClassifier(hidden_layer_sizes=(115,), max_iter=10000) # 10\n",
    "mlp.fit(X_train2, y_train2)\n",
    "predicted = mlp.predict(X_test2)\n",
    "\n",
    "print(\"Accuracy: %s\" % metrics.balanced_accuracy_score(y_test2, predicted))"
   ]
  },
  {
   "cell_type": "markdown",
   "metadata": {},
   "source": [
    "### Paso 2 de la Misión:\n",
    "\n",
    "En este paso se eliminarán de Train y de Test todas las observaciones que sean de la especie Adelaide. Ahora nos quedamos en nuestra data con una columna, que será nuestro y que es 1 si es de la especie \"Gentoo\" y 0 si es \"Chinstrar\"."
   ]
  },
  {
   "cell_type": "code",
   "execution_count": 218,
   "metadata": {},
   "outputs": [],
   "source": [
    "train3 = train[train.species != 0] "
   ]
  },
  {
   "cell_type": "code",
   "execution_count": 219,
   "metadata": {},
   "outputs": [
    {
     "data": {
      "text/html": [
       "<div>\n",
       "<style scoped>\n",
       "    .dataframe tbody tr th:only-of-type {\n",
       "        vertical-align: middle;\n",
       "    }\n",
       "\n",
       "    .dataframe tbody tr th {\n",
       "        vertical-align: top;\n",
       "    }\n",
       "\n",
       "    .dataframe thead th {\n",
       "        text-align: right;\n",
       "    }\n",
       "</style>\n",
       "<table border=\"1\" class=\"dataframe\">\n",
       "  <thead>\n",
       "    <tr style=\"text-align: right;\">\n",
       "      <th></th>\n",
       "      <th>species</th>\n",
       "      <th>island</th>\n",
       "      <th>culmen_length_mm</th>\n",
       "      <th>culmen_depth_mm</th>\n",
       "      <th>flipper_length_mm</th>\n",
       "      <th>body_mass_g</th>\n",
       "      <th>sex</th>\n",
       "    </tr>\n",
       "  </thead>\n",
       "  <tbody>\n",
       "    <tr>\n",
       "      <th>327</th>\n",
       "      <td>2</td>\n",
       "      <td>0</td>\n",
       "      <td>53.4</td>\n",
       "      <td>15.8</td>\n",
       "      <td>219.0</td>\n",
       "      <td>5500.0</td>\n",
       "      <td>1</td>\n",
       "    </tr>\n",
       "    <tr>\n",
       "      <th>227</th>\n",
       "      <td>2</td>\n",
       "      <td>0</td>\n",
       "      <td>46.7</td>\n",
       "      <td>15.3</td>\n",
       "      <td>219.0</td>\n",
       "      <td>5200.0</td>\n",
       "      <td>1</td>\n",
       "    </tr>\n",
       "    <tr>\n",
       "      <th>314</th>\n",
       "      <td>2</td>\n",
       "      <td>0</td>\n",
       "      <td>44.5</td>\n",
       "      <td>14.7</td>\n",
       "      <td>214.0</td>\n",
       "      <td>4850.0</td>\n",
       "      <td>0</td>\n",
       "    </tr>\n",
       "    <tr>\n",
       "      <th>268</th>\n",
       "      <td>2</td>\n",
       "      <td>0</td>\n",
       "      <td>44.9</td>\n",
       "      <td>13.3</td>\n",
       "      <td>213.0</td>\n",
       "      <td>5100.0</td>\n",
       "      <td>0</td>\n",
       "    </tr>\n",
       "    <tr>\n",
       "      <th>297</th>\n",
       "      <td>2</td>\n",
       "      <td>0</td>\n",
       "      <td>51.1</td>\n",
       "      <td>16.3</td>\n",
       "      <td>220.0</td>\n",
       "      <td>6000.0</td>\n",
       "      <td>1</td>\n",
       "    </tr>\n",
       "    <tr>\n",
       "      <th>...</th>\n",
       "      <td>...</td>\n",
       "      <td>...</td>\n",
       "      <td>...</td>\n",
       "      <td>...</td>\n",
       "      <td>...</td>\n",
       "      <td>...</td>\n",
       "      <td>...</td>\n",
       "    </tr>\n",
       "    <tr>\n",
       "      <th>296</th>\n",
       "      <td>2</td>\n",
       "      <td>0</td>\n",
       "      <td>47.5</td>\n",
       "      <td>14.2</td>\n",
       "      <td>209.0</td>\n",
       "      <td>4600.0</td>\n",
       "      <td>0</td>\n",
       "    </tr>\n",
       "    <tr>\n",
       "      <th>191</th>\n",
       "      <td>1</td>\n",
       "      <td>1</td>\n",
       "      <td>53.5</td>\n",
       "      <td>19.9</td>\n",
       "      <td>205.0</td>\n",
       "      <td>4500.0</td>\n",
       "      <td>1</td>\n",
       "    </tr>\n",
       "    <tr>\n",
       "      <th>280</th>\n",
       "      <td>2</td>\n",
       "      <td>0</td>\n",
       "      <td>45.3</td>\n",
       "      <td>13.8</td>\n",
       "      <td>208.0</td>\n",
       "      <td>4200.0</td>\n",
       "      <td>0</td>\n",
       "    </tr>\n",
       "    <tr>\n",
       "      <th>213</th>\n",
       "      <td>1</td>\n",
       "      <td>1</td>\n",
       "      <td>46.8</td>\n",
       "      <td>16.5</td>\n",
       "      <td>189.0</td>\n",
       "      <td>3650.0</td>\n",
       "      <td>0</td>\n",
       "    </tr>\n",
       "    <tr>\n",
       "      <th>260</th>\n",
       "      <td>2</td>\n",
       "      <td>0</td>\n",
       "      <td>42.7</td>\n",
       "      <td>13.7</td>\n",
       "      <td>208.0</td>\n",
       "      <td>3950.0</td>\n",
       "      <td>0</td>\n",
       "    </tr>\n",
       "  </tbody>\n",
       "</table>\n",
       "<p>127 rows × 7 columns</p>\n",
       "</div>"
      ],
      "text/plain": [
       "     species  island  culmen_length_mm  culmen_depth_mm  flipper_length_mm  \\\n",
       "327        2       0              53.4             15.8              219.0   \n",
       "227        2       0              46.7             15.3              219.0   \n",
       "314        2       0              44.5             14.7              214.0   \n",
       "268        2       0              44.9             13.3              213.0   \n",
       "297        2       0              51.1             16.3              220.0   \n",
       "..       ...     ...               ...              ...                ...   \n",
       "296        2       0              47.5             14.2              209.0   \n",
       "191        1       1              53.5             19.9              205.0   \n",
       "280        2       0              45.3             13.8              208.0   \n",
       "213        1       1              46.8             16.5              189.0   \n",
       "260        2       0              42.7             13.7              208.0   \n",
       "\n",
       "     body_mass_g  sex  \n",
       "327       5500.0    1  \n",
       "227       5200.0    1  \n",
       "314       4850.0    0  \n",
       "268       5100.0    0  \n",
       "297       6000.0    1  \n",
       "..           ...  ...  \n",
       "296       4600.0    0  \n",
       "191       4500.0    1  \n",
       "280       4200.0    0  \n",
       "213       3650.0    0  \n",
       "260       3950.0    0  \n",
       "\n",
       "[127 rows x 7 columns]"
      ]
     },
     "execution_count": 219,
     "metadata": {},
     "output_type": "execute_result"
    }
   ],
   "source": [
    "train3"
   ]
  },
  {
   "cell_type": "markdown",
   "metadata": {},
   "source": [
    "Siguiendo los mismos pasos que antes, creo ahora una columna dummies para la especie. "
   ]
  },
  {
   "cell_type": "code",
   "execution_count": 220,
   "metadata": {},
   "outputs": [],
   "source": [
    "dummies = pd.get_dummies(train3[\"species\"])"
   ]
  },
  {
   "cell_type": "code",
   "execution_count": 221,
   "metadata": {},
   "outputs": [],
   "source": [
    "train4 = pd.concat([train3, dummies], axis = 1)"
   ]
  },
  {
   "cell_type": "code",
   "execution_count": 222,
   "metadata": {},
   "outputs": [
    {
     "data": {
      "text/html": [
       "<div>\n",
       "<style scoped>\n",
       "    .dataframe tbody tr th:only-of-type {\n",
       "        vertical-align: middle;\n",
       "    }\n",
       "\n",
       "    .dataframe tbody tr th {\n",
       "        vertical-align: top;\n",
       "    }\n",
       "\n",
       "    .dataframe thead th {\n",
       "        text-align: right;\n",
       "    }\n",
       "</style>\n",
       "<table border=\"1\" class=\"dataframe\">\n",
       "  <thead>\n",
       "    <tr style=\"text-align: right;\">\n",
       "      <th></th>\n",
       "      <th>species</th>\n",
       "      <th>island</th>\n",
       "      <th>culmen_length_mm</th>\n",
       "      <th>culmen_depth_mm</th>\n",
       "      <th>flipper_length_mm</th>\n",
       "      <th>body_mass_g</th>\n",
       "      <th>sex</th>\n",
       "      <th>1</th>\n",
       "      <th>2</th>\n",
       "    </tr>\n",
       "  </thead>\n",
       "  <tbody>\n",
       "    <tr>\n",
       "      <th>327</th>\n",
       "      <td>2</td>\n",
       "      <td>0</td>\n",
       "      <td>53.4</td>\n",
       "      <td>15.8</td>\n",
       "      <td>219.0</td>\n",
       "      <td>5500.0</td>\n",
       "      <td>1</td>\n",
       "      <td>0</td>\n",
       "      <td>1</td>\n",
       "    </tr>\n",
       "    <tr>\n",
       "      <th>227</th>\n",
       "      <td>2</td>\n",
       "      <td>0</td>\n",
       "      <td>46.7</td>\n",
       "      <td>15.3</td>\n",
       "      <td>219.0</td>\n",
       "      <td>5200.0</td>\n",
       "      <td>1</td>\n",
       "      <td>0</td>\n",
       "      <td>1</td>\n",
       "    </tr>\n",
       "    <tr>\n",
       "      <th>314</th>\n",
       "      <td>2</td>\n",
       "      <td>0</td>\n",
       "      <td>44.5</td>\n",
       "      <td>14.7</td>\n",
       "      <td>214.0</td>\n",
       "      <td>4850.0</td>\n",
       "      <td>0</td>\n",
       "      <td>0</td>\n",
       "      <td>1</td>\n",
       "    </tr>\n",
       "    <tr>\n",
       "      <th>268</th>\n",
       "      <td>2</td>\n",
       "      <td>0</td>\n",
       "      <td>44.9</td>\n",
       "      <td>13.3</td>\n",
       "      <td>213.0</td>\n",
       "      <td>5100.0</td>\n",
       "      <td>0</td>\n",
       "      <td>0</td>\n",
       "      <td>1</td>\n",
       "    </tr>\n",
       "    <tr>\n",
       "      <th>297</th>\n",
       "      <td>2</td>\n",
       "      <td>0</td>\n",
       "      <td>51.1</td>\n",
       "      <td>16.3</td>\n",
       "      <td>220.0</td>\n",
       "      <td>6000.0</td>\n",
       "      <td>1</td>\n",
       "      <td>0</td>\n",
       "      <td>1</td>\n",
       "    </tr>\n",
       "    <tr>\n",
       "      <th>...</th>\n",
       "      <td>...</td>\n",
       "      <td>...</td>\n",
       "      <td>...</td>\n",
       "      <td>...</td>\n",
       "      <td>...</td>\n",
       "      <td>...</td>\n",
       "      <td>...</td>\n",
       "      <td>...</td>\n",
       "      <td>...</td>\n",
       "    </tr>\n",
       "    <tr>\n",
       "      <th>296</th>\n",
       "      <td>2</td>\n",
       "      <td>0</td>\n",
       "      <td>47.5</td>\n",
       "      <td>14.2</td>\n",
       "      <td>209.0</td>\n",
       "      <td>4600.0</td>\n",
       "      <td>0</td>\n",
       "      <td>0</td>\n",
       "      <td>1</td>\n",
       "    </tr>\n",
       "    <tr>\n",
       "      <th>191</th>\n",
       "      <td>1</td>\n",
       "      <td>1</td>\n",
       "      <td>53.5</td>\n",
       "      <td>19.9</td>\n",
       "      <td>205.0</td>\n",
       "      <td>4500.0</td>\n",
       "      <td>1</td>\n",
       "      <td>1</td>\n",
       "      <td>0</td>\n",
       "    </tr>\n",
       "    <tr>\n",
       "      <th>280</th>\n",
       "      <td>2</td>\n",
       "      <td>0</td>\n",
       "      <td>45.3</td>\n",
       "      <td>13.8</td>\n",
       "      <td>208.0</td>\n",
       "      <td>4200.0</td>\n",
       "      <td>0</td>\n",
       "      <td>0</td>\n",
       "      <td>1</td>\n",
       "    </tr>\n",
       "    <tr>\n",
       "      <th>213</th>\n",
       "      <td>1</td>\n",
       "      <td>1</td>\n",
       "      <td>46.8</td>\n",
       "      <td>16.5</td>\n",
       "      <td>189.0</td>\n",
       "      <td>3650.0</td>\n",
       "      <td>0</td>\n",
       "      <td>1</td>\n",
       "      <td>0</td>\n",
       "    </tr>\n",
       "    <tr>\n",
       "      <th>260</th>\n",
       "      <td>2</td>\n",
       "      <td>0</td>\n",
       "      <td>42.7</td>\n",
       "      <td>13.7</td>\n",
       "      <td>208.0</td>\n",
       "      <td>3950.0</td>\n",
       "      <td>0</td>\n",
       "      <td>0</td>\n",
       "      <td>1</td>\n",
       "    </tr>\n",
       "  </tbody>\n",
       "</table>\n",
       "<p>127 rows × 9 columns</p>\n",
       "</div>"
      ],
      "text/plain": [
       "     species  island  culmen_length_mm  culmen_depth_mm  flipper_length_mm  \\\n",
       "327        2       0              53.4             15.8              219.0   \n",
       "227        2       0              46.7             15.3              219.0   \n",
       "314        2       0              44.5             14.7              214.0   \n",
       "268        2       0              44.9             13.3              213.0   \n",
       "297        2       0              51.1             16.3              220.0   \n",
       "..       ...     ...               ...              ...                ...   \n",
       "296        2       0              47.5             14.2              209.0   \n",
       "191        1       1              53.5             19.9              205.0   \n",
       "280        2       0              45.3             13.8              208.0   \n",
       "213        1       1              46.8             16.5              189.0   \n",
       "260        2       0              42.7             13.7              208.0   \n",
       "\n",
       "     body_mass_g  sex  1  2  \n",
       "327       5500.0    1  0  1  \n",
       "227       5200.0    1  0  1  \n",
       "314       4850.0    0  0  1  \n",
       "268       5100.0    0  0  1  \n",
       "297       6000.0    1  0  1  \n",
       "..           ...  ... .. ..  \n",
       "296       4600.0    0  0  1  \n",
       "191       4500.0    1  1  0  \n",
       "280       4200.0    0  0  1  \n",
       "213       3650.0    0  1  0  \n",
       "260       3950.0    0  0  1  \n",
       "\n",
       "[127 rows x 9 columns]"
      ]
     },
     "execution_count": 222,
     "metadata": {},
     "output_type": "execute_result"
    }
   ],
   "source": [
    "train4"
   ]
  },
  {
   "cell_type": "code",
   "execution_count": 225,
   "metadata": {},
   "outputs": [],
   "source": [
    "train4 = train4.drop(\"species\", axis = 1)"
   ]
  },
  {
   "cell_type": "code",
   "execution_count": null,
   "metadata": {},
   "outputs": [],
   "source": [
    "train4 = train4.drop(2, axis = 1)"
   ]
  },
  {
   "cell_type": "code",
   "execution_count": 228,
   "metadata": {},
   "outputs": [
    {
     "data": {
      "text/html": [
       "<div>\n",
       "<style scoped>\n",
       "    .dataframe tbody tr th:only-of-type {\n",
       "        vertical-align: middle;\n",
       "    }\n",
       "\n",
       "    .dataframe tbody tr th {\n",
       "        vertical-align: top;\n",
       "    }\n",
       "\n",
       "    .dataframe thead th {\n",
       "        text-align: right;\n",
       "    }\n",
       "</style>\n",
       "<table border=\"1\" class=\"dataframe\">\n",
       "  <thead>\n",
       "    <tr style=\"text-align: right;\">\n",
       "      <th></th>\n",
       "      <th>island</th>\n",
       "      <th>culmen_length_mm</th>\n",
       "      <th>culmen_depth_mm</th>\n",
       "      <th>flipper_length_mm</th>\n",
       "      <th>body_mass_g</th>\n",
       "      <th>sex</th>\n",
       "      <th>1</th>\n",
       "    </tr>\n",
       "  </thead>\n",
       "  <tbody>\n",
       "    <tr>\n",
       "      <th>327</th>\n",
       "      <td>0</td>\n",
       "      <td>53.4</td>\n",
       "      <td>15.8</td>\n",
       "      <td>219.0</td>\n",
       "      <td>5500.0</td>\n",
       "      <td>1</td>\n",
       "      <td>0</td>\n",
       "    </tr>\n",
       "    <tr>\n",
       "      <th>227</th>\n",
       "      <td>0</td>\n",
       "      <td>46.7</td>\n",
       "      <td>15.3</td>\n",
       "      <td>219.0</td>\n",
       "      <td>5200.0</td>\n",
       "      <td>1</td>\n",
       "      <td>0</td>\n",
       "    </tr>\n",
       "    <tr>\n",
       "      <th>314</th>\n",
       "      <td>0</td>\n",
       "      <td>44.5</td>\n",
       "      <td>14.7</td>\n",
       "      <td>214.0</td>\n",
       "      <td>4850.0</td>\n",
       "      <td>0</td>\n",
       "      <td>0</td>\n",
       "    </tr>\n",
       "    <tr>\n",
       "      <th>268</th>\n",
       "      <td>0</td>\n",
       "      <td>44.9</td>\n",
       "      <td>13.3</td>\n",
       "      <td>213.0</td>\n",
       "      <td>5100.0</td>\n",
       "      <td>0</td>\n",
       "      <td>0</td>\n",
       "    </tr>\n",
       "    <tr>\n",
       "      <th>297</th>\n",
       "      <td>0</td>\n",
       "      <td>51.1</td>\n",
       "      <td>16.3</td>\n",
       "      <td>220.0</td>\n",
       "      <td>6000.0</td>\n",
       "      <td>1</td>\n",
       "      <td>0</td>\n",
       "    </tr>\n",
       "    <tr>\n",
       "      <th>...</th>\n",
       "      <td>...</td>\n",
       "      <td>...</td>\n",
       "      <td>...</td>\n",
       "      <td>...</td>\n",
       "      <td>...</td>\n",
       "      <td>...</td>\n",
       "      <td>...</td>\n",
       "    </tr>\n",
       "    <tr>\n",
       "      <th>296</th>\n",
       "      <td>0</td>\n",
       "      <td>47.5</td>\n",
       "      <td>14.2</td>\n",
       "      <td>209.0</td>\n",
       "      <td>4600.0</td>\n",
       "      <td>0</td>\n",
       "      <td>0</td>\n",
       "    </tr>\n",
       "    <tr>\n",
       "      <th>191</th>\n",
       "      <td>1</td>\n",
       "      <td>53.5</td>\n",
       "      <td>19.9</td>\n",
       "      <td>205.0</td>\n",
       "      <td>4500.0</td>\n",
       "      <td>1</td>\n",
       "      <td>1</td>\n",
       "    </tr>\n",
       "    <tr>\n",
       "      <th>280</th>\n",
       "      <td>0</td>\n",
       "      <td>45.3</td>\n",
       "      <td>13.8</td>\n",
       "      <td>208.0</td>\n",
       "      <td>4200.0</td>\n",
       "      <td>0</td>\n",
       "      <td>0</td>\n",
       "    </tr>\n",
       "    <tr>\n",
       "      <th>213</th>\n",
       "      <td>1</td>\n",
       "      <td>46.8</td>\n",
       "      <td>16.5</td>\n",
       "      <td>189.0</td>\n",
       "      <td>3650.0</td>\n",
       "      <td>0</td>\n",
       "      <td>1</td>\n",
       "    </tr>\n",
       "    <tr>\n",
       "      <th>260</th>\n",
       "      <td>0</td>\n",
       "      <td>42.7</td>\n",
       "      <td>13.7</td>\n",
       "      <td>208.0</td>\n",
       "      <td>3950.0</td>\n",
       "      <td>0</td>\n",
       "      <td>0</td>\n",
       "    </tr>\n",
       "  </tbody>\n",
       "</table>\n",
       "<p>127 rows × 7 columns</p>\n",
       "</div>"
      ],
      "text/plain": [
       "     island  culmen_length_mm  culmen_depth_mm  flipper_length_mm  \\\n",
       "327       0              53.4             15.8              219.0   \n",
       "227       0              46.7             15.3              219.0   \n",
       "314       0              44.5             14.7              214.0   \n",
       "268       0              44.9             13.3              213.0   \n",
       "297       0              51.1             16.3              220.0   \n",
       "..      ...               ...              ...                ...   \n",
       "296       0              47.5             14.2              209.0   \n",
       "191       1              53.5             19.9              205.0   \n",
       "280       0              45.3             13.8              208.0   \n",
       "213       1              46.8             16.5              189.0   \n",
       "260       0              42.7             13.7              208.0   \n",
       "\n",
       "     body_mass_g  sex  1  \n",
       "327       5500.0    1  0  \n",
       "227       5200.0    1  0  \n",
       "314       4850.0    0  0  \n",
       "268       5100.0    0  0  \n",
       "297       6000.0    1  0  \n",
       "..           ...  ... ..  \n",
       "296       4600.0    0  0  \n",
       "191       4500.0    1  1  \n",
       "280       4200.0    0  0  \n",
       "213       3650.0    0  1  \n",
       "260       3950.0    0  0  \n",
       "\n",
       "[127 rows x 7 columns]"
      ]
     },
     "execution_count": 228,
     "metadata": {},
     "output_type": "execute_result"
    }
   ],
   "source": [
    "train4"
   ]
  },
  {
   "cell_type": "markdown",
   "metadata": {},
   "source": [
    "Hago lo mismo con mi data de Testeo."
   ]
  },
  {
   "cell_type": "code",
   "execution_count": 232,
   "metadata": {},
   "outputs": [],
   "source": [
    "test3 = test[test.species != 0] "
   ]
  },
  {
   "cell_type": "code",
   "execution_count": 233,
   "metadata": {},
   "outputs": [
    {
     "data": {
      "text/html": [
       "<div>\n",
       "<style scoped>\n",
       "    .dataframe tbody tr th:only-of-type {\n",
       "        vertical-align: middle;\n",
       "    }\n",
       "\n",
       "    .dataframe tbody tr th {\n",
       "        vertical-align: top;\n",
       "    }\n",
       "\n",
       "    .dataframe thead th {\n",
       "        text-align: right;\n",
       "    }\n",
       "</style>\n",
       "<table border=\"1\" class=\"dataframe\">\n",
       "  <thead>\n",
       "    <tr style=\"text-align: right;\">\n",
       "      <th></th>\n",
       "      <th>species</th>\n",
       "      <th>island</th>\n",
       "      <th>culmen_length_mm</th>\n",
       "      <th>culmen_depth_mm</th>\n",
       "      <th>flipper_length_mm</th>\n",
       "      <th>body_mass_g</th>\n",
       "      <th>sex</th>\n",
       "    </tr>\n",
       "  </thead>\n",
       "  <tbody>\n",
       "    <tr>\n",
       "      <th>310</th>\n",
       "      <td>2</td>\n",
       "      <td>0</td>\n",
       "      <td>47.5</td>\n",
       "      <td>15.0</td>\n",
       "      <td>218.0</td>\n",
       "      <td>4950.0</td>\n",
       "      <td>0</td>\n",
       "    </tr>\n",
       "    <tr>\n",
       "      <th>274</th>\n",
       "      <td>2</td>\n",
       "      <td>0</td>\n",
       "      <td>46.5</td>\n",
       "      <td>14.4</td>\n",
       "      <td>217.0</td>\n",
       "      <td>4900.0</td>\n",
       "      <td>0</td>\n",
       "    </tr>\n",
       "    <tr>\n",
       "      <th>173</th>\n",
       "      <td>1</td>\n",
       "      <td>1</td>\n",
       "      <td>48.5</td>\n",
       "      <td>17.5</td>\n",
       "      <td>191.0</td>\n",
       "      <td>3400.0</td>\n",
       "      <td>1</td>\n",
       "    </tr>\n",
       "    <tr>\n",
       "      <th>287</th>\n",
       "      <td>2</td>\n",
       "      <td>0</td>\n",
       "      <td>49.5</td>\n",
       "      <td>16.2</td>\n",
       "      <td>221.5</td>\n",
       "      <td>5800.0</td>\n",
       "      <td>1</td>\n",
       "    </tr>\n",
       "    <tr>\n",
       "      <th>301</th>\n",
       "      <td>2</td>\n",
       "      <td>0</td>\n",
       "      <td>52.5</td>\n",
       "      <td>15.6</td>\n",
       "      <td>221.0</td>\n",
       "      <td>5450.0</td>\n",
       "      <td>1</td>\n",
       "    </tr>\n",
       "    <tr>\n",
       "      <th>...</th>\n",
       "      <td>...</td>\n",
       "      <td>...</td>\n",
       "      <td>...</td>\n",
       "      <td>...</td>\n",
       "      <td>...</td>\n",
       "      <td>...</td>\n",
       "      <td>...</td>\n",
       "    </tr>\n",
       "    <tr>\n",
       "      <th>307</th>\n",
       "      <td>2</td>\n",
       "      <td>0</td>\n",
       "      <td>51.3</td>\n",
       "      <td>14.2</td>\n",
       "      <td>218.0</td>\n",
       "      <td>5300.0</td>\n",
       "      <td>1</td>\n",
       "    </tr>\n",
       "    <tr>\n",
       "      <th>171</th>\n",
       "      <td>1</td>\n",
       "      <td>1</td>\n",
       "      <td>49.2</td>\n",
       "      <td>18.2</td>\n",
       "      <td>195.0</td>\n",
       "      <td>4400.0</td>\n",
       "      <td>1</td>\n",
       "    </tr>\n",
       "    <tr>\n",
       "      <th>305</th>\n",
       "      <td>2</td>\n",
       "      <td>0</td>\n",
       "      <td>50.8</td>\n",
       "      <td>17.3</td>\n",
       "      <td>228.0</td>\n",
       "      <td>5600.0</td>\n",
       "      <td>1</td>\n",
       "    </tr>\n",
       "    <tr>\n",
       "      <th>332</th>\n",
       "      <td>2</td>\n",
       "      <td>0</td>\n",
       "      <td>43.5</td>\n",
       "      <td>15.2</td>\n",
       "      <td>213.0</td>\n",
       "      <td>4650.0</td>\n",
       "      <td>0</td>\n",
       "    </tr>\n",
       "    <tr>\n",
       "      <th>320</th>\n",
       "      <td>2</td>\n",
       "      <td>0</td>\n",
       "      <td>48.5</td>\n",
       "      <td>15.0</td>\n",
       "      <td>215.0</td>\n",
       "      <td>4850.0</td>\n",
       "      <td>0</td>\n",
       "    </tr>\n",
       "  </tbody>\n",
       "</table>\n",
       "<p>65 rows × 7 columns</p>\n",
       "</div>"
      ],
      "text/plain": [
       "     species  island  culmen_length_mm  culmen_depth_mm  flipper_length_mm  \\\n",
       "310        2       0              47.5             15.0              218.0   \n",
       "274        2       0              46.5             14.4              217.0   \n",
       "173        1       1              48.5             17.5              191.0   \n",
       "287        2       0              49.5             16.2              221.5   \n",
       "301        2       0              52.5             15.6              221.0   \n",
       "..       ...     ...               ...              ...                ...   \n",
       "307        2       0              51.3             14.2              218.0   \n",
       "171        1       1              49.2             18.2              195.0   \n",
       "305        2       0              50.8             17.3              228.0   \n",
       "332        2       0              43.5             15.2              213.0   \n",
       "320        2       0              48.5             15.0              215.0   \n",
       "\n",
       "     body_mass_g  sex  \n",
       "310       4950.0    0  \n",
       "274       4900.0    0  \n",
       "173       3400.0    1  \n",
       "287       5800.0    1  \n",
       "301       5450.0    1  \n",
       "..           ...  ...  \n",
       "307       5300.0    1  \n",
       "171       4400.0    1  \n",
       "305       5600.0    1  \n",
       "332       4650.0    0  \n",
       "320       4850.0    0  \n",
       "\n",
       "[65 rows x 7 columns]"
      ]
     },
     "execution_count": 233,
     "metadata": {},
     "output_type": "execute_result"
    }
   ],
   "source": [
    "test3"
   ]
  },
  {
   "cell_type": "code",
   "execution_count": 234,
   "metadata": {},
   "outputs": [],
   "source": [
    "dummy = pd.get_dummies(test3[\"species\"])"
   ]
  },
  {
   "cell_type": "code",
   "execution_count": 235,
   "metadata": {},
   "outputs": [],
   "source": [
    "test4 = pd.concat([test3, dummy], axis = 1)"
   ]
  },
  {
   "cell_type": "code",
   "execution_count": 236,
   "metadata": {},
   "outputs": [
    {
     "data": {
      "text/html": [
       "<div>\n",
       "<style scoped>\n",
       "    .dataframe tbody tr th:only-of-type {\n",
       "        vertical-align: middle;\n",
       "    }\n",
       "\n",
       "    .dataframe tbody tr th {\n",
       "        vertical-align: top;\n",
       "    }\n",
       "\n",
       "    .dataframe thead th {\n",
       "        text-align: right;\n",
       "    }\n",
       "</style>\n",
       "<table border=\"1\" class=\"dataframe\">\n",
       "  <thead>\n",
       "    <tr style=\"text-align: right;\">\n",
       "      <th></th>\n",
       "      <th>species</th>\n",
       "      <th>island</th>\n",
       "      <th>culmen_length_mm</th>\n",
       "      <th>culmen_depth_mm</th>\n",
       "      <th>flipper_length_mm</th>\n",
       "      <th>body_mass_g</th>\n",
       "      <th>sex</th>\n",
       "      <th>1</th>\n",
       "      <th>2</th>\n",
       "    </tr>\n",
       "  </thead>\n",
       "  <tbody>\n",
       "    <tr>\n",
       "      <th>310</th>\n",
       "      <td>2</td>\n",
       "      <td>0</td>\n",
       "      <td>47.5</td>\n",
       "      <td>15.0</td>\n",
       "      <td>218.0</td>\n",
       "      <td>4950.0</td>\n",
       "      <td>0</td>\n",
       "      <td>0</td>\n",
       "      <td>1</td>\n",
       "    </tr>\n",
       "    <tr>\n",
       "      <th>274</th>\n",
       "      <td>2</td>\n",
       "      <td>0</td>\n",
       "      <td>46.5</td>\n",
       "      <td>14.4</td>\n",
       "      <td>217.0</td>\n",
       "      <td>4900.0</td>\n",
       "      <td>0</td>\n",
       "      <td>0</td>\n",
       "      <td>1</td>\n",
       "    </tr>\n",
       "    <tr>\n",
       "      <th>173</th>\n",
       "      <td>1</td>\n",
       "      <td>1</td>\n",
       "      <td>48.5</td>\n",
       "      <td>17.5</td>\n",
       "      <td>191.0</td>\n",
       "      <td>3400.0</td>\n",
       "      <td>1</td>\n",
       "      <td>1</td>\n",
       "      <td>0</td>\n",
       "    </tr>\n",
       "    <tr>\n",
       "      <th>287</th>\n",
       "      <td>2</td>\n",
       "      <td>0</td>\n",
       "      <td>49.5</td>\n",
       "      <td>16.2</td>\n",
       "      <td>221.5</td>\n",
       "      <td>5800.0</td>\n",
       "      <td>1</td>\n",
       "      <td>0</td>\n",
       "      <td>1</td>\n",
       "    </tr>\n",
       "    <tr>\n",
       "      <th>301</th>\n",
       "      <td>2</td>\n",
       "      <td>0</td>\n",
       "      <td>52.5</td>\n",
       "      <td>15.6</td>\n",
       "      <td>221.0</td>\n",
       "      <td>5450.0</td>\n",
       "      <td>1</td>\n",
       "      <td>0</td>\n",
       "      <td>1</td>\n",
       "    </tr>\n",
       "    <tr>\n",
       "      <th>...</th>\n",
       "      <td>...</td>\n",
       "      <td>...</td>\n",
       "      <td>...</td>\n",
       "      <td>...</td>\n",
       "      <td>...</td>\n",
       "      <td>...</td>\n",
       "      <td>...</td>\n",
       "      <td>...</td>\n",
       "      <td>...</td>\n",
       "    </tr>\n",
       "    <tr>\n",
       "      <th>307</th>\n",
       "      <td>2</td>\n",
       "      <td>0</td>\n",
       "      <td>51.3</td>\n",
       "      <td>14.2</td>\n",
       "      <td>218.0</td>\n",
       "      <td>5300.0</td>\n",
       "      <td>1</td>\n",
       "      <td>0</td>\n",
       "      <td>1</td>\n",
       "    </tr>\n",
       "    <tr>\n",
       "      <th>171</th>\n",
       "      <td>1</td>\n",
       "      <td>1</td>\n",
       "      <td>49.2</td>\n",
       "      <td>18.2</td>\n",
       "      <td>195.0</td>\n",
       "      <td>4400.0</td>\n",
       "      <td>1</td>\n",
       "      <td>1</td>\n",
       "      <td>0</td>\n",
       "    </tr>\n",
       "    <tr>\n",
       "      <th>305</th>\n",
       "      <td>2</td>\n",
       "      <td>0</td>\n",
       "      <td>50.8</td>\n",
       "      <td>17.3</td>\n",
       "      <td>228.0</td>\n",
       "      <td>5600.0</td>\n",
       "      <td>1</td>\n",
       "      <td>0</td>\n",
       "      <td>1</td>\n",
       "    </tr>\n",
       "    <tr>\n",
       "      <th>332</th>\n",
       "      <td>2</td>\n",
       "      <td>0</td>\n",
       "      <td>43.5</td>\n",
       "      <td>15.2</td>\n",
       "      <td>213.0</td>\n",
       "      <td>4650.0</td>\n",
       "      <td>0</td>\n",
       "      <td>0</td>\n",
       "      <td>1</td>\n",
       "    </tr>\n",
       "    <tr>\n",
       "      <th>320</th>\n",
       "      <td>2</td>\n",
       "      <td>0</td>\n",
       "      <td>48.5</td>\n",
       "      <td>15.0</td>\n",
       "      <td>215.0</td>\n",
       "      <td>4850.0</td>\n",
       "      <td>0</td>\n",
       "      <td>0</td>\n",
       "      <td>1</td>\n",
       "    </tr>\n",
       "  </tbody>\n",
       "</table>\n",
       "<p>65 rows × 9 columns</p>\n",
       "</div>"
      ],
      "text/plain": [
       "     species  island  culmen_length_mm  culmen_depth_mm  flipper_length_mm  \\\n",
       "310        2       0              47.5             15.0              218.0   \n",
       "274        2       0              46.5             14.4              217.0   \n",
       "173        1       1              48.5             17.5              191.0   \n",
       "287        2       0              49.5             16.2              221.5   \n",
       "301        2       0              52.5             15.6              221.0   \n",
       "..       ...     ...               ...              ...                ...   \n",
       "307        2       0              51.3             14.2              218.0   \n",
       "171        1       1              49.2             18.2              195.0   \n",
       "305        2       0              50.8             17.3              228.0   \n",
       "332        2       0              43.5             15.2              213.0   \n",
       "320        2       0              48.5             15.0              215.0   \n",
       "\n",
       "     body_mass_g  sex  1  2  \n",
       "310       4950.0    0  0  1  \n",
       "274       4900.0    0  0  1  \n",
       "173       3400.0    1  1  0  \n",
       "287       5800.0    1  0  1  \n",
       "301       5450.0    1  0  1  \n",
       "..           ...  ... .. ..  \n",
       "307       5300.0    1  0  1  \n",
       "171       4400.0    1  1  0  \n",
       "305       5600.0    1  0  1  \n",
       "332       4650.0    0  0  1  \n",
       "320       4850.0    0  0  1  \n",
       "\n",
       "[65 rows x 9 columns]"
      ]
     },
     "execution_count": 236,
     "metadata": {},
     "output_type": "execute_result"
    }
   ],
   "source": [
    "test4"
   ]
  },
  {
   "cell_type": "code",
   "execution_count": 237,
   "metadata": {},
   "outputs": [],
   "source": [
    "test4 = test4.drop(\"species\", axis = 1)"
   ]
  },
  {
   "cell_type": "code",
   "execution_count": 238,
   "metadata": {},
   "outputs": [],
   "source": [
    "test4 = test4.drop(2, axis = 1)"
   ]
  },
  {
   "cell_type": "code",
   "execution_count": 239,
   "metadata": {},
   "outputs": [
    {
     "data": {
      "text/html": [
       "<div>\n",
       "<style scoped>\n",
       "    .dataframe tbody tr th:only-of-type {\n",
       "        vertical-align: middle;\n",
       "    }\n",
       "\n",
       "    .dataframe tbody tr th {\n",
       "        vertical-align: top;\n",
       "    }\n",
       "\n",
       "    .dataframe thead th {\n",
       "        text-align: right;\n",
       "    }\n",
       "</style>\n",
       "<table border=\"1\" class=\"dataframe\">\n",
       "  <thead>\n",
       "    <tr style=\"text-align: right;\">\n",
       "      <th></th>\n",
       "      <th>island</th>\n",
       "      <th>culmen_length_mm</th>\n",
       "      <th>culmen_depth_mm</th>\n",
       "      <th>flipper_length_mm</th>\n",
       "      <th>body_mass_g</th>\n",
       "      <th>sex</th>\n",
       "      <th>1</th>\n",
       "    </tr>\n",
       "  </thead>\n",
       "  <tbody>\n",
       "    <tr>\n",
       "      <th>310</th>\n",
       "      <td>0</td>\n",
       "      <td>47.5</td>\n",
       "      <td>15.0</td>\n",
       "      <td>218.0</td>\n",
       "      <td>4950.0</td>\n",
       "      <td>0</td>\n",
       "      <td>0</td>\n",
       "    </tr>\n",
       "    <tr>\n",
       "      <th>274</th>\n",
       "      <td>0</td>\n",
       "      <td>46.5</td>\n",
       "      <td>14.4</td>\n",
       "      <td>217.0</td>\n",
       "      <td>4900.0</td>\n",
       "      <td>0</td>\n",
       "      <td>0</td>\n",
       "    </tr>\n",
       "    <tr>\n",
       "      <th>173</th>\n",
       "      <td>1</td>\n",
       "      <td>48.5</td>\n",
       "      <td>17.5</td>\n",
       "      <td>191.0</td>\n",
       "      <td>3400.0</td>\n",
       "      <td>1</td>\n",
       "      <td>1</td>\n",
       "    </tr>\n",
       "    <tr>\n",
       "      <th>287</th>\n",
       "      <td>0</td>\n",
       "      <td>49.5</td>\n",
       "      <td>16.2</td>\n",
       "      <td>221.5</td>\n",
       "      <td>5800.0</td>\n",
       "      <td>1</td>\n",
       "      <td>0</td>\n",
       "    </tr>\n",
       "    <tr>\n",
       "      <th>301</th>\n",
       "      <td>0</td>\n",
       "      <td>52.5</td>\n",
       "      <td>15.6</td>\n",
       "      <td>221.0</td>\n",
       "      <td>5450.0</td>\n",
       "      <td>1</td>\n",
       "      <td>0</td>\n",
       "    </tr>\n",
       "    <tr>\n",
       "      <th>...</th>\n",
       "      <td>...</td>\n",
       "      <td>...</td>\n",
       "      <td>...</td>\n",
       "      <td>...</td>\n",
       "      <td>...</td>\n",
       "      <td>...</td>\n",
       "      <td>...</td>\n",
       "    </tr>\n",
       "    <tr>\n",
       "      <th>307</th>\n",
       "      <td>0</td>\n",
       "      <td>51.3</td>\n",
       "      <td>14.2</td>\n",
       "      <td>218.0</td>\n",
       "      <td>5300.0</td>\n",
       "      <td>1</td>\n",
       "      <td>0</td>\n",
       "    </tr>\n",
       "    <tr>\n",
       "      <th>171</th>\n",
       "      <td>1</td>\n",
       "      <td>49.2</td>\n",
       "      <td>18.2</td>\n",
       "      <td>195.0</td>\n",
       "      <td>4400.0</td>\n",
       "      <td>1</td>\n",
       "      <td>1</td>\n",
       "    </tr>\n",
       "    <tr>\n",
       "      <th>305</th>\n",
       "      <td>0</td>\n",
       "      <td>50.8</td>\n",
       "      <td>17.3</td>\n",
       "      <td>228.0</td>\n",
       "      <td>5600.0</td>\n",
       "      <td>1</td>\n",
       "      <td>0</td>\n",
       "    </tr>\n",
       "    <tr>\n",
       "      <th>332</th>\n",
       "      <td>0</td>\n",
       "      <td>43.5</td>\n",
       "      <td>15.2</td>\n",
       "      <td>213.0</td>\n",
       "      <td>4650.0</td>\n",
       "      <td>0</td>\n",
       "      <td>0</td>\n",
       "    </tr>\n",
       "    <tr>\n",
       "      <th>320</th>\n",
       "      <td>0</td>\n",
       "      <td>48.5</td>\n",
       "      <td>15.0</td>\n",
       "      <td>215.0</td>\n",
       "      <td>4850.0</td>\n",
       "      <td>0</td>\n",
       "      <td>0</td>\n",
       "    </tr>\n",
       "  </tbody>\n",
       "</table>\n",
       "<p>65 rows × 7 columns</p>\n",
       "</div>"
      ],
      "text/plain": [
       "     island  culmen_length_mm  culmen_depth_mm  flipper_length_mm  \\\n",
       "310       0              47.5             15.0              218.0   \n",
       "274       0              46.5             14.4              217.0   \n",
       "173       1              48.5             17.5              191.0   \n",
       "287       0              49.5             16.2              221.5   \n",
       "301       0              52.5             15.6              221.0   \n",
       "..      ...               ...              ...                ...   \n",
       "307       0              51.3             14.2              218.0   \n",
       "171       1              49.2             18.2              195.0   \n",
       "305       0              50.8             17.3              228.0   \n",
       "332       0              43.5             15.2              213.0   \n",
       "320       0              48.5             15.0              215.0   \n",
       "\n",
       "     body_mass_g  sex  1  \n",
       "310       4950.0    0  0  \n",
       "274       4900.0    0  0  \n",
       "173       3400.0    1  1  \n",
       "287       5800.0    1  0  \n",
       "301       5450.0    1  0  \n",
       "..           ...  ... ..  \n",
       "307       5300.0    1  0  \n",
       "171       4400.0    1  1  \n",
       "305       5600.0    1  0  \n",
       "332       4650.0    0  0  \n",
       "320       4850.0    0  0  \n",
       "\n",
       "[65 rows x 7 columns]"
      ]
     },
     "execution_count": 239,
     "metadata": {},
     "output_type": "execute_result"
    }
   ],
   "source": [
    "test4"
   ]
  },
  {
   "cell_type": "code",
   "execution_count": 240,
   "metadata": {},
   "outputs": [],
   "source": [
    "X_train4 = train4.drop(1,axis=1)"
   ]
  },
  {
   "cell_type": "code",
   "execution_count": 241,
   "metadata": {},
   "outputs": [],
   "source": [
    "y_train4 = train4[1]"
   ]
  },
  {
   "cell_type": "code",
   "execution_count": 242,
   "metadata": {},
   "outputs": [],
   "source": [
    "X_test4 = test4.drop(1,axis=1)"
   ]
  },
  {
   "cell_type": "code",
   "execution_count": 243,
   "metadata": {},
   "outputs": [],
   "source": [
    "y_test4 = test4[1]"
   ]
  },
  {
   "cell_type": "markdown",
   "metadata": {},
   "source": [
    "### Creación de Modelos:\n",
    "\n",
    "**Regresión Logística:**\n",
    "\n",
    "Veamos como nos va: Upaa tenemos un rendimiento buenísimo, de 100%! Nuestro modelo esta muy bueno."
   ]
  },
  {
   "cell_type": "code",
   "execution_count": 244,
   "metadata": {},
   "outputs": [
    {
     "name": "stdout",
     "output_type": "stream",
     "text": [
      "Rendimiento : 100.000%\n"
     ]
    }
   ],
   "source": [
    "from sklearn.linear_model import LogisticRegression\n",
    "\n",
    "model = LogisticRegression()\n",
    "model.fit(X_train4,y_train4)\n",
    "predictions = model.predict(X_test4)\n",
    "accuracy = metrics.accuracy_score(y_test4, predictions)    \n",
    "print(\"Rendimiento : %s\" % \"{0:.3%}\".format(accuracy))"
   ]
  },
  {
   "cell_type": "markdown",
   "metadata": {},
   "source": [
    "**Red Neuronal:**\n",
    "\n",
    "Veamos como nos va con 115 hidden layers. Rendimiento de 50%. Peor que regresión logística."
   ]
  },
  {
   "cell_type": "code",
   "execution_count": 245,
   "metadata": {},
   "outputs": [
    {
     "name": "stdout",
     "output_type": "stream",
     "text": [
      "Accuracy: 0.5\n"
     ]
    }
   ],
   "source": [
    "from sklearn.neural_network import MLPClassifier\n",
    "\n",
    "mlp = MLPClassifier(hidden_layer_sizes=(115,), max_iter=10000) # 10\n",
    "mlp.fit(X_train4, y_train4)\n",
    "predicted = mlp.predict(X_test4)\n",
    "\n",
    "print(\"Accuracy: %s\" % metrics.balanced_accuracy_score(y_test4, predicted))"
   ]
  },
  {
   "cell_type": "code",
   "execution_count": null,
   "metadata": {},
   "outputs": [],
   "source": []
  }
 ],
 "metadata": {
  "kernelspec": {
   "display_name": "Python 3",
   "language": "python",
   "name": "python3"
  },
  "language_info": {
   "codemirror_mode": {
    "name": "ipython",
    "version": 3
   },
   "file_extension": ".py",
   "mimetype": "text/x-python",
   "name": "python",
   "nbconvert_exporter": "python",
   "pygments_lexer": "ipython3",
   "version": "3.6.4"
  }
 },
 "nbformat": 4,
 "nbformat_minor": 4
}
