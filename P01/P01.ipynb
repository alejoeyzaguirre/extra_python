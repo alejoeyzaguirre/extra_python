{
 "cells": [
  {
   "cell_type": "markdown",
   "metadata": {},
   "source": [
    "# Actividad Práctica 01, José Alejo Eyzaguirre Ercilla"
   ]
  },
  {
   "cell_type": "markdown",
   "metadata": {},
   "source": [
    "### Importación de Paquetes."
   ]
  },
  {
   "cell_type": "code",
   "execution_count": 1,
   "metadata": {},
   "outputs": [],
   "source": [
    "import random\n"
   ]
  },
  {
   "cell_type": "markdown",
   "metadata": {},
   "source": [
    "Se utilizó el siguiente cuadro de código, para probar los distintos métodos del paquete random."
   ]
  },
  {
   "cell_type": "code",
   "execution_count": 54,
   "metadata": {},
   "outputs": [
    {
     "name": "stdout",
     "output_type": "stream",
     "text": [
      "4.683251150660866\n",
      "0.0\n",
      "0\n",
      "0.7103128201998699\n"
     ]
    }
   ],
   "source": [
    "#Este cuadro se uso para entender mejor las aleatorizaciones a realizar.\n",
    "\n",
    "lambd = 0.2\n",
    "print(random.expovariate(lambd))\n",
    "\n",
    "ac = 0\n",
    "n = 0\n",
    "while n < 101:\n",
    "    random.choices([\"adelanto\", \"no adelanto\"], [0.9, 0.1])\n",
    "    if r == [\"liviano\"]:\n",
    "        ac += 1\n",
    "    n += 1\n",
    "    \n",
    "print(ac /100)\n",
    "print(random.randint(0,1))\n",
    "\n",
    "print(random.uniform(0.2,1))"
   ]
  },
  {
   "cell_type": "markdown",
   "metadata": {},
   "source": [
    "### Clase Auto:\n",
    "\n",
    "Se crea una clase `auto` que heredará su estructura a distintas especializaciones de esta o subclases. En particular, existen tres subclases de autos los de `carrera`, los `pesados` y los`livianos`. La cantidad que llega a la autopista de cada uno de estos esta dada por una cierta proporción.\n",
    "\n",
    "La posición actual representa el metro en la pista en que se ubica el centro del vehículo, a modo de simplificación se supone que un auto necesita en todo momento 10 metros como \"espacio vital\" (el auto se encuentra en medio de estos 10 kms). Entonces cada posición será representada como el decámetro que corresponde en esta pista de 100 kms, en cada pista entonces hay 10.000 puestos, que solo pueden ser ocupados por un auto a la vez. El primer decámetro es la posición 1. Si un auto adelanta no puede estar en el mismo decámetro o posición que otro auto en la pista izquierda."
   ]
  },
  {
   "cell_type": "code",
   "execution_count": 59,
   "metadata": {},
   "outputs": [],
   "source": [
    "class auto:\n",
    "    def __init__(self, t_ingreso):\n",
    "        self.t_ingreso = t_ingreso #En minutos.\n",
    "        self.velocidad_promedio = 0 #En kms por hora\n",
    "        self.velocidad_adelanto = 0 #En kms por hora\n",
    "        self.pista_actual = \"derecha\"\n",
    "        self.posicion_actual = 0 #En decámetros\n",
    "        self.probabilidad_adelanto = 0\n",
    "        \n",
    "    def pos_actual(self):\n",
    "        pass\n",
    "\n",
    "\n"
   ]
  },
  {
   "cell_type": "markdown",
   "metadata": {},
   "source": [
    "### Subclase Auto de Carrera:\n",
    "\n",
    "Se define la subclase auto de `carrera` que hereda de la clase auto. En esta se crean los distintos métodos con las especificaciones puntuales de este tipo de autos.\n",
    "\n"
   ]
  },
  {
   "cell_type": "code",
   "execution_count": 56,
   "metadata": {},
   "outputs": [],
   "source": [
    "class carrera(auto):\n",
    "    def __init__(self, t_ingreso):\n",
    "        super().__init__(t_ingreso)\n",
    "        self.velocidad_promedio = random.randint(100, 140) #En kms por hora\n",
    "        self.velocidad_adelanto = 150 #En kms por hora\n",
    "        self.pista_actual = \"derecha\"\n",
    "        self.posicion_actual = 0 #En decámetros\n",
    "        self.velocidad_actual = self.velocidad_promedio\n",
    "        self.probabilidad_adelanto = random.uniform(0.8, 1)\n",
    "    \n",
    "    #Por cada t, es decir por cada minuto, se calcula la posición del auto.\n",
    "    def pos_actual(self):\n",
    "        pos_actual = self.velocidad_actual*(1/60) #en kms.\n",
    "        if pos_actual < 100:\n",
    "            self.posicion_actual += pos_actual/100 #En decámetros.\n",
    "            self.posicion_actual = int(self.posicion_actual)\n",
    "            return self.posicion_actual\n",
    "        else:\n",
    "            self.posicion_actual = \"Salió\"\n",
    "    \n",
    "    #Condiciones de adelanto van en la misma simulación, que no haya ningún auto en la posicion actual en la pista\n",
    "    #izquierda (utilizar un if) y si tiene un auto en la posición de frente, sino no puede adelantar y \n",
    "    #sigue avanzando por la pista derecha.\n",
    "    \n",
    "    def adelanto(self, auto_a_adelantar):\n",
    "        r = random.choices([\"adelanto\", \"no adelanto\"],[self.probabilidad_adelanto, 1 - self.probabilidad_adelanto])      \n",
    "        if r == \"adelanto\" and auto_a_adelantar.posicion_actual == self.posicion_actual + 1: #La segunda condición no es necesaria, iría en la simulación.\n",
    "            self.pista_actual = \"izquierda\"\n",
    "            self.velocidad_actual = self.velocidad_adelanto\n",
    "        else: #si no adelanta se tiene que ir lento atrás del auto de enfrente.\n",
    "            self.velocidad_actual = auto_a_adelantar.velocidad_actual\n",
    "    \n",
    "    #Defino el método de volver a la pista derecha, condiciones dadas en la simulación misma. Solo se puede volver\n",
    "    #en el caso en que no haya ningún auto en la pista derecha de la autopista en esa posición (utilizar un if).\n",
    "    #si no se cumple la condición debe seguir avanzando por la pista izquierda a la velocidad de adelantamiento.\n",
    "    def vuelvo(self):\n",
    "        self.pista_actual = \"derecha\"\n",
    "        #Mantiene la velocidad de adelanto..."
   ]
  },
  {
   "cell_type": "markdown",
   "metadata": {},
   "source": [
    "### Subclase Auto Liviano:\n",
    "\n",
    "Se define la subclase auto `liviano` que hereda de la clase auto. En esta se crean los distintos métodos con las espeficaciones puntuales de este tipo de autos."
   ]
  },
  {
   "cell_type": "code",
   "execution_count": 58,
   "metadata": {},
   "outputs": [],
   "source": [
    "class liviano(auto):\n",
    "    def __init__(self, t_ingreso):\n",
    "        super().__init__(t_ingreso)\n",
    "        self.velocidad_promedio = random.randint(80, 120) #En kms por hora\n",
    "        self.velocidad_adelanto = 130 #En kms por hora\n",
    "        self.pista_actual = \"derecha\"\n",
    "        self.posicion_actual = 0 #En decámetros\n",
    "        self.velocidad_actual = self.velocidad_promedio\n",
    "        self.probabilidad_adelanto = random.uniform(0.4, 0.8)\n",
    "    \n",
    "    #Por cada t, es decir por cada minuto, se calcula la posición del auto.\n",
    "    def pos_actual(self):\n",
    "        pos_actual = self.velocidad_actual*(1/60) #en kms.\n",
    "        if pos_actual < 100:\n",
    "            self.posicion_actual += pos_actual/100 #En decámetros.\n",
    "            self.posicion_actual = int(self.posicion_actual)\n",
    "            return self.posicion_actual\n",
    "        else:\n",
    "            self.posicion_actual = \"Salió\"\n",
    "        \n",
    "    \n",
    "    #Condiciones de adelanto van en la misma simulación, que no haya ningún auto en la posicion actual en la pista\n",
    "    #izquierda y si tiene un auto en la posición de al frente (utilizar un if), sino no puede adelantar y sigue avanzando por la pista derecha.\n",
    "    def adelanto(self, auto_a_adelantar):\n",
    "        r = random.choices([\"adelanto\", \"no adelanto\"],[self.probabilidad_adelanto, 1 - self.probabilidad_adelanto])      \n",
    "        if r == \"adelanto\" and auto_a_adelantar.posicion_actual == self.posicion_actual + 1: #La segunda condición no es necesaria, iría en la simulación.\n",
    "            self.pista_actual = \"izquierda\"\n",
    "            self.velocidad_actual = self.velocidad_adelanto\n",
    "        else: #si no adelanta se tiene que ir lento atrás del auto de enfrente.\n",
    "            self.velocidad_actual = auto_a_adelantar.velocidad_actual\n",
    "    \n",
    "    #Defino el método de volver a la pista derecha, condiciones dadas en la simulación misma. Solo se puede volver\n",
    "    #en el caso en que no haya ningún auto en la pista derecha de la autopista en esa posición (utilizar un if).\n",
    "    #si no se cumple la condición debe seguir avanzando por la pista izquierda a la velocidad de adelantamiento.\n",
    "    def vuelvo(self):\n",
    "        self.pista_actual = \"derecha\"\n",
    "        self.velocidad_actual = self.velocidad_promedio"
   ]
  },
  {
   "cell_type": "markdown",
   "metadata": {},
   "source": [
    "### Subclase Auto Pesado:\n",
    "\n",
    "Se define la subclase auto `pesado`que hereda de la clase auto. En esta se crean los distintos métodos con las espeficaciones puntuales de este tipo de autos.\n"
   ]
  },
  {
   "cell_type": "code",
   "execution_count": null,
   "metadata": {},
   "outputs": [],
   "source": [
    "class pesado(auto):\n",
    "    def __init__(self, t_ingreso):\n",
    "        super().__init__(t_ingreso)\n",
    "        self.velocidad_promedio = random.randint(70, 100) #En kms por hora\n",
    "        self.velocidad_adelanto = 110 #Auto pesado no adelanta, el 110 es por la buena onda...\n",
    "        self.pista_actual = \"derecha\"\n",
    "        self.posicion_actual = 0 #En decámetros\n",
    "        self.velocidad_actual = self.velocidad_promedio\n",
    "        self.probabilidad_adelanto = random.uniform(0.4, 0.8) #Por la buena onda también.\n",
    "    \n",
    "    #Por cada t, es decir por cada minuto, se calcula la posición del auto.\n",
    "    def pos_actual(self):\n",
    "        pos_actual = self.velocidad_actual*(1/60) #en kms.\n",
    "        if pos_actual < 100:\n",
    "            self.posicion_actual += pos_actual/100 #En decámetros.\n",
    "            self.posicion_actual = int(self.posicion_actual)\n",
    "            return self.posicion_actual\n",
    "            \n",
    "        else:\n",
    "            self.posicion_actual = \"Salió\"\n",
    "    #pesado no adelanta pero sirve para asegurar que este se queda tras el auto que alcanzó a su misma velocidad.\n",
    "    def adelanto(self, auto_a_adelantar):\n",
    "        self.velocidad_actual = auto_a_adelantar.velocidad_actual\n",
    "    \n",
    "    \n",
    "    "
   ]
  },
  {
   "cell_type": "markdown",
   "metadata": {},
   "source": [
    "### Clase Autopista\n",
    "En el siguiente cuadro, se crea esta clase, que contiene dos pistas. Las pistas serán representadas por un diccionario cada una en que la llave de cada elemento es un auto y el valor es la posición en la pista (donde la posición es donde se ubica la mitad del auto). Se supone además que cada\n",
    "\n",
    "La posición representa el metro en la pista en que se ubica el centro del vehículo, a modo de simplificación se supone que un auto necesita en todo momento 10 metros como \"espacio vital\" (el auto se encuentra en medio de estos 10 kms). Entonces cada posición será representada como el decámetro que corresponde en esta pista de 100 kms, en cada pista entonces hay 10.000 puestos, que solo pueden ser ocupados por un auto a la vez. El primer decámetro es la posición 1. Si un auto adelanta no puede estar en el mismo decámetro o posición que otro auto en la pista izquierda.\n",
    "\n",
    "Para crear la autopista norte y sur, basta con crear dos objetos del tipo autopista.\n",
    "\n",
    "En esta clase un auto es un atributo."
   ]
  },
  {
   "cell_type": "code",
   "execution_count": 60,
   "metadata": {},
   "outputs": [],
   "source": [
    "#ingresar longitud en decámetros\n",
    "class autopista:\n",
    "    def __init__(self, lambda_dir, longitud):\n",
    "        self.lamda_dir = lambda_dir\n",
    "        \n",
    "        #Diccionario en que las llaves son la posición en la pista y el valor el id del auto.\n",
    "        self.pista_izquierda = dict()\n",
    "        for i in range(longitud):\n",
    "            self.pista_izquierda[i] = 0\n",
    "        self.pista_derecha = dict()\n",
    "        for i in range(longitud):\n",
    "            self.pista_derecha[i] = 0\n",
    "       \n",
    "        self.id_autos = dict()\n",
    "        self.lambda_dir = lambda_direccion\n",
    "        self._id = 0\n",
    "    \n",
    "    #Ingresa auto cada cierto tiempo determinado por random.expovariate(lambd).\n",
    "    def ingresa_auto(self, velocidad_adelanto, t):\n",
    "        self._id += 1\n",
    "        tipo = random.choices([\"carrera\", \"liviano\", \"pesado\"],[0.1, 0.5, 0.4])       \n",
    "        if tipo == \"liviano\":\n",
    "            auto1 = liviano(t)        \n",
    "        elif tipo == \"pesado\":\n",
    "            auto1 = pesado(t)        \n",
    "        elif tipo == \"carrera\":\n",
    "            auto1 = carrera(t)\n",
    "        \n",
    "        #Si no entró un auto recién entonces entra el auto, a modo de simplificación se supone que si hay un auto que\n",
    "        #sigue en la posición 1, entonces el auto no ingresa a la carretera.\n",
    "        if 1 not in self.pista_derecha.values():\n",
    "            self.pista_derecha[1] = self._id\n",
    "            self.id_autos[self._id] = auto1\n",
    "    \n",
    "    #Esta clase es más o menos un intento de hacer la simulación rapidamente...\n",
    "    #Para actualizar posiciones en cada pista se utiliza este método. Es una especie método \"avancen\", se aplica cada minuto.\n",
    "    def actualizar_pistas(self):\n",
    "        \n",
    "        for llave in self.id_autos.keys():                     \n",
    "            auto_actual = self.id_autos[llave]\n",
    "            #Si es el primer auto este avanza nomas...\n",
    "            \n",
    "            if llave == 1:\n",
    "                posicion_ahora = auto_actual.pos_actual()\n",
    "                self.pista_derecha[posicion_ahora] = llave      \n",
    "            \n",
    "            #OJO: Se supone que solo se puede topar con el auto de al frente!!!\n",
    "            else:\n",
    "                auto_adelante = self.id_autos[llave - 1]\n",
    "                #Si tengo un auto justo al frente y no hay autos a la izquierda... adelanto. Reviso los posibles casos.\n",
    "                if auto_adelante.posicion_actual <= auto_actual.pos_actual() and self.pista_izquierda[auto_actual.posicion_actual] == 0 and auto_actual.pista_actual == \"derecha\":\n",
    "                    auto_actual.adelantar(auto_adelante)\n",
    "                    if auto_actual.pista_actual == \"izquierda\": #Si efectivamente adelanta...\n",
    "                        self.pista_izquierda[self._id] = auto_actual.posicion_actual\n",
    "                        #Sigue en la pista izquierda avanzando.\n",
    "                        if auto_actual.pos_actual() >= auto_adelante.posicion_actual and self.pista_izquierda[auto_actual.pos_actual()] == 0:\n",
    "                            auto_actual.pos_actual()\n",
    "                \n",
    "                elif auto_adelante.posicion_actual <= auto_actual.pos_actual() and self.pista_izquierda[auto_actual.posicion_actual] == 0 and auto_actual.pista_actual == \"izquierda\":\n",
    "                    #Caso en que va en la pista izquierda, pero se topa al auto de al frente adelantando. No alcance a hacerla, perdón!\n",
    "                    pass\n",
    "                \n",
    "                elif auto_adelante.posicion_actual > auto_actual.pos_actual() and self.pista_izquierda[auto_actual.posicion_actual] == 0 and auto_actual.pista_actual == \"izquierda\":\n",
    "                    auto_actual.vuelvo()                                           \n",
    "                else:\n",
    "                    auto_actual.pos_actual() #Auto avanza nomas.\n",
    "                \n",
    "            \n",
    "            \n",
    "            \n",
    "            \n",
    "            \n",
    "            \n",
    "            \n",
    "            \n",
    "        \n",
    "       \n",
    "            \n",
    "        \n",
    "\n",
    "\n",
    "\n",
    "        \n",
    "        "
   ]
  }
 ],
 "metadata": {
  "kernelspec": {
   "display_name": "Python 3",
   "language": "python",
   "name": "python3"
  },
  "language_info": {
   "codemirror_mode": {
    "name": "ipython",
    "version": 3
   },
   "file_extension": ".py",
   "mimetype": "text/x-python",
   "name": "python",
   "nbconvert_exporter": "python",
   "pygments_lexer": "ipython3",
   "version": "3.6.4"
  }
 },
 "nbformat": 4,
 "nbformat_minor": 4
}
