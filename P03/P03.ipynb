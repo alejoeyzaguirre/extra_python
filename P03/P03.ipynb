{
 "cells": [
  {
   "cell_type": "markdown",
   "metadata": {},
   "source": [
    "# Actividad Práctica 03:\n",
    "\n",
    "José Alejo Eyzaguirre"
   ]
  },
  {
   "cell_type": "code",
   "execution_count": null,
   "metadata": {},
   "outputs": [],
   "source": [
    "import sqlite3"
   ]
  },
  {
   "cell_type": "code",
   "execution_count": null,
   "metadata": {},
   "outputs": [],
   "source": [
    "conexion = sqlite3.connect('nba.sqlite')\n",
    "\n",
    "cursorx = conexion.cursor()"
   ]
  },
  {
   "cell_type": "markdown",
   "metadata": {},
   "source": [
    "## MISIÓN 1: SQL\n",
    "\n",
    "En los siguientes cuadros, se procede a definir la consulta inicial. En esta se trató de desagregar el problema en distintos pequeños problemas. De esta forma se pudo dividir primero el problema de agrupar los jugadores por equipo y luego por edad en orden descendiente, para ello se utilizó la siguiente consulta:\n"
   ]
  },
  {
   "cell_type": "code",
   "execution_count": null,
   "metadata": {},
   "outputs": [],
   "source": [
    "sql_statement = 'SELECT * FROM (SELECT player,team,age, fouls FROM Stats S ORDER by age DESC) S order BY S.team'\n",
    "\n",
    "cursorx.execute(sql_statement)\n",
    "\n",
    "conexion.commit()\n",
    "\n",
    "cursorx.fetchall()"
   ]
  },
  {
   "cell_type": "markdown",
   "metadata": {},
   "source": [
    "Luego llegué a un punto insuperable de como poder filtrar a los 5 jugadores más viejos por equipo, tanto así que publiqué mi primera issue para obtener la respuesta... buscando en internet encontré por mi cuenta el siguiente link http://www.silota.com/docs/recipes/sql-top-n-group.html que la verdad me vino como anillo al dedo. Aplicando el código a nuestra base de datos pude obtener lo que se pedía. Sin embargo, en un computador en particular (MAC) no me funcionó el código, pero después de probar varias veces, utilicé otro computador (Windows) y el programa me corrió perfectamente, por si no les funciona, prueben con otro computador :)."
   ]
  },
  {
   "cell_type": "code",
   "execution_count": null,
   "metadata": {},
   "outputs": [],
   "source": [
    "sql_statement = '''SELECT team, SUM(fouls) AS FALTAS \n",
    "FROM \n",
    "(SELECT player, age, team, fouls, ROW_NUMBER() OVER (PARTITION BY team ORDER BY age DESC) AS ranking_edad\n",
    "FROM Stats) R \n",
    "WHERE R.ranking_edad <= 5 \n",
    "GROUP BY team \n",
    "ORDER BY FALTAS DESC LIMIT 5'''\n",
    "\n",
    "cursorx.execute(sql_statement)\n",
    "\n",
    "conexion.commit()"
   ]
  },
  {
   "cell_type": "code",
   "execution_count": null,
   "metadata": {},
   "outputs": [],
   "source": [
    "cursorx.fetchall()"
   ]
  },
  {
   "cell_type": "markdown",
   "metadata": {},
   "source": [
    "## MISIÓN 1: PYTHON\n",
    "\n",
    "Esta misma pregunta quise responderla con Python, dado que la entendí bastante bien, dado que me la estuve cabeceando bastante rato... Para extraer los datos iniciales que voy a usar utilizo una consulta de SQL."
   ]
  },
  {
   "cell_type": "code",
   "execution_count": null,
   "metadata": {},
   "outputs": [],
   "source": [
    "import collections"
   ]
  },
  {
   "cell_type": "code",
   "execution_count": null,
   "metadata": {},
   "outputs": [],
   "source": [
    "datos = cursorx.execute(\"SELECT * FROM Stats\")"
   ]
  },
  {
   "cell_type": "code",
   "execution_count": null,
   "metadata": {},
   "outputs": [],
   "source": [
    "data = []\n",
    "\n",
    "for elem in datos.fetchall():\n",
    "    data.append(elem)\n",
    "\n",
    "#print(data)"
   ]
  },
  {
   "cell_type": "markdown",
   "metadata": {},
   "source": [
    "Solo importo los datos de la tabla Stats porque solo tengo que usar esos...! Primero creo un diccionario con cada uno de los equipos."
   ]
  },
  {
   "cell_type": "code",
   "execution_count": null,
   "metadata": {},
   "outputs": [],
   "source": [
    "diccionario = {}\n",
    "\n",
    "for i in range(len(data)):\n",
    "    diccionario[data[i][4]] = 0\n",
    "    \n",
    "#print(diccionario)  \n",
    "\n",
    "diccionario2 = diccionario"
   ]
  },
  {
   "cell_type": "markdown",
   "metadata": {},
   "source": [
    "Luego agrego a mi diccionario con llave el equipo, una lista de tuplas compuesta cada una por la edad y por los fouls cometidos por cada jugador."
   ]
  },
  {
   "cell_type": "code",
   "execution_count": null,
   "metadata": {},
   "outputs": [],
   "source": [
    "from operator import itemgetter\n",
    "\n",
    "for i in diccionario.keys():\n",
    "    equipo = i   \n",
    "    jugadores_ordenados = []\n",
    "    \n",
    "    for j in range(len(data)):\n",
    "        if data[j][4] == equipo:\n",
    "            edad = int(data[j][3])\n",
    "            fouls = int(data[j][14])\n",
    "            jugadores_ordenados.append([edad, fouls])\n",
    "    \n",
    "    #print(jugadores_ordenados)\n",
    "    #print(jugadores_ordenados[0][1]+jugadores_ordenados[1][1])\n",
    "            \n",
    "    ordenada = sorted(jugadores_ordenados, key=itemgetter(0), reverse = True)\n",
    "    \n",
    "    diccionario[equipo] = ordenada\n",
    "    \n",
    "    fouls_totales_viejos = 0\n",
    "    \n",
    "    for i in range(len(ordenada)):\n",
    "        if i <5:\n",
    "            fouls_totales_viejos += ordenada[i][1]\n",
    "\n",
    "    diccionario2[equipo] = fouls_totales_viejos\n",
    "    \n",
    "    \n",
    "    \n",
    "            \n",
    "            \n",
    "        \n",
    "            \n",
    "#print(diccionario)\n",
    "#print(diccionario2)\n",
    "\n"
   ]
  },
  {
   "cell_type": "markdown",
   "metadata": {},
   "source": [
    "Ahora tengo en mi diccionario2, un dict que tiene por llaves los equipos y valores los fouls cometidos por los 5 jugadores más viejos de cada equipo."
   ]
  },
  {
   "cell_type": "markdown",
   "metadata": {},
   "source": [
    "Ahora solo me falta seleccionar los 5 equipos con viejos fouleros."
   ]
  },
  {
   "cell_type": "code",
   "execution_count": null,
   "metadata": {},
   "outputs": [],
   "source": [
    "lista_final = []\n",
    "\n",
    "for elem in diccionario2.keys():\n",
    "    lista_final.append([elem, diccionario2[elem]])\n",
    "\n",
    "    \n",
    "orden = sorted(lista_final, key=itemgetter(1), reverse = True)\n",
    "#print(orden)\n",
    "\n",
    "for elem in range(5):\n",
    "    equipo = orden[elem][0]\n",
    "    fouls = orden[elem][1]\n",
    "    print(equipo, fouls)\n"
   ]
  },
  {
   "cell_type": "code",
   "execution_count": null,
   "metadata": {},
   "outputs": [],
   "source": [
    "conexion.close()"
   ]
  }
 ],
 "metadata": {
  "kernelspec": {
   "display_name": "Python 3",
   "language": "python",
   "name": "python3"
  },
  "language_info": {
   "codemirror_mode": {
    "name": "ipython",
    "version": 3
   },
   "file_extension": ".py",
   "mimetype": "text/x-python",
   "name": "python",
   "nbconvert_exporter": "python",
   "pygments_lexer": "ipython3",
   "version": "3.6.4"
  }
 },
 "nbformat": 4,
 "nbformat_minor": 4
}
