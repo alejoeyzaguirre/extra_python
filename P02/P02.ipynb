{
 "cells": [
  {
   "cell_type": "markdown",
   "metadata": {},
   "source": [
    "# Actividad P02\n",
    "Entregar Lunes 14 de septiembre de 2020 hasta las **23:59**"
   ]
  },
  {
   "cell_type": "markdown",
   "metadata": {},
   "source": [
    "- **Nombre:** José Alejo Eyzaguirre Ercilla\n",
    "- **GitHub:** alejoeyzaguirre"
   ]
  },
  {
   "cell_type": "code",
   "execution_count": 1,
   "metadata": {},
   "outputs": [
    {
     "ename": "ModuleNotFoundError",
     "evalue": "No module named 'P02_Lib'",
     "output_type": "error",
     "traceback": [
      "\u001b[0;31m---------------------------------------------------------------------------\u001b[0m",
      "\u001b[0;31mModuleNotFoundError\u001b[0m                       Traceback (most recent call last)",
      "\u001b[0;32m<ipython-input-1-8b750a4d3843>\u001b[0m in \u001b[0;36m<module>\u001b[0;34m\u001b[0m\n\u001b[1;32m      1\u001b[0m \u001b[0;31m# Ubica tus importaciones\u001b[0m\u001b[0;34m\u001b[0m\u001b[0;34m\u001b[0m\u001b[0m\n\u001b[0;32m----> 2\u001b[0;31m \u001b[0;32mimport\u001b[0m \u001b[0mP02_Lib\u001b[0m \u001b[0;32mas\u001b[0m \u001b[0mP02\u001b[0m\u001b[0;34m\u001b[0m\u001b[0m\n\u001b[0m",
      "\u001b[0;31mModuleNotFoundError\u001b[0m: No module named 'P02_Lib'"
     ]
    }
   ],
   "source": [
    "# Ubica tus importaciones\n",
    "import P02_Lib as P02\n"
   ]
  },
  {
   "cell_type": "code",
   "execution_count": 2,
   "metadata": {
    "scrolled": true
   },
   "outputs": [
    {
     "ename": "NameError",
     "evalue": "name 'P02' is not defined",
     "output_type": "error",
     "traceback": [
      "\u001b[0;31m---------------------------------------------------------------------------\u001b[0m",
      "\u001b[0;31mNameError\u001b[0m                                 Traceback (most recent call last)",
      "\u001b[0;32m<ipython-input-2-579830a2e73c>\u001b[0m in \u001b[0;36m<module>\u001b[0;34m\u001b[0m\n\u001b[1;32m      1\u001b[0m \u001b[0;31m# Lee una red disponible\u001b[0m\u001b[0;34m\u001b[0m\u001b[0;34m\u001b[0m\u001b[0m\n\u001b[1;32m      2\u001b[0m \u001b[0marchivo_red\u001b[0m \u001b[0;34m=\u001b[0m \u001b[0;34m'red_ejemplo.txt'\u001b[0m\u001b[0;34m\u001b[0m\u001b[0m\n\u001b[0;32m----> 3\u001b[0;31m \u001b[0mred\u001b[0m \u001b[0;34m=\u001b[0m \u001b[0mP02\u001b[0m\u001b[0;34m.\u001b[0m\u001b[0mleer_red\u001b[0m\u001b[0;34m(\u001b[0m\u001b[0marchivo_red\u001b[0m\u001b[0;34m)\u001b[0m\u001b[0;34m\u001b[0m\u001b[0m\n\u001b[0m\u001b[1;32m      4\u001b[0m \u001b[0;34m\u001b[0m\u001b[0m\n\u001b[1;32m      5\u001b[0m \u001b[0mred_big_archivo\u001b[0m \u001b[0;34m=\u001b[0m \u001b[0;34m\"red_grande.txt\"\u001b[0m\u001b[0;34m\u001b[0m\u001b[0m\n",
      "\u001b[0;31mNameError\u001b[0m: name 'P02' is not defined"
     ]
    }
   ],
   "source": [
    "# Lee una red disponible\n",
    "archivo_red = 'red_ejemplo.txt'\n",
    "red = P02.leer_red(archivo_red)\n",
    "\n",
    "red_big_archivo = \"red_grande.txt\"\n",
    "red_grande = P02.leer_red(red_big_archivo)\n",
    "\n",
    "## Recuerda que la variable red es una lista de formato [lista_nodos, lista_arcos]"
   ]
  },
  {
   "cell_type": "code",
   "execution_count": null,
   "metadata": {},
   "outputs": [],
   "source": []
  },
  {
   "cell_type": "markdown",
   "metadata": {},
   "source": [
    "### Función 1:\n",
    "\n",
    "Esta función recibe la red, y señala que nodos son los que tienen bluetooth. Retorna un set, que contiene los nodos con bluetooth."
   ]
  },
  {
   "cell_type": "code",
   "execution_count": 3,
   "metadata": {},
   "outputs": [],
   "source": [
    "def con_bluetooth(red):\n",
    "    lista_nodos = red[0]\n",
    "    bolsa = set()\n",
    "    for nodo in lista_nodos:\n",
    "        if nodo[1] == 1:\n",
    "            bolsa.add(nodo[0])\n",
    "    return bolsa"
   ]
  },
  {
   "cell_type": "markdown",
   "metadata": {},
   "source": [
    "## Función 2:\n",
    "\n",
    "Esta función recibe dos nodos, y señala si es posible conectarlos entre sí (conectarlos). Esto dependerá de si hay un sensor de bluetooth en el camino o no...\n",
    "\n",
    "Antes de crear la función se crea la clase Nodo, con el objetivo de poder elaborar un grafo. Para crear esta clase, me apego bastante a el grafo que se crea en el material de clases del capítulo 2 (05-Grafos). Cada nodo tiene una letra, un indicador de si tiene sensor de bluetooth o no, y una lista que indica las conexiones que tiene **hacia** otros nodos.\n",
    "\n",
    "Luego se crea la clase `nodicemos` , que permite a partir de una tupla como las que se ubican en la `lista_nodos`, y los convierte en nodos (cada tupla pasa a ser una instancia de la clase nodo). Luego se recopilan todos los nodos en un defaultdict con la función `recopilacion_nodos`, finalmente se agregan las conexiones respectivas, a cada elemento del diccionario; es decir, a cada nodo, con la función `agregado de conexiones`."
   ]
  },
  {
   "cell_type": "code",
   "execution_count": 4,
   "metadata": {},
   "outputs": [
    {
     "ename": "NameError",
     "evalue": "name 'red' is not defined",
     "output_type": "error",
     "traceback": [
      "\u001b[0;31m---------------------------------------------------------------------------\u001b[0m",
      "\u001b[0;31mNameError\u001b[0m                                 Traceback (most recent call last)",
      "\u001b[0;32m<ipython-input-4-d34fcbffa0a9>\u001b[0m in \u001b[0;36m<module>\u001b[0;34m\u001b[0m\n\u001b[1;32m     40\u001b[0m     \u001b[0;32mreturn\u001b[0m \u001b[0mdf1\u001b[0m\u001b[0;34m\u001b[0m\u001b[0m\n\u001b[1;32m     41\u001b[0m \u001b[0;34m\u001b[0m\u001b[0m\n\u001b[0;32m---> 42\u001b[0;31m \u001b[0mdf1\u001b[0m \u001b[0;34m=\u001b[0m \u001b[0mrecopilacion_nodos\u001b[0m\u001b[0;34m(\u001b[0m\u001b[0mred\u001b[0m\u001b[0;34m)\u001b[0m\u001b[0;34m\u001b[0m\u001b[0m\n\u001b[0m\u001b[1;32m     43\u001b[0m \u001b[0mdf1\u001b[0m \u001b[0;34m=\u001b[0m \u001b[0magregado_de_conexiones\u001b[0m\u001b[0;34m(\u001b[0m\u001b[0mdf1\u001b[0m\u001b[0;34m,\u001b[0m \u001b[0mred\u001b[0m\u001b[0;34m)\u001b[0m\u001b[0;34m\u001b[0m\u001b[0m\n\u001b[1;32m     44\u001b[0m \u001b[0;34m\u001b[0m\u001b[0m\n",
      "\u001b[0;31mNameError\u001b[0m: name 'red' is not defined"
     ]
    }
   ],
   "source": [
    "from collections import defaultdict as df\n",
    "\n",
    "#De la materia de clases.\n",
    "\n",
    "class Nodo:\n",
    "    def __init__(self, letra, bluetooth):\n",
    "        self.letra = letra\n",
    "        if bluetooth == 1:\n",
    "            self.bluetooth = 1\n",
    "        else:\n",
    "            self.bluetooth = 0\n",
    "        self.conexiones = []\n",
    "        \n",
    "    def add_vertex(self, letra):\n",
    "        self.conexiones.append(letra)\n",
    "        \n",
    "    def __repr__(self):\n",
    "        l = \"Node: {} / Bluetooth: {}\".format(self.letra, self.bluetooth)\n",
    "        if len(self.conexiones) > 0:\n",
    "            l += \"-> (\"+ \",\".join([c.__repr__() for c in self.conexiones]) + \") \\n\"\n",
    "        return l\n",
    "    \n",
    "\n",
    "def nodicemos(tupla):\n",
    "    nodo = Nodo(tupla[0], tupla[1])\n",
    "    return nodo \n",
    "\n",
    "#Creo un diccionario de los nodos, llave es self.letra\n",
    "        \n",
    "def recopilacion_nodos(red):\n",
    "    df1 = df(lambda: \"No está este nodo\")\n",
    "    for tupla in red[0]:\n",
    "        df1[tupla[0]] = nodicemos(tupla)       \n",
    "    return df1\n",
    "\n",
    "\n",
    "def agregado_de_conexiones(df1,red):\n",
    "    for padre, hijo in red[1]:\n",
    "        df1[padre].add_vertex(hijo)\n",
    "    return df1\n",
    "\n",
    "df1 = recopilacion_nodos(red)\n",
    "df1 = agregado_de_conexiones(df1, red)\n",
    "\n",
    "print(df1)"
   ]
  },
  {
   "cell_type": "code",
   "execution_count": 5,
   "metadata": {},
   "outputs": [
    {
     "name": "stdout",
     "output_type": "stream",
     "text": [
      "[1, 2]\n"
     ]
    }
   ],
   "source": [
    "lista = [1,2,3]\n",
    "lista = lista[:-1]\n",
    "print(lista)"
   ]
  },
  {
   "cell_type": "markdown",
   "metadata": {},
   "source": [
    "En el siguiente cuado se aplica la función pedida en el punto 2. Se implementó un algoritmo de backtracking (maravilloso <3), que permite señalar si es posible hacer una conexión entre dos nodos, sin pasar por un nodo con bluetooth. Para ello se definen las distintas funciones necesarias para poder implementar el backtracking `es_estado_solucion` y `es_estado_valido`. Estas dos se utilizan en la función 2 pedida que llamé `conexiones` (de la cual estoy muy orgulloso)."
   ]
  },
  {
   "cell_type": "code",
   "execution_count": 6,
   "metadata": {
    "scrolled": true
   },
   "outputs": [
    {
     "ename": "NameError",
     "evalue": "name 'df1' is not defined",
     "output_type": "error",
     "traceback": [
      "\u001b[0;31m---------------------------------------------------------------------------\u001b[0m",
      "\u001b[0;31mNameError\u001b[0m                                 Traceback (most recent call last)",
      "\u001b[0;32m<ipython-input-6-0645725d0003>\u001b[0m in \u001b[0;36m<module>\u001b[0;34m\u001b[0m\n\u001b[1;32m     47\u001b[0m     \u001b[0;32mreturn\u001b[0m \u001b[0mret\u001b[0m\u001b[0;34m\u001b[0m\u001b[0m\n\u001b[1;32m     48\u001b[0m \u001b[0;34m\u001b[0m\u001b[0m\n\u001b[0;32m---> 49\u001b[0;31m \u001b[0mprint\u001b[0m\u001b[0;34m(\u001b[0m\u001b[0mconexion_inicio\u001b[0m\u001b[0;34m(\u001b[0m\u001b[0mdf1\u001b[0m\u001b[0;34m[\u001b[0m\u001b[0;34m\"O\"\u001b[0m\u001b[0;34m]\u001b[0m\u001b[0;34m,\u001b[0m \u001b[0mdf1\u001b[0m\u001b[0;34m[\u001b[0m\u001b[0;34m\"T\"\u001b[0m\u001b[0;34m]\u001b[0m\u001b[0;34m,\u001b[0m \u001b[0mdf1\u001b[0m\u001b[0;34m)\u001b[0m\u001b[0;34m)\u001b[0m\u001b[0;34m\u001b[0m\u001b[0m\n\u001b[0m",
      "\u001b[0;31mNameError\u001b[0m: name 'df1' is not defined"
     ]
    }
   ],
   "source": [
    "#backtracking...\n",
    "\n",
    "def es_estado_solucion(actual, final):\n",
    "    #Significa que avanzando por el grafo conectamos con el nodo 2.\n",
    "    if actual.letra == final.letra:\n",
    "        #print(\"logrado\")\n",
    "        return True\n",
    "    \n",
    "def es_estado_valido(punto, final, camino):\n",
    "    lista = camino[:-1]\n",
    "    if len(camino) != 0:   \n",
    "        if punto not in lista and punto.bluetooth == 0 or punto == final:\n",
    "            return True\n",
    "        else:\n",
    "            return False\n",
    "    else:\n",
    "        return True\n",
    "    \n",
    "\n",
    "def conexion(actual, final, df1, camino):\n",
    "    \n",
    "    if not es_estado_valido(actual, final, camino):\n",
    "        #print(\"NO ES VALIDO\")\n",
    "        return False    \n",
    "    \n",
    "    if es_estado_solucion(actual, final):\n",
    "        return True\n",
    "    else:\n",
    "        #print(actual)\n",
    "        for hijo in actual.conexiones:\n",
    "            actualizado = df1[hijo]\n",
    "            #print(\"actualizado: \" +str(actualizado))\n",
    "            camino.append(actualizado)\n",
    "            #print(\"Camino: \" +str(camino))     \n",
    "            if conexion(actualizado, final, df1, camino):              \n",
    "                return True\n",
    "\n",
    "            else:\n",
    "                camino.pop()\n",
    "\n",
    "        return False\n",
    "    \n",
    "def conexion_inicio(actual, final, df1):\n",
    "    camino = []\n",
    "    ret = conexion(actual, final, df1, camino)\n",
    "    \n",
    "    return ret\n",
    "\n",
    "print(conexion_inicio(df1[\"O\"], df1[\"T\"], df1))"
   ]
  },
  {
   "cell_type": "markdown",
   "metadata": {},
   "source": [
    "## Función 3: \n",
    "\n",
    "La siguiente función permite iterar sobre toda la red y así poder encontrar los arcos de la red simplificada. Se crea inicialmente un set que contiene todos los nodos conectables con bluetooth, luego la función `itere` corre sobre estos nodos y genera todas las posibles combinaciones entre ellos (sin \"conectar\" dos nodos iguales), con permutations. Luego evalúa si es posible la conexión entre cada una de las conexiones de los nodos con bluetooth, y si es posible esta, se agrega la conexión dirigida a la lista aristas. Luego se crea una lista que entrega todos los nodos, con sus estado de bluetooth (1 o 0) y los agrega a la lista puntos. Finalmente retorna ambas listas juntas con el formato pedido...\n"
   ]
  },
  {
   "cell_type": "code",
   "execution_count": 7,
   "metadata": {},
   "outputs": [],
   "source": [
    "#Probando para que me puede servir la librería itertools...\n",
    "\n",
    "\n",
    "import itertools as it\n",
    "\n",
    "set_blutu = con_bluetooth(red)\n",
    "\n",
    "\n",
    "\n",
    "#Recibe un default_dict y el set_blutu que corresponde a todos los nodos que tienen bluetooth.\n",
    "def itere(nodos_con_bluetooth, dicc):\n",
    "    aristas = []\n",
    "    seteo = set()\n",
    "    for n1,n2 in it.permutations(nodos_con_bluetooth,2):\n",
    "        nodo_1 = dicc[n1]\n",
    "        nodo_2 = dicc[n2]\n",
    "        if conexion_inicio(nodo_1, nodo_2, dicc):\n",
    "            l1, l2 = nodo_1.letra, nodo_2.letra\n",
    "            aristas.append((l1,l2))\n",
    "            seteo.add(l1)\n",
    "            seteo.add(l2)\n",
    "                        \n",
    "    puntos = []\n",
    "    \n",
    "    for elem in seteo:\n",
    "        puntos.append((dicc[elem].letra, dicc[elem].bluetooth))\n",
    "    \n",
    "    lista_final = []\n",
    "    \n",
    "    lista_final.append(puntos)\n",
    "    lista_final.append(aristas)\n",
    "    \n",
    "    return lista_final\n",
    "            \n",
    "    \n",
    "\n"
   ]
  },
  {
   "cell_type": "code",
   "execution_count": 8,
   "metadata": {},
   "outputs": [
    {
     "data": {
      "text/plain": [
       "[[('D', 1), ('A', 1)], [('A', 'D')]]"
      ]
     },
     "execution_count": 8,
     "metadata": {},
     "output_type": "execute_result"
    }
   ],
   "source": [
    " def red_simplificada(red):\n",
    "    df1 = recopilacion_nodos(red)\n",
    "    df1 = agregado_de_conexiones(df1, red)\n",
    "    set_blutu = con_bluetooth(red)\n",
    "    return itere(set_blutu, df1)\n",
    "    \n",
    "red_simplificada(red)\n",
    "\n",
    "red2 = [[('A',1), ('B',0), ('C',0), ('D',1)], [('A', 'C'), ('C','D'), ('B','D'), ('B','A')]]\n",
    "\n",
    "red_simplificada(red2)\n",
    "     "
   ]
  },
  {
   "cell_type": "code",
   "execution_count": 9,
   "metadata": {},
   "outputs": [
    {
     "data": {
      "text/plain": [
       "[[('K', 1),\n",
       "  ('Z', 1),\n",
       "  ('V', 1),\n",
       "  ('S', 1),\n",
       "  ('AC', 1),\n",
       "  ('P', 1),\n",
       "  ('AH', 1),\n",
       "  ('Y', 1),\n",
       "  ('AF', 1),\n",
       "  ('J', 1),\n",
       "  ('R', 1),\n",
       "  ('M', 1),\n",
       "  ('AJ', 1),\n",
       "  ('A', 1),\n",
       "  ('W', 1),\n",
       "  ('T', 1),\n",
       "  ('H', 1),\n",
       "  ('F', 1),\n",
       "  ('O', 1),\n",
       "  ('C', 1),\n",
       "  ('E', 1),\n",
       "  ('G', 1),\n",
       "  ('AB', 1),\n",
       "  ('AA', 1)],\n",
       " [('K', 'P'),\n",
       "  ('K', 'Y'),\n",
       "  ('K', 'M'),\n",
       "  ('K', 'T'),\n",
       "  ('Z', 'V'),\n",
       "  ('V', 'P'),\n",
       "  ('V', 'Y'),\n",
       "  ('V', 'M'),\n",
       "  ('V', 'T'),\n",
       "  ('S', 'AJ'),\n",
       "  ('S', 'W'),\n",
       "  ('AC', 'S'),\n",
       "  ('AC', 'H'),\n",
       "  ('AC', 'AB'),\n",
       "  ('P', 'R'),\n",
       "  ('P', 'O'),\n",
       "  ('Y', 'Z'),\n",
       "  ('Y', 'AF'),\n",
       "  ('AH', 'Z'),\n",
       "  ('AH', 'AF'),\n",
       "  ('AF', 'AJ'),\n",
       "  ('AF', 'W'),\n",
       "  ('J', 'R'),\n",
       "  ('J', 'O'),\n",
       "  ('M', 'K'),\n",
       "  ('M', 'J'),\n",
       "  ('M', 'F'),\n",
       "  ('AJ', 'AC'),\n",
       "  ('A', 'C'),\n",
       "  ('A', 'G'),\n",
       "  ('W', 'Y'),\n",
       "  ('W', 'M'),\n",
       "  ('W', 'T'),\n",
       "  ('H', 'M'),\n",
       "  ('H', 'T'),\n",
       "  ('H', 'E'),\n",
       "  ('C', 'J'),\n",
       "  ('C', 'F'),\n",
       "  ('F', 'M'),\n",
       "  ('F', 'T'),\n",
       "  ('F', 'E'),\n",
       "  ('O', 'K'),\n",
       "  ('O', 'J'),\n",
       "  ('O', 'F'),\n",
       "  ('T', 'S'),\n",
       "  ('T', 'H'),\n",
       "  ('T', 'AB'),\n",
       "  ('E', 'C'),\n",
       "  ('E', 'G'),\n",
       "  ('G', 'H'),\n",
       "  ('G', 'AB'),\n",
       "  ('AB', 'AA'),\n",
       "  ('AA', 'AC')]]"
      ]
     },
     "execution_count": 9,
     "metadata": {},
     "output_type": "execute_result"
    }
   ],
   "source": [
    "red_simplificada(red_grande)"
   ]
  },
  {
   "cell_type": "code",
   "execution_count": null,
   "metadata": {},
   "outputs": [],
   "source": []
  }
 ],
 "metadata": {
  "kernelspec": {
   "display_name": "Python 3",
   "language": "python",
   "name": "python3"
  },
  "language_info": {
   "codemirror_mode": {
    "name": "ipython",
    "version": 3
   },
   "file_extension": ".py",
   "mimetype": "text/x-python",
   "name": "python",
   "nbconvert_exporter": "python",
   "pygments_lexer": "ipython3",
   "version": "3.6.4"
  }
 },
 "nbformat": 4,
 "nbformat_minor": 4
}
